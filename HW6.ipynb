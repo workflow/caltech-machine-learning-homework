{
 "cells": [
  {
   "cell_type": "markdown",
   "metadata": {},
   "source": [
    "# Caltech Machine Learning Homework # 6"
   ]
  },
  {
   "cell_type": "code",
   "execution_count": 1,
   "metadata": {},
   "outputs": [],
   "source": [
    "import numpy as np\n",
    "from sklearn.linear_model import Perceptron\n",
    "import random\n",
    "import math\n",
    "import matplotlib.pyplot as plt\n",
    "from typing import List\n",
    "from itertools import product\n",
    "import scipy.special\n",
    "from scipy import optimize\n",
    "import scipy.optimize as spo\n",
    "from sympy import Symbol, Derivative\n",
    "\n",
    "def dbg():\n",
    "    import pdb; pdb.set_trace()"
   ]
  },
  {
   "cell_type": "markdown",
   "metadata": {},
   "source": [
    "Instructions: https://work.caltech.edu/homework/hw6.pdf\n",
    "\n",
    "Answers: http://work.caltech.edu/homework/hw6_sol.pdf"
   ]
  },
  {
   "cell_type": "markdown",
   "metadata": {},
   "source": [
    "## Overfitting and Deterministic Noise"
   ]
  },
  {
   "cell_type": "markdown",
   "metadata": {},
   "source": [
    "![](imgs/overfitting.png)"
   ]
  },
  {
   "cell_type": "markdown",
   "metadata": {},
   "source": [
    "**[b]**"
   ]
  },
  {
   "cell_type": "markdown",
   "metadata": {},
   "source": [
    "## Regularization with Weight Decay"
   ]
  },
  {
   "cell_type": "markdown",
   "metadata": {},
   "source": [
    "![](imgs/regdecay1.png)"
   ]
  },
  {
   "cell_type": "code",
   "execution_count": 3,
   "metadata": {},
   "outputs": [
    {
     "name": "stdout",
     "output_type": "stream",
     "text": [
      "E_IN is 0.02857142857142857\n",
      "E_OUT is 0.084\n"
     ]
    }
   ],
   "source": [
    "train = np.loadtxt('data/hw5/in.dta.txt')\n",
    "test = np.loadtxt('data/hw5/out.dta.txt')\n",
    "\n",
    "X_train = train[:,:-1]\n",
    "Y_train = train[:,2]\n",
    "N_train = X_train[:, 0].size\n",
    "\n",
    "X_test = test[:,:-1]\n",
    "Y_test = test[:,2]\n",
    "N_test = X_test[:, 0].size\n",
    "\n",
    "def theta(X):\n",
    "    assert(X.shape == (2,))\n",
    "    x1, x2 = X\n",
    "    return np.array([1, x1, x2, x1 * x1, x2 * x2, x1 * x2, np.abs(x1-x2), np.abs(x1+x2)])\n",
    "\n",
    "# Non-linear Transformation\n",
    "Z_train = np.apply_along_axis(theta, 1, X_train)\n",
    "Z_test = np.apply_along_axis(theta, 1, X_test)\n",
    "\n",
    "# Linear Regression\n",
    "X_dagger = np.dot(np.linalg.inv(np.dot(Z_train.T, Z_train)), Z_train.T)\n",
    "W = np.dot(X_dagger, Y_train)\n",
    "\n",
    "# In-sample Error\n",
    "preds_train = np.sign(np.dot(Z_train, W))\n",
    "E_IN = sum(preds_train != Y_train) / N_train\n",
    "\n",
    "# Out-of-sample Error\n",
    "preds_test = np.sign(np.dot(Z_test, W))\n",
    "E_OUT = sum(preds_test != Y_test) / N_test\n",
    "\n",
    "print(f\"E_IN is {E_IN}\")\n",
    "print(f\"E_OUT is {E_OUT}\")\n"
   ]
  },
  {
   "cell_type": "markdown",
   "metadata": {},
   "source": [
    "**[a]**"
   ]
  },
  {
   "cell_type": "markdown",
   "metadata": {},
   "source": [
    "![](imgs/regdecay2.png)"
   ]
  },
  {
   "cell_type": "code",
   "execution_count": 5,
   "metadata": {},
   "outputs": [
    {
     "name": "stdout",
     "output_type": "stream",
     "text": [
      "E_IN_REG is 0.02857142857142857\n",
      "E_OUT_REG is 0.08\n"
     ]
    }
   ],
   "source": [
    "k = -3\n",
    "lambd = 10 ** k\n",
    "\n",
    "# Linear Regression with Regularization\n",
    "X_dagger_reg = np.dot(np.linalg.inv(np.dot(Z_train.T, Z_train) + lambd * np.identity(W.size) ), Z_train.T)\n",
    "W_reg = np.dot(X_dagger_reg, Y_train)\n",
    "\n",
    "# In-sample Error\n",
    "preds_train_reg = np.sign(np.dot(Z_train, W_reg))\n",
    "E_IN_REG = sum(preds_train_reg != Y_train) / N_train\n",
    "\n",
    "# Out-of-sample Error\n",
    "preds_test_reg = np.sign(np.dot(Z_test, W_reg))\n",
    "E_OUT_REG = sum(preds_test_reg != Y_test) / N_test\n",
    "\n",
    "print(f\"E_IN_REG is {E_IN_REG}\")\n",
    "print(f\"E_OUT_REG is {E_OUT_REG}\")"
   ]
  },
  {
   "cell_type": "markdown",
   "metadata": {},
   "source": [
    "Not much happening here with that small a level of k"
   ]
  },
  {
   "cell_type": "markdown",
   "metadata": {},
   "source": [
    "**[d]**"
   ]
  },
  {
   "cell_type": "markdown",
   "metadata": {},
   "source": [
    "![](imgs/regdecay3.png)"
   ]
  },
  {
   "cell_type": "code",
   "execution_count": 7,
   "metadata": {},
   "outputs": [
    {
     "name": "stdout",
     "output_type": "stream",
     "text": [
      "E_IN_REG is 0.37142857142857144\n",
      "E_OUT_REG is 0.436\n"
     ]
    }
   ],
   "source": [
    "k = 3\n",
    "lambd = 10 ** k\n",
    "\n",
    "# Linear Regression with Regularization\n",
    "X_dagger_reg = np.dot(np.linalg.inv(np.dot(Z_train.T, Z_train) + lambd * np.identity(W.size) ), Z_train.T)\n",
    "W_reg = np.dot(X_dagger_reg, Y_train)\n",
    "\n",
    "# In-sample Error\n",
    "preds_train_reg = np.sign(np.dot(Z_train, W_reg))\n",
    "E_IN_REG = sum(preds_train_reg != Y_train) / N_train\n",
    "\n",
    "# Out-of-sample Error\n",
    "preds_test_reg = np.sign(np.dot(Z_test, W_reg))\n",
    "E_OUT_REG = sum(preds_test_reg != Y_test) / N_test\n",
    "\n",
    "print(f\"E_IN_REG is {E_IN_REG}\")\n",
    "print(f\"E_OUT_REG is {E_OUT_REG}\")"
   ]
  },
  {
   "cell_type": "markdown",
   "metadata": {},
   "source": [
    "**[e]**"
   ]
  },
  {
   "cell_type": "markdown",
   "metadata": {},
   "source": [
    "![](imgs/regdecay4.png)"
   ]
  },
  {
   "cell_type": "code",
   "execution_count": 10,
   "metadata": {},
   "outputs": [
    {
     "name": "stdout",
     "output_type": "stream",
     "text": [
      "[0.084, 0.056, 0.092, 0.124, 0.228]\n"
     ]
    }
   ],
   "source": [
    "def run_with_k(k):\n",
    "    lambd = 10 ** k\n",
    "    \n",
    "    # Linear Regression with Regularization\n",
    "    X_dagger_reg = np.dot(np.linalg.inv(np.dot(Z_train.T, Z_train) + lambd * np.identity(W.size) ), Z_train.T)\n",
    "    W_reg = np.dot(X_dagger_reg, Y_train)\n",
    "\n",
    "    # In-sample Error\n",
    "    preds_train_reg = np.sign(np.dot(Z_train, W_reg))\n",
    "    E_IN = sum(preds_train_reg != Y_train) / N_train\n",
    "\n",
    "    # Out-of-sample Error\n",
    "    preds_test_reg = np.sign(np.dot(Z_test, W_reg))\n",
    "    E_OUT = sum(preds_test_reg != Y_test) / N_test\n",
    "    \n",
    "    return E_OUT\n",
    "\n",
    "print([run_with_k(k)for k in range(-2,3)])"
   ]
  },
  {
   "cell_type": "markdown",
   "metadata": {},
   "source": [
    "Smallest `E_OUT` is $0.056$ at index `1`, so the answer is $k = -1$ **[d]**"
   ]
  },
  {
   "cell_type": "markdown",
   "metadata": {},
   "source": [
    "![](imgs/regdecay5.png)"
   ]
  },
  {
   "cell_type": "markdown",
   "metadata": {},
   "source": [
    "We know that $k=3$ is over-regularizing, and $k=-3$ is under-regularizing, so we can limit ourselves to the integer values between $-3$ and $3$:"
   ]
  },
  {
   "cell_type": "code",
   "execution_count": 16,
   "metadata": {},
   "outputs": [
    {
     "name": "stdout",
     "output_type": "stream",
     "text": [
      "[0.08, 0.084, 0.056, 0.092, 0.124, 0.228, 0.436]\n"
     ]
    }
   ],
   "source": [
    "print([run_with_k(k)for k in range(-3,4)])"
   ]
  },
  {
   "cell_type": "markdown",
   "metadata": {},
   "source": [
    "So the smallest E_OUT is indeed achieved at $k=-1$, and it's closest to answer **[b]**"
   ]
  },
  {
   "cell_type": "code",
   "execution_count": null,
   "metadata": {},
   "outputs": [],
   "source": []
  }
 ],
 "metadata": {
  "kernelspec": {
   "display_name": "Python3 - python",
   "language": "python",
   "name": "ipython_python"
  },
  "language_info": {
   "codemirror_mode": {
    "name": "ipython",
    "version": 3
   },
   "file_extension": ".py",
   "mimetype": "text/x-python",
   "name": "python",
   "nbconvert_exporter": "python",
   "pygments_lexer": "ipython3",
   "version": "3.7.7"
  }
 },
 "nbformat": 4,
 "nbformat_minor": 4
}
