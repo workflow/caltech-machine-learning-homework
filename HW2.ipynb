{
 "cells": [
  {
   "cell_type": "markdown",
   "metadata": {},
   "source": [
    "# Caltech Machine Learning Homework # 2"
   ]
  },
  {
   "cell_type": "code",
   "execution_count": 2,
   "metadata": {},
   "outputs": [],
   "source": [
    "import numpy as np\n",
    "import random\n",
    "import math\n",
    "import matplotlib.pyplot as plt\n",
    "from typing import List"
   ]
  },
  {
   "cell_type": "markdown",
   "metadata": {},
   "source": [
    "Instructions: https://work.caltech.edu/homework/hw2.pdf\n",
    "\n",
    "Answers: http://work.caltech.edu/homework/hw2_sol.pdf"
   ]
  },
  {
   "cell_type": "markdown",
   "metadata": {},
   "source": [
    "## Hoeffding Inequality"
   ]
  },
  {
   "cell_type": "markdown",
   "metadata": {},
   "source": [
    "![](imgs/hoeffding1.png)"
   ]
  },
  {
   "cell_type": "code",
   "execution_count": 34,
   "metadata": {},
   "outputs": [
    {
     "name": "stdout",
     "output_type": "stream",
     "text": [
      "[('c1', ['T', 'H', 'H', 'T', 'H', 'H', 'H', 'T', 'T', 'H']), ('c2', ['H', 'H', 'T', 'H', 'H', 'H', 'H', 'H', 'T', 'T']), ('c3', ['H', 'H', 'T', 'H', 'T', 'H', 'H', 'T', 'T', 'T']), ('c4', ['T', 'H', 'H', 'T', 'T', 'H', 'H', 'H', 'T', 'T']), ('c5', ['H', 'T', 'H', 'H', 'T', 'H', 'T', 'T', 'T', 'H']), ('c6', ['T', 'H', 'T', 'H', 'H', 'T', 'T', 'H', 'H', 'T']), ('c7', ['T', 'T', 'H', 'T', 'H', 'H', 'H', 'T', 'T', 'T']), ('c8', ['T', 'T', 'H', 'T', 'T', 'H', 'T', 'T', 'T', 'T']), ('c9', ['T', 'T', 'H', 'H', 'H', 'H', 'H', 'T', 'T', 'H']), ('c10', ['T', 'H', 'H', 'H', 'T', 'H', 'H', 'T', 'T', 'T'])]\n"
     ]
    }
   ],
   "source": [
    "N = 1000\n",
    "M = 10\n",
    "\n",
    "results = {}\n",
    "\n",
    "for n in range(N):\n",
    "    results[f'c{n+1}'] = [random.choice(['H', 'T']) for _ in range(M)] \n",
    "\n",
    "print(list(results.items())[:10])"
   ]
  },
  {
   "cell_type": "code",
   "execution_count": 35,
   "metadata": {},
   "outputs": [
    {
     "name": "stdout",
     "output_type": "stream",
     "text": [
      "c1 is ['T', 'H', 'H', 'T', 'H', 'H', 'H', 'T', 'T', 'H']\n",
      "c_rand is ['T', 'T', 'T', 'H', 'H', 'T', 'T', 'H', 'T', 'T']\n",
      "c_min is ['T', 'T', 'T', 'T', 'T', 'T', 'T', 'T', 'T', 'T']\n",
      "v1 is 0.6\n",
      "v_rand is 0.3\n",
      "v_min is 0.0\n"
     ]
    }
   ],
   "source": [
    "c1 = results['c1']\n",
    "print(f'c1 is {c1}')\n",
    "c_rand = results[random.choice(list(results.keys()))]\n",
    "print(f'c_rand is {c_rand}')\n",
    "\n",
    "c_min: List = []\n",
    "minFrequencyOfHeadsCounter = 10\n",
    "for key,tosses in results.items():\n",
    "    headsCount = tosses.count('H')\n",
    "    if (headsCount < minFrequencyOfHeadsCounter): \n",
    "        minFrequencyOfHeadsCounter = headsCount\n",
    "        c_min = tosses\n",
    "print(f'c_min is {c_min}')\n",
    "    \n",
    "v1 = c1.count('H')/10\n",
    "v_rand = c_rand.count('H')/10\n",
    "v_min = c_min.count('H')/10\n",
    "print(f'v1 is {v1}')\n",
    "print(f'v_rand is {v_rand}')\n",
    "print(f'v_min is {v_min}')"
   ]
  },
  {
   "cell_type": "markdown",
   "metadata": {},
   "source": [
    "Now run the whole thing 100,000 times"
   ]
  },
  {
   "cell_type": "code",
   "execution_count": 41,
   "metadata": {},
   "outputs": [
    {
     "name": "stdout",
     "output_type": "stream",
     "text": [
      "0\n",
      "1000\n",
      "2000\n",
      "3000\n",
      "4000\n",
      "5000\n",
      "6000\n",
      "7000\n",
      "8000\n",
      "9000\n",
      "10000\n",
      "11000\n",
      "12000\n",
      "13000\n",
      "14000\n",
      "15000\n",
      "16000\n",
      "17000\n",
      "18000\n",
      "19000\n",
      "20000\n",
      "21000\n",
      "22000\n",
      "23000\n",
      "24000\n",
      "25000\n",
      "26000\n",
      "27000\n",
      "28000\n",
      "29000\n",
      "30000\n",
      "31000\n",
      "32000\n",
      "33000\n",
      "34000\n",
      "35000\n",
      "36000\n",
      "37000\n",
      "38000\n",
      "39000\n",
      "40000\n",
      "41000\n",
      "42000\n",
      "43000\n",
      "44000\n",
      "45000\n",
      "46000\n",
      "47000\n",
      "48000\n",
      "49000\n",
      "50000\n",
      "51000\n",
      "52000\n",
      "53000\n",
      "54000\n",
      "55000\n",
      "56000\n",
      "57000\n",
      "58000\n",
      "59000\n",
      "60000\n",
      "61000\n",
      "62000\n",
      "63000\n",
      "64000\n",
      "65000\n",
      "66000\n",
      "67000\n",
      "68000\n",
      "69000\n",
      "70000\n",
      "71000\n",
      "72000\n",
      "73000\n",
      "74000\n",
      "75000\n",
      "76000\n",
      "77000\n",
      "78000\n",
      "79000\n",
      "80000\n",
      "81000\n",
      "82000\n",
      "83000\n",
      "84000\n",
      "85000\n",
      "86000\n",
      "87000\n",
      "88000\n",
      "89000\n",
      "90000\n",
      "91000\n",
      "92000\n",
      "93000\n",
      "94000\n",
      "95000\n",
      "96000\n",
      "97000\n",
      "98000\n",
      "99000\n",
      "Average value for v1 is 0.4993849999999978\n",
      "Average value for v_rand is 0.5002580000000052\n",
      "Average value for v_min is 0.03743899999997691\n"
     ]
    }
   ],
   "source": [
    "O = 100000\n",
    "\n",
    "v1: List[float] = []\n",
    "v_rand: List[float] = []\n",
    "v_min: List[float] = []\n",
    "\n",
    "for o in range(O):\n",
    "    print(o) if (o % 1000 == 0) else _\n",
    "    \n",
    "    results = {}\n",
    "    for n in range(N):\n",
    "        results[f'c{n+1}'] = [random.choice(['H', 'T']) for _ in range(M)] \n",
    "        \n",
    "    c1 = results['c1']\n",
    "    c_rand = results[random.choice(list(results.keys()))]\n",
    "\n",
    "    c_min: List = []\n",
    "    minFrequencyOfHeadsCounter = 10\n",
    "    for key,tosses in results.items():\n",
    "        headsCount = tosses.count('H')\n",
    "        if (headsCount < minFrequencyOfHeadsCounter): \n",
    "            minFrequencyOfHeadsCounter = headsCount\n",
    "            c_min = tosses\n",
    "\n",
    "    v1.append(c1.count('H')/10)\n",
    "    v_rand.append(c_rand.count('H')/10)\n",
    "    v_min.append(c_min.count('H')/10)\n",
    "    \n",
    "print(f'Average value for v1 is {sum(v1)/len(v1)}')\n",
    "print(f'Average value for v_rand is {sum(v_rand)/len(v_rand)}')\n",
    "print(f'Average value for v_min is {sum(v_min)/len(v_min)}')"
   ]
  },
  {
   "cell_type": "markdown",
   "metadata": {},
   "source": [
    "### 1. The average value of νmin is closest to:\n",
    "\n",
    "[a] 0\n",
    "\n",
    "[b] 0.01\n",
    "\n",
    "[c] 0.1\n",
    "\n",
    "[d] 0.5\n",
    "\n",
    "[e] 0.67"
   ]
  },
  {
   "cell_type": "markdown",
   "metadata": {},
   "source": [
    " <font color='green'>b</font>"
   ]
  },
  {
   "cell_type": "markdown",
   "metadata": {},
   "source": [
    "### 2. Which coin(s) has a distribution of ν that satisfies the (single-bin) Hoeffding Inequality?\n",
    "\n",
    "[a] c1 only\n",
    "\n",
    "[b] crand only\n",
    "\n",
    "[c] cmin only\n",
    "\n",
    "[d] c1 and crand\n",
    "\n",
    "[e] cmin and crand"
   ]
  },
  {
   "cell_type": "markdown",
   "metadata": {},
   "source": [
    "Let's generate the distributions again using numpy..."
   ]
  },
  {
   "cell_type": "code",
   "execution_count": 14,
   "metadata": {},
   "outputs": [],
   "source": [
    "v1_s = []\n",
    "v_rand_s = []\n",
    "v_min_s = []\n",
    "\n",
    "for i in range(100000):\n",
    "    # 1 for heads, 0 for tails\n",
    "    coins = np.random.randint(0, 1+1, [1000, 10])\n",
    "    c1 = coins[0,:]\n",
    "    c_rand = coins[np.random.randint(0, 1000),:]\n",
    "    c_min = coins[np.argmin(np.sum(coins, axis=1)),:]\n",
    "\n",
    "    v1_s.append(np.mean(c1))\n",
    "    v_rand_s.append(np.mean(c_rand))\n",
    "    v_min_s.append(np.mean(c_min))"
   ]
  },
  {
   "cell_type": "markdown",
   "metadata": {},
   "source": [
    "Plot that"
   ]
  },
  {
   "cell_type": "code",
   "execution_count": 15,
   "metadata": {},
   "outputs": [
    {
     "data": {
      "image/png": "[encoded data removed]",
      "text/plain": [
       "<Figure size 432x288 with 1 Axes>"
      ]
     },
     "metadata": {
      "needs_background": "light"
     },
     "output_type": "display_data"
    },
    {
     "data": {
      "image/png": "[encoded data removed]",
      "text/plain": [
       "<Figure size 432x288 with 1 Axes>"
      ]
     },
     "metadata": {
      "needs_background": "light"
     },
     "output_type": "display_data"
    },
    {
     "data": {
      "image/png": "[encoded data removed]",
      "text/plain": [
       "<Figure size 432x288 with 1 Axes>"
      ]
     },
     "metadata": {
      "needs_background": "light"
     },
     "output_type": "display_data"
    }
   ],
   "source": [
    "plt.hist(v1_s, bins=np.linspace(0, 10, 11)/10)\n",
    "plt.title(\"v1 distribution\")\n",
    "plt.show()\n",
    "\n",
    "plt.hist(v_rand_s, bins=np.linspace(0, 10, 11)/10)\n",
    "plt.title(\"v_rand distribution\")\n",
    "plt.show()\n",
    "\n",
    "plt.hist(v_min_s, bins=np.linspace(0, 10, 11)/10)\n",
    "plt.title(\"v_min distribution\")\n",
    "plt.show()"
   ]
  },
  {
   "cell_type": "markdown",
   "metadata": {},
   "source": [
    "For c1...."
   ]
  },
  {
   "cell_type": "code",
   "execution_count": 15,
   "metadata": {},
   "outputs": [],
   "source": [
    "epsilon = 0.5"
   ]
  },
  {
   "cell_type": "code",
   "execution_count": 16,
   "metadata": {},
   "outputs": [
    {
     "data": {
      "text/plain": [
       "0.013475893998170934"
      ]
     },
     "execution_count": 16,
     "metadata": {},
     "output_type": "execute_result"
    }
   ],
   "source": [
    "rightSideHoeffding = 2*math.exp(-2*10*(epsilon**2))\n",
    "rightSideHoeffding"
   ]
  },
  {
   "cell_type": "code",
   "execution_count": null,
   "metadata": {},
   "outputs": [],
   "source": []
  }
 ],
 "metadata": {
  "kernelspec": {
   "display_name": "Python3 - python",
   "language": "python",
   "name": "ipython_python"
  },
  "language_info": {
   "codemirror_mode": {
    "name": "ipython",
    "version": 3
   },
   "file_extension": ".py",
   "mimetype": "text/x-python",
   "name": "python",
   "nbconvert_exporter": "python",
   "pygments_lexer": "ipython3",
   "version": "3.7.7"
  }
 },
 "nbformat": 4,
 "nbformat_minor": 4
}
