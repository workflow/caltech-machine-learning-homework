{
 "cells": [
  {
   "cell_type": "markdown",
   "metadata": {},
   "source": [
    "# Caltech Machine Learning Homework # 2"
   ]
  },
  {
   "cell_type": "code",
   "execution_count": 2,
   "metadata": {},
   "outputs": [],
   "source": [
    "import numpy as np\n",
    "from sklearn.linear_model import LinearRegression\n",
    "import random\n",
    "import math\n",
    "import matplotlib.pyplot as plt\n",
    "from typing import List"
   ]
  },
  {
   "cell_type": "markdown",
   "metadata": {},
   "source": [
    "Instructions: https://work.caltech.edu/homework/hw2.pdf\n",
    "\n",
    "Answers: http://work.caltech.edu/homework/hw2_sol.pdf"
   ]
  },
  {
   "cell_type": "markdown",
   "metadata": {},
   "source": [
    "## Hoeffding Inequality"
   ]
  },
  {
   "cell_type": "markdown",
   "metadata": {},
   "source": [
    "![](imgs/hoeffding1.png)"
   ]
  },
  {
   "cell_type": "code",
   "execution_count": 34,
   "metadata": {},
   "outputs": [
    {
     "name": "stdout",
     "output_type": "stream",
     "text": [
      "[('c1', ['T', 'H', 'H', 'T', 'H', 'H', 'H', 'T', 'T', 'H']), ('c2', ['H', 'H', 'T', 'H', 'H', 'H', 'H', 'H', 'T', 'T']), ('c3', ['H', 'H', 'T', 'H', 'T', 'H', 'H', 'T', 'T', 'T']), ('c4', ['T', 'H', 'H', 'T', 'T', 'H', 'H', 'H', 'T', 'T']), ('c5', ['H', 'T', 'H', 'H', 'T', 'H', 'T', 'T', 'T', 'H']), ('c6', ['T', 'H', 'T', 'H', 'H', 'T', 'T', 'H', 'H', 'T']), ('c7', ['T', 'T', 'H', 'T', 'H', 'H', 'H', 'T', 'T', 'T']), ('c8', ['T', 'T', 'H', 'T', 'T', 'H', 'T', 'T', 'T', 'T']), ('c9', ['T', 'T', 'H', 'H', 'H', 'H', 'H', 'T', 'T', 'H']), ('c10', ['T', 'H', 'H', 'H', 'T', 'H', 'H', 'T', 'T', 'T'])]\n"
     ]
    }
   ],
   "source": [
    "N = 1000\n",
    "M = 10\n",
    "\n",
    "results = {}\n",
    "\n",
    "for n in range(N):\n",
    "    results[f'c{n+1}'] = [random.choice(['H', 'T']) for _ in range(M)] \n",
    "\n",
    "print(list(results.items())[:10])"
   ]
  },
  {
   "cell_type": "code",
   "execution_count": 35,
   "metadata": {},
   "outputs": [
    {
     "name": "stdout",
     "output_type": "stream",
     "text": [
      "c1 is ['T', 'H', 'H', 'T', 'H', 'H', 'H', 'T', 'T', 'H']\n",
      "c_rand is ['T', 'T', 'T', 'H', 'H', 'T', 'T', 'H', 'T', 'T']\n",
      "c_min is ['T', 'T', 'T', 'T', 'T', 'T', 'T', 'T', 'T', 'T']\n",
      "v1 is 0.6\n",
      "v_rand is 0.3\n",
      "v_min is 0.0\n"
     ]
    }
   ],
   "source": [
    "c1 = results['c1']\n",
    "print(f'c1 is {c1}')\n",
    "c_rand = results[random.choice(list(results.keys()))]\n",
    "print(f'c_rand is {c_rand}')\n",
    "\n",
    "c_min: List = []\n",
    "minFrequencyOfHeadsCounter = 10\n",
    "for key,tosses in results.items():\n",
    "    headsCount = tosses.count('H')\n",
    "    if (headsCount < minFrequencyOfHeadsCounter): \n",
    "        minFrequencyOfHeadsCounter = headsCount\n",
    "        c_min = tosses\n",
    "print(f'c_min is {c_min}')\n",
    "    \n",
    "v1 = c1.count('H')/10\n",
    "v_rand = c_rand.count('H')/10\n",
    "v_min = c_min.count('H')/10\n",
    "print(f'v1 is {v1}')\n",
    "print(f'v_rand is {v_rand}')\n",
    "print(f'v_min is {v_min}')"
   ]
  },
  {
   "cell_type": "markdown",
   "metadata": {},
   "source": [
    "Now run the whole thing 100,000 times"
   ]
  },
  {
   "cell_type": "code",
   "execution_count": 41,
   "metadata": {},
   "outputs": [
    {
     "name": "stdout",
     "output_type": "stream",
     "text": [
      "0\n",
      "1000\n",
      "2000\n",
      "3000\n",
      "4000\n",
      "5000\n",
      "6000\n",
      "7000\n",
      "8000\n",
      "9000\n",
      "10000\n",
      "11000\n",
      "12000\n",
      "13000\n",
      "14000\n",
      "15000\n",
      "16000\n",
      "17000\n",
      "18000\n",
      "19000\n",
      "20000\n",
      "21000\n",
      "22000\n",
      "23000\n",
      "24000\n",
      "25000\n",
      "26000\n",
      "27000\n",
      "28000\n",
      "29000\n",
      "30000\n",
      "31000\n",
      "32000\n",
      "33000\n",
      "34000\n",
      "35000\n",
      "36000\n",
      "37000\n",
      "38000\n",
      "39000\n",
      "40000\n",
      "41000\n",
      "42000\n",
      "43000\n",
      "44000\n",
      "45000\n",
      "46000\n",
      "47000\n",
      "48000\n",
      "49000\n",
      "50000\n",
      "51000\n",
      "52000\n",
      "53000\n",
      "54000\n",
      "55000\n",
      "56000\n",
      "57000\n",
      "58000\n",
      "59000\n",
      "60000\n",
      "61000\n",
      "62000\n",
      "63000\n",
      "64000\n",
      "65000\n",
      "66000\n",
      "67000\n",
      "68000\n",
      "69000\n",
      "70000\n",
      "71000\n",
      "72000\n",
      "73000\n",
      "74000\n",
      "75000\n",
      "76000\n",
      "77000\n",
      "78000\n",
      "79000\n",
      "80000\n",
      "81000\n",
      "82000\n",
      "83000\n",
      "84000\n",
      "85000\n",
      "86000\n",
      "87000\n",
      "88000\n",
      "89000\n",
      "90000\n",
      "91000\n",
      "92000\n",
      "93000\n",
      "94000\n",
      "95000\n",
      "96000\n",
      "97000\n",
      "98000\n",
      "99000\n",
      "Average value for v1 is 0.4993849999999978\n",
      "Average value for v_rand is 0.5002580000000052\n",
      "Average value for v_min is 0.03743899999997691\n"
     ]
    }
   ],
   "source": [
    "O = 100000\n",
    "\n",
    "v1: List[float] = []\n",
    "v_rand: List[float] = []\n",
    "v_min: List[float] = []\n",
    "\n",
    "for o in range(O):\n",
    "    print(o) if (o % 1000 == 0) else _\n",
    "    \n",
    "    results = {}\n",
    "    for n in range(N):\n",
    "        results[f'c{n+1}'] = [random.choice(['H', 'T']) for _ in range(M)] \n",
    "        \n",
    "    c1 = results['c1']\n",
    "    c_rand = results[random.choice(list(results.keys()))]\n",
    "\n",
    "    c_min: List = []\n",
    "    minFrequencyOfHeadsCounter = 10\n",
    "    for key,tosses in results.items():\n",
    "        headsCount = tosses.count('H')\n",
    "        if (headsCount < minFrequencyOfHeadsCounter): \n",
    "            minFrequencyOfHeadsCounter = headsCount\n",
    "            c_min = tosses\n",
    "\n",
    "    v1.append(c1.count('H')/10)\n",
    "    v_rand.append(c_rand.count('H')/10)\n",
    "    v_min.append(c_min.count('H')/10)\n",
    "    \n",
    "print(f'Average value for v1 is {sum(v1)/len(v1)}')\n",
    "print(f'Average value for v_rand is {sum(v_rand)/len(v_rand)}')\n",
    "print(f'Average value for v_min is {sum(v_min)/len(v_min)}')"
   ]
  },
  {
   "cell_type": "markdown",
   "metadata": {},
   "source": [
    "### 1. The average value of νmin is closest to:\n",
    "\n",
    "[a] 0\n",
    "\n",
    "[b] 0.01\n",
    "\n",
    "[c] 0.1\n",
    "\n",
    "[d] 0.5\n",
    "\n",
    "[e] 0.67"
   ]
  },
  {
   "cell_type": "markdown",
   "metadata": {},
   "source": [
    " <font color='green'>b</font>"
   ]
  },
  {
   "cell_type": "markdown",
   "metadata": {},
   "source": [
    "### 2. Which coin(s) has a distribution of ν that satisfies the (single-bin) Hoeffding Inequality?\n",
    "\n",
    "[a] c1 only\n",
    "\n",
    "[b] crand only\n",
    "\n",
    "[c] cmin only\n",
    "\n",
    "[d] c1 and crand\n",
    "\n",
    "[e] cmin and crand"
   ]
  },
  {
   "cell_type": "markdown",
   "metadata": {},
   "source": [
    "Let's generate the distributions again using numpy..."
   ]
  },
  {
   "cell_type": "code",
   "execution_count": 14,
   "metadata": {},
   "outputs": [],
   "source": [
    "v1_s = []\n",
    "v_rand_s = []\n",
    "v_min_s = []\n",
    "\n",
    "for i in range(100000):\n",
    "    # 1 for heads, 0 for tails\n",
    "    coins = np.random.randint(0, 1+1, [1000, 10])\n",
    "    c1 = coins[0,:]\n",
    "    c_rand = coins[np.random.randint(0, 1000),:]\n",
    "    c_min = coins[np.argmin(np.sum(coins, axis=1)),:]\n",
    "\n",
    "    v1_s.append(np.mean(c1))\n",
    "    v_rand_s.append(np.mean(c_rand))\n",
    "    v_min_s.append(np.mean(c_min))"
   ]
  },
  {
   "cell_type": "markdown",
   "metadata": {},
   "source": [
    "Plot that"
   ]
  },
  {
   "cell_type": "code",
   "execution_count": 15,
   "metadata": {},
   "outputs": [
    {
     "data": {
      "image/png": "[encoded data removed]",
      "text/plain": [
       "<Figure size 432x288 with 1 Axes>"
      ]
     },
     "metadata": {
      "needs_background": "light"
     },
     "output_type": "display_data"
    },
    {
     "data": {
      "image/png": "[encoded data removed]",
      "text/plain": [
       "<Figure size 432x288 with 1 Axes>"
      ]
     },
     "metadata": {
      "needs_background": "light"
     },
     "output_type": "display_data"
    },
    {
     "data": {
      "image/png": "[encoded data removed]",
      "text/plain": [
       "<Figure size 432x288 with 1 Axes>"
      ]
     },
     "metadata": {
      "needs_background": "light"
     },
     "output_type": "display_data"
    }
   ],
   "source": [
    "plt.hist(v1_s, bins=np.linspace(0, 10, 11)/10)\n",
    "plt.title(\"v1 distribution\")\n",
    "plt.show()\n",
    "\n",
    "plt.hist(v_rand_s, bins=np.linspace(0, 10, 11)/10)\n",
    "plt.title(\"v_rand distribution\")\n",
    "plt.show()\n",
    "\n",
    "plt.hist(v_min_s, bins=np.linspace(0, 10, 11)/10)\n",
    "plt.title(\"v_min distribution\")\n",
    "plt.show()"
   ]
  },
  {
   "cell_type": "markdown",
   "metadata": {},
   "source": [
    "For c1...."
   ]
  },
  {
   "cell_type": "markdown",
   "metadata": {},
   "source": [
    "The requirement for Hoeffding's inequality to apply is that the underlying probability distribution must be binomial, hence the anser is"
   ]
  },
  {
   "cell_type": "markdown",
   "metadata": {},
   "source": [
    " <font color='green'>d</font>"
   ]
  },
  {
   "cell_type": "markdown",
   "metadata": {},
   "source": [
    "## Error and Noise"
   ]
  },
  {
   "cell_type": "markdown",
   "metadata": {},
   "source": [
    "![](imgs/error1.png)"
   ]
  },
  {
   "cell_type": "markdown",
   "metadata": {},
   "source": [
    "[a] µ\n",
    "\n",
    "[b] λ\n",
    "\n",
    "[c] 1-µ\n",
    "\n",
    "[d] (1 − λ) ∗ µ + λ ∗ (1 − µ)\n",
    "\n",
    "[e] (1 − λ) ∗ (1 − µ) + λ ∗ µ"
   ]
  },
  {
   "cell_type": "markdown",
   "metadata": {},
   "source": [
    "I stared at this for 30mins and couldn't figure it out, but this person did!\n",
    "\n",
    "https://github.com/homefish/edX_Learning_From_Data_2017/blob/master/homework_2/homework_2_problem_3_4_Error_and_Noise.ipynb\n",
    "\n",
    "![](imgs/error1_solution.png)"
   ]
  },
  {
   "cell_type": "markdown",
   "metadata": {},
   "source": [
    "### 4. At what value of λ will the performance of h be independent of µ?\n",
    "\n",
    "[a] 0\n",
    "\n",
    "[b] 0.5\n",
    "\n",
    "[c] 1/√2\n",
    "\n",
    "[d] 1\n",
    "\n",
    "[e] No values of λ"
   ]
  },
  {
   "cell_type": "markdown",
   "metadata": {},
   "source": [
    "Guessing `1` because it cancels the noise entirely, but let's see with some expansion..."
   ]
  },
  {
   "cell_type": "markdown",
   "metadata": {},
   "source": [
    "```\n",
    "\"Performance of h\" = P(error) = λ * µ + (1 - λ) * (1 - µ)\n",
    "    = λ * µ + 1 - µ - λ + λ * µ\n",
    "    = 2 * λ * µ - µ - λ + 1\n",
    "    = µ * ( 2 * λ - 1) - λ + 1\n",
    "```"
   ]
  },
  {
   "cell_type": "markdown",
   "metadata": {},
   "source": [
    "This cancels out `µ at λ = 0.5` so the correct answer should be"
   ]
  },
  {
   "cell_type": "markdown",
   "metadata": {},
   "source": [
    " <font color='green'>b</font>"
   ]
  },
  {
   "cell_type": "markdown",
   "metadata": {},
   "source": [
    "## Linear Regression"
   ]
  },
  {
   "cell_type": "markdown",
   "metadata": {},
   "source": [
    "![](imgs/linreg5.png)"
   ]
  },
  {
   "cell_type": "code",
   "execution_count": 6,
   "metadata": {},
   "outputs": [],
   "source": [
    "def set_axis_cartesian():\n",
    "    ax = plt.figure().add_subplot(1, 1, 1)\n",
    "    ax.spines['left'].set_position('center')\n",
    "    ax.spines['bottom'].set_position('center')\n",
    "    ax.spines['right'].set_color('none')\n",
    "    ax.spines['top'].set_color('none')\n",
    "    ax.xaxis.set_ticks_position('bottom')\n",
    "    ax.yaxis.set_ticks_position('left')\n",
    "    ax.set_xlim([-1, 1])\n",
    "    ax.set_ylim([-1, 1])"
   ]
  },
  {
   "cell_type": "code",
   "execution_count": 7,
   "metadata": {},
   "outputs": [
    {
     "name": "stdout",
     "output_type": "stream",
     "text": [
      "Random Point 1: [-0.63449134 -0.91330155]\n",
      "Random Point 2: [ 0.68327528 -0.03733402]\n",
      "0.6647364689458757\n",
      "-0.491532014452163\n"
     ]
    },
    {
     "data": {
      "image/png": "[encoded data removed]",
      "text/plain": [
       "<Figure size 432x288 with 1 Axes>"
      ]
     },
     "metadata": {
      "needs_background": "light"
     },
     "output_type": "display_data"
    }
   ],
   "source": [
    "p1 = np.random.uniform(-1, 1, size=2)\n",
    "p2 = np.random.uniform(-1, 1, size=2)\n",
    "\n",
    "print('Random Point 1:', p1)\n",
    "print('Random Point 2:', p2)\n",
    "\n",
    "set_axis_cartesian()\n",
    "\n",
    "plt.plot(p1[0], p1[1], 'go')\n",
    "plt.plot(p2[0], p2[1], 'mo')\n",
    "\n",
    "m = (p1[1] - p2[1]) / (p1[0] - p2[0])\n",
    "print(m)\n",
    "\n",
    "c = p1[1] - m*p1[0]\n",
    "print(c)\n",
    "\n",
    "x_axis = np.linspace(-1,1, 100)\n",
    "y_axis = m*(x_axis)+c\n",
    "plt.plot(x_axis, y_axis, 'r', label='f(x)')\n",
    "\n",
    "plt.title(f'Random Target Function f(x) = {m:.3f}x + {c:.3f}')\n",
    "plt.legend(loc='upper left')\n",
    "\n",
    "plt.show()"
   ]
  },
  {
   "cell_type": "code",
   "execution_count": 8,
   "metadata": {},
   "outputs": [
    {
     "data": {
      "text/plain": [
       "(100, 2)"
      ]
     },
     "execution_count": 8,
     "metadata": {},
     "output_type": "execute_result"
    }
   ],
   "source": [
    "N = 100\n",
    "x = np.random.uniform(-1, 1, size=(N,2))\n",
    "x.shape"
   ]
  },
  {
   "cell_type": "markdown",
   "metadata": {},
   "source": [
    "With `a` and `b` the polynomial coefficients, the side of the line that a point \"lands\" on is given by\n",
    "\n",
    "```\n",
    "sign(ax+by-d)\n",
    "```\n",
    "\n",
    "![Illustration](https://i.stack.imgur.com/5H6z3.png)\n",
    "\n",
    "...where we take being on the line exactly as 0, which will always be misclassified."
   ]
  },
  {
   "cell_type": "markdown",
   "metadata": {},
   "source": [
    "```\n",
    "y = mx + c\n",
    "mx - y = -c\n",
    "\n",
    "so to put it in the form ax + by = d\n",
    "```\n",
    "\n",
    "\n"
   ]
  },
  {
   "cell_type": "code",
   "execution_count": 12,
   "metadata": {},
   "outputs": [
    {
     "data": {
      "text/plain": [
       "(100,)"
      ]
     },
     "execution_count": 12,
     "metadata": {},
     "output_type": "execute_result"
    }
   ],
   "source": [
    "a = m\n",
    "b = -1\n",
    "d = -c\n",
    "def y_func(x:np.ndarray):\n",
    "    assert x.shape == (2,)\n",
    "    return np.sign(a*x[0]+b*x[1]-d).astype(int)\n",
    "\n",
    "y = np.apply_along_axis(y_func, 1, x)"
   ]
  },
  {
   "cell_type": "code",
   "execution_count": 14,
   "metadata": {},
   "outputs": [
    {
     "data": {
      "text/plain": [
       "0.605635503823847"
      ]
     },
     "execution_count": 14,
     "metadata": {},
     "output_type": "execute_result"
    }
   ],
   "source": [
    "model = LinearRegression().fit(x, y)\n",
    "model.score(x, y)"
   ]
  },
  {
   "cell_type": "code",
   "execution_count": 34,
   "metadata": {},
   "outputs": [
    {
     "data": {
      "text/plain": [
       "0.01"
      ]
     },
     "execution_count": 34,
     "metadata": {},
     "output_type": "execute_result"
    }
   ],
   "source": [
    "eIn = np.bincount(np.sign(model.predict(x)).astype(int) == y)[0] / len(x)\n",
    "eIn"
   ]
  },
  {
   "cell_type": "markdown",
   "metadata": {},
   "source": [
    "We now run the experiment 1000 times and keep track of the g's:"
   ]
  },
  {
   "cell_type": "code",
   "execution_count": 38,
   "metadata": {},
   "outputs": [
    {
     "data": {
      "text/plain": [
       "0.03890000000000007"
      ]
     },
     "execution_count": 38,
     "metadata": {},
     "output_type": "execute_result"
    }
   ],
   "source": [
    "M = 1000\n",
    "\n",
    "gs = []\n",
    "eIns = []\n",
    "\n",
    "for _ in range(M):\n",
    "    p1 = np.random.uniform(-1, 1, size=2)\n",
    "    p2 = np.random.uniform(-1, 1, size=2)\n",
    "    m = (p1[1] - p2[1]) / (p1[0] - p2[0])\n",
    "    c = p1[1] - m*p1[0]\n",
    "    x = np.random.uniform(-1, 1, size=(N,2))\n",
    "    a = m\n",
    "    b = -1\n",
    "    d = -c\n",
    "    \n",
    "    def y_func(x:np.ndarray):\n",
    "        assert x.shape == (2,)\n",
    "        return np.sign(a*x[0]+b*x[1]-d).astype(int)\n",
    "    y = np.apply_along_axis(y_func, 1, x)\n",
    "    \n",
    "    model = LinearRegression().fit(x, y)\n",
    "    gs.append(model)\n",
    "    \n",
    "    eIn = np.bincount(np.sign(model.predict(x)).astype(int) == y)[0] / len(x)\n",
    "    eIns.append(eIn)\n",
    "    \n",
    "sum(eIns) / M\n",
    "    \n",
    "    "
   ]
  },
  {
   "cell_type": "markdown",
   "metadata": {},
   "source": [
    "### 6. Now, generate 1000 fresh points and use them to estimate the out-of-sample\n",
    "error Eout of g that you got in Problem 5 (number of misclassified out-of-sample\n",
    "points / total number of out-of-sample points). Again, run the experiment 1000\n",
    "times and take the average. Which value is closest to the average Eout?\n",
    "\n",
    "[a] 0\n",
    "\n",
    "[b] 0.001\n",
    "\n",
    "[c] 0.01\n",
    "\n",
    "[d] 0.1\n",
    "\n",
    "[e] 0.5"
   ]
  },
  {
   "cell_type": "code",
   "execution_count": 40,
   "metadata": {},
   "outputs": [
    {
     "data": {
      "text/plain": [
       "0.04891599999999996"
      ]
     },
     "execution_count": 40,
     "metadata": {},
     "output_type": "execute_result"
    }
   ],
   "source": [
    "M = 1000\n",
    "eOuts = []\n",
    "\n",
    "for _ in range(M):\n",
    "    p1 = np.random.uniform(-1, 1, size=2)\n",
    "    p2 = np.random.uniform(-1, 1, size=2)\n",
    "    m = (p1[1] - p2[1]) / (p1[0] - p2[0])\n",
    "    c = p1[1] - m*p1[0]\n",
    "    x = np.random.uniform(-1, 1, size=(N,2))\n",
    "    a = m\n",
    "    b = -1\n",
    "    d = -c\n",
    "    \n",
    "    def y_func(x:np.ndarray):\n",
    "        assert x.shape == (2,)\n",
    "        return np.sign(a*x[0]+b*x[1]-d).astype(int)\n",
    "    y = np.apply_along_axis(y_func, 1, x)\n",
    "    \n",
    "    model = LinearRegression().fit(x, y)\n",
    "    \n",
    "    nFreshPoints = 1000\n",
    "    xFresh = np.random.uniform(-1, 1, size=(nFreshPoints, 2))\n",
    "    yFresh = np.apply_along_axis(y_func, 1, xFresh)\n",
    "    \n",
    "    eOut = np.bincount(np.sign(model.predict(xFresh)).astype(int) == yFresh)[0] / len(xFresh)\n",
    "    eOuts.append(eOut)\n",
    "    \n",
    "sum(eOuts) / M\n",
    "    "
   ]
  },
  {
   "cell_type": "markdown",
   "metadata": {},
   "source": [
    "![](imgs/linreg7.png)"
   ]
  },
  {
   "cell_type": "markdown",
   "metadata": {},
   "source": [
    "Let's use the \"dagger\" formula (pseudo-inverse) from the course this time!"
   ]
  },
  {
   "cell_type": "code",
   "execution_count": 48,
   "metadata": {},
   "outputs": [
    {
     "name": "stdout",
     "output_type": "stream",
     "text": [
      "Average runs until conversion for N=10 after 1000 runs: 1.106\n"
     ]
    }
   ],
   "source": [
    "N = 10\n",
    "M = 1000\n",
    "\n",
    "numIterationsList = []\n",
    "\n",
    "for _ in range(M):\n",
    "    p1 = np.random.uniform(-1, 1, size=2)\n",
    "    p2 = np.random.uniform(-1, 1, size=2)\n",
    "    m = (p1[1] - p2[1]) / (p1[0] - p2[0])\n",
    "    c = p1[1] - m*p1[0]\n",
    "    \n",
    "    # Writing the line as ax+by = d, the side of the line that a point lands on is given by sign(ax+by-d) (see diagram above)\n",
    "    # So we need the \"target function weights\" to be 1*c+mx-y\n",
    "    weightsForF = np.array([c, m, -1])\n",
    "    X = np.random.uniform(-1, 1, size=(N,2))\n",
    "    XWithBias = np.insert(x, 0, 1, axis=1)\n",
    "    Y = np.sign(np.dot(XWithBias, weightsForF))\n",
    "    \n",
    "    XDagger = np.dot(np.linalg.inv(np.dot(XWithBias.T, XWithBias)), XWithBias.T)\n",
    "    weightsFromLinearRegression = np.dot(XDagger, Y)\n",
    "\n",
    "\n",
    "    def g(point: np.ndarray, weights: np.ndarray) -> int:\n",
    "        assert point.shape == (3,)\n",
    "        assert weights.shape == (3,)\n",
    "        return np.sign( np.dot( np.transpose(weights), point ) ).astype(int)\n",
    "    def converges():\n",
    "        for i,point in enumerate(XWithBias):\n",
    "            assert point.shape == (3,)\n",
    "            if g(point, weightsFromLinearRegression) != Y[i]:\n",
    "                return False\n",
    "        numIterationsList.append(counter)\n",
    "        \n",
    "    counter = 0\n",
    "    while not converges():\n",
    "        counter += 1\n",
    "        correctNs = []\n",
    "        wrongNs = []\n",
    "        \n",
    "        # Split points into correctly and incorrectly classified\n",
    "        for n,point in enumerate(xWithBias):\n",
    "            if g(point,weightsFromLinearRegression) == y[n]:\n",
    "                correctNs.append(n)\n",
    "            else:\n",
    "                wrongNs.append(n)\n",
    "\n",
    "        # Pick an incorrectly classified point at random\n",
    "        if len(wrongNs) == 0: break\n",
    "        updateN = random.choice(wrongNs)\n",
    "\n",
    "        # Update its weight vector\n",
    "        for n,weight in enumerate(weightsFromLinearRegression):\n",
    "            weightsFromLinearRegression[n] = weightsFromLinearRegression[n] + y[updateN] * xWithBias[updateN][n]\n",
    "            \n",
    "print(f'Average runs until conversion for N={N} after {M} runs: {sum(numIterationsList)/M}')\n",
    "    "
   ]
  },
  {
   "cell_type": "markdown",
   "metadata": {},
   "source": [
    "![](imgs/nonlin.png)"
   ]
  },
  {
   "cell_type": "code",
   "execution_count": 37,
   "metadata": {},
   "outputs": [
    {
     "name": "stdout",
     "output_type": "stream",
     "text": [
      "first 10 X:\n",
      " [[ 0.11685552 -0.36001318]\n",
      " [-0.07361115 -0.11172873]\n",
      " [-0.51979655  0.39336959]\n",
      " [ 0.19358721 -0.4723319 ]\n",
      " [-0.28906105 -0.5414725 ]\n",
      " [ 0.51640034 -0.33860619]\n",
      " [-0.87571113 -0.07714285]\n",
      " [-0.44806933 -0.08505412]\n",
      " [ 0.79561502  0.26258231]\n",
      " [ 0.52455105  0.41543431]]\n"
     ]
    }
   ],
   "source": [
    "N = 1000\n",
    "\n",
    "X = np.random.uniform(-1, 1, size=(N,2))\n",
    "print(f'first 10 X:\\n {X[:10]}')"
   ]
  },
  {
   "cell_type": "markdown",
   "metadata": {},
   "source": [
    "### 8. Carry out Linear Regression without transformation, i.e., with feature vector:\n",
    "\n",
    "\n",
    "`(1, x1, x2)`\n",
    "\n",
    "to find the weight `w`.\n",
    "\n",
    "What is the closest value to the classification in-sample\n",
    "error `Ein`? \n",
    "\n",
    "(Run the experiment 1000 times and take the average `Ein` to reduce\n",
    "variation in your results.)\n",
    "\n",
    "[a] 0\n",
    "\n",
    "[b] 0.1\n",
    "\n",
    "[c] 0.3\n",
    "\n",
    "[d] 0.5\n",
    "\n",
    "[e] 0.8"
   ]
  },
  {
   "cell_type": "code",
   "execution_count": 4,
   "metadata": {},
   "outputs": [
    {
     "name": "stdout",
     "output_type": "stream",
     "text": [
      "First 10 Y: \n",
      " [ 1  1 -1 -1  1 -1 -1 -1 -1 -1]\n",
      "\n",
      "First 10 Y after applying some noise: \n",
      " [ 1  1 -1 -1  1 -1 -1 -1 -1 -1]\n",
      "(1000, 3)\n",
      "(3,)\n",
      "\n",
      "Estimated eIn is: 0.563\n"
     ]
    }
   ],
   "source": [
    "def f(x:np.ndarray):\n",
    "    assert x.shape == (2,)\n",
    "    return np.sign(x[0]**2+x[1]**2-0.6).astype(int)\n",
    "Y = np.apply_along_axis(f, 1, X)\n",
    "print(f'First 10 Y: \\n {Y[:10]}')\n",
    "\n",
    "# Simulate noise by flipping sign in random 10% of Y\n",
    "noisyIdxs = np.random.choice(N, int(N/10), replace=False)\n",
    "for i in noisyIdxs:\n",
    "    Y[i] = np.negative(Y[i])\n",
    "print(f'\\nFirst 10 Y after applying some noise: \\n {Y[:10]}')\n",
    "\n",
    "XWithBias = np.insert(X, 0, 1, axis=1)\n",
    "print(XWithBias.shape)\n",
    "\n",
    "# Let's apply linear regression\n",
    "XDagger = np.dot(np.linalg.inv(np.dot(XWithBias.T, XWithBias)), XWithBias.T)\n",
    "weightsFromLinearRegression = np.dot(XDagger, Y)\n",
    "print(weightsFromLinearRegression.shape)\n",
    "\n",
    "# Make predictions from our linear regression weights\n",
    "YPred = np.sign(np.dot(XWithBias, weightsFromLinearRegression))\n",
    "\n",
    "# And check how many we errorz\n",
    "eIn = sum(YPred != Y) / N\n",
    "print(f'\\nEstimated eIn is: {eIn}')\n"
   ]
  },
  {
   "cell_type": "markdown",
   "metadata": {},
   "source": [
    "Let's run the whole experiment 1000 times:"
   ]
  },
  {
   "cell_type": "code",
   "execution_count": 69,
   "metadata": {},
   "outputs": [
    {
     "name": "stdout",
     "output_type": "stream",
     "text": [
      "\n",
      "Estimated eIn avg after 1000 runs is: 0.5046549999999997\n"
     ]
    }
   ],
   "source": [
    "M = 1000\n",
    "\n",
    "eIns = []\n",
    "\n",
    "for _ in range(M):\n",
    "    X = np.random.uniform(-1, 1, size=(N,2))\n",
    "    def f(x:np.ndarray):\n",
    "        assert x.shape == (2,)\n",
    "        return np.sign(x[0]**2+x[1]**2-0.6).astype(int)\n",
    "    Y = np.apply_along_axis(f, 1, X)\n",
    "\n",
    "    # Simulate noise by flipping sign in random 10% of Y\n",
    "    noisyIdxs = np.random.choice(N, int(N/10), replace=False)\n",
    "    for i in noisyIdxs:\n",
    "        Y[i] = np.negative(Y[i])\n",
    "\n",
    "    XWithBias = np.insert(X, 0, 1, axis=1)\n",
    "\n",
    "    # Let's apply linear regression\n",
    "    XDagger = np.dot(np.linalg.inv(np.dot(XWithBias.T, XWithBias)), XWithBias.T)\n",
    "    weightsFromLinearRegression = np.dot(XDagger, Y)\n",
    "\n",
    "    # Make predictions from our linear regression weights\n",
    "    YPred = np.sign(np.dot(XWithBias, weightsFromLinearRegression))\n",
    "\n",
    "    # And check how many we errorz\n",
    "    eIn = sum(YPred != Y) / N\n",
    "    eIns.append(eIn)\n",
    "    \n",
    "print(f'\\nEstimated eIn avg after {M} runs is: {sum(eIns)/M}')"
   ]
  },
  {
   "cell_type": "markdown",
   "metadata": {},
   "source": [
    "No good!"
   ]
  },
  {
   "cell_type": "markdown",
   "metadata": {},
   "source": [
    "Just for target practice, let's do the same again using `LinearRegression` from `sklearn` and see if the results are similar to our \"XDagger\" formula: "
   ]
  },
  {
   "cell_type": "code",
   "execution_count": 77,
   "metadata": {},
   "outputs": [
    {
     "name": "stdout",
     "output_type": "stream",
     "text": [
      "\n",
      "Estimated eIn avg after 1000 runs is: 0.5050800000000009\n"
     ]
    }
   ],
   "source": [
    "M = 1000\n",
    "\n",
    "eIns = []\n",
    "\n",
    "for _ in range(M):\n",
    "    X = np.random.uniform(-1, 1, size=(N,2))\n",
    "    def f(x:np.ndarray):\n",
    "        assert x.shape == (2,)\n",
    "        return np.sign(x[0]**2+x[1]**2-0.6).astype(int)\n",
    "    Y = np.apply_along_axis(f, 1, X)\n",
    "\n",
    "    # Simulate noise by flipping sign in random 10% of Y\n",
    "    noisyIdxs = np.random.choice(N, int(N/10), replace=False)\n",
    "    for i in noisyIdxs:\n",
    "        Y[i] = np.negative(Y[i])\n",
    "\n",
    "    XWithBias = np.insert(X, 0, 1, axis=1)\n",
    "\n",
    "    # Let's apply linear regression\n",
    "    model = LinearRegression().fit(XWithBias, Y)\n",
    "\n",
    "    # Make predictions from our linear regression weights\n",
    "    YPred = np.sign(model.predict(XWithBias))\n",
    "\n",
    "    # And check how many we errorz\n",
    "    eIn = sum(YPred != Y) / N\n",
    "    eIns.append(eIn)\n",
    "    \n",
    "print(f'\\nEstimated eIn avg after {M} runs is: {sum(eIns)/M}')"
   ]
  },
  {
   "cell_type": "markdown",
   "metadata": {},
   "source": [
    "![](imgs/nonlintrans9.png)"
   ]
  },
  {
   "cell_type": "code",
   "execution_count": 21,
   "metadata": {},
   "outputs": [
    {
     "name": "stdout",
     "output_type": "stream",
     "text": [
      "eIn for a is 0.033615999999999986\n",
      "\n",
      "eIn for b is 0.33571399999999996\n",
      "\n",
      "eIn for c is 0.3368910000000001\n",
      "\n",
      "eIn for d is 0.36832500000000057\n",
      "\n",
      "eIn for e is 0.4396400000000001\n",
      "\n"
     ]
    }
   ],
   "source": [
    "N = 1000\n",
    "M = 1000\n",
    "\n",
    "# List of eIn from M runs for each given hypothesis a-e\n",
    "eInsA = []\n",
    "eInsB = []\n",
    "eInsC = []\n",
    "eInsD = []\n",
    "eInsE = []\n",
    "\n",
    "for _ in range(M):\n",
    "    X = np.random.uniform(-1, 1, size=(N,2))\n",
    "    x1s = X[:,0]\n",
    "    x2s = X[:,1]\n",
    "    # Outputs remain the same\n",
    "    Y = np.apply_along_axis(f, 1, X)\n",
    "\n",
    "    # Transform X into feature vector (1, x1, x2, x1x2, x1**2, x2**2)\n",
    "    X = np.array([ np.ones(N), x1s, x2s, x1s*x2s, x1s**2, x2s**2 ]).T\n",
    "\n",
    "    # Use linear regression to find weights\n",
    "    XDagger = np.dot(np.linalg.inv(np.dot(X.T, X)), X.T)\n",
    "    linRegWeights = np.dot(XDagger, Y)\n",
    "    YLinReg = np.sign(np.dot(X, linRegWeights))\n",
    "    \n",
    "    # Check which given hypothesis gA..gE has the lowest in sample error eIn\n",
    "    # over all the points, compared with our linear regression\n",
    "    weightsA = np.array([-1, -0.05, 0.08, 0.13, 1.5, 1.5])\n",
    "    yA = np.sign(np.dot(X, weightsA))\n",
    "    eInA = sum(yA != YLinReg) / N\n",
    "    eInsA.append(eInA)\n",
    "    \n",
    "    weightsB = np.array([-1, -0.05, 0.08, 0.13, 1.5, 15])\n",
    "    yB = np.sign(np.dot(X, weightsB))\n",
    "    eInB = sum(yB != YLinReg) / N\n",
    "    eInsB.append(eInB)\n",
    "        \n",
    "    weightsC = np.array([-1, -0.05, 0.08, 0.13, 15, 1.5])\n",
    "    yC = np.sign(np.dot(X, weightsC))\n",
    "    eInC = sum(yC != YLinReg) / N\n",
    "    eInsC.append(eInC)\n",
    "        \n",
    "    weightsD = np.array([-1, -1.5, 0.08, 0.13, 0.05, 0.05])\n",
    "    yD = np.sign(np.dot(X, weightsD))\n",
    "    eInD = sum(yD != YLinReg) / N\n",
    "    eInsD.append(eInD)\n",
    "        \n",
    "    weightsE = np.array([-1, -0.05, 0.08, 1.5, 0.15, 0.15])\n",
    "    yE = np.sign(np.dot(X, weightsE))\n",
    "    eInE = sum(yE != YLinReg) / N\n",
    "    eInsE.append(eInE)\n",
    "    \n",
    "print(f'eIn for a is {sum(eInsA)/M}\\n')\n",
    "print(f'eIn for b is {sum(eInsB)/M}\\n')\n",
    "print(f'eIn for c is {sum(eInsC)/M}\\n')\n",
    "print(f'eIn for d is {sum(eInsD)/M}\\n')\n",
    "print(f'eIn for e is {sum(eInsE)/M}\\n')\n",
    "    \n",
    "\n"
   ]
  },
  {
   "cell_type": "markdown",
   "metadata": {},
   "source": [
    "So (a) looks closest :)"
   ]
  },
  {
   "cell_type": "markdown",
   "metadata": {},
   "source": [
    "![](imgs/nonlintrans10.png)"
   ]
  },
  {
   "cell_type": "code",
   "execution_count": 5,
   "metadata": {},
   "outputs": [
    {
     "name": "stdout",
     "output_type": "stream",
     "text": [
      "Estimated eOut over 1000 runs: 0.14269500000000027\n"
     ]
    }
   ],
   "source": [
    "N = 1000\n",
    "M = 1000\n",
    "\n",
    "eOuts = []\n",
    "\n",
    "for _ in range(M):\n",
    "    # Generate new set of N points\n",
    "    X = np.random.uniform(-1, 1, size=(N,2))\n",
    "    x1s = X[:,0]\n",
    "    x2s = X[:,1]\n",
    "   \n",
    "    \n",
    "    def f(x:np.ndarray):\n",
    "        assert x.shape == (2,)\n",
    "        return np.sign(x[0]**2+x[1]**2-0.6).astype(int)\n",
    "    Y = np.apply_along_axis(f, 1, X)\n",
    "      \n",
    "    # Simulate noise by flipping sign in random 10% of Y\n",
    "    noisyIdxs = np.random.choice(N, int(N/10), replace=False)\n",
    "    for i in noisyIdxs:\n",
    "        Y[i] = np.negative(Y[i])\n",
    "    \n",
    "    # We picked hypothesis (a) so let's use that to predict:\n",
    "    X = np.array([ np.ones(N), x1s, x2s, x1s*x2s, x1s**2, x2s**2 ]).T\n",
    "    weights = np.array([-1, -0.05, 0.08, 0.13, 1.5, 1.5])\n",
    "    YPred = np.sign(np.dot(X, weights))\n",
    "   \n",
    "        \n",
    "    # Estimate eOut\n",
    "    eOut = sum(YPred != Y) / N\n",
    "    eOuts.append(eOut)\n",
    "    \n",
    "print(f'Estimated eOut over {M} runs: {sum(eOuts) / M}')\n",
    "    "
   ]
  },
  {
   "cell_type": "markdown",
   "metadata": {},
   "source": [
    "As expected, the eOut is much higher since there was 10% noise in the original training data."
   ]
  },
  {
   "cell_type": "code",
   "execution_count": null,
   "metadata": {},
   "outputs": [],
   "source": []
  }
 ],
 "metadata": {
  "kernelspec": {
   "display_name": "Python3 - python",
   "language": "python",
   "name": "ipython_python"
  },
  "language_info": {
   "codemirror_mode": {
    "name": "ipython",
    "version": 3
   },
   "file_extension": ".py",
   "mimetype": "text/x-python",
   "name": "python",
   "nbconvert_exporter": "python",
   "pygments_lexer": "ipython3",
   "version": "3.7.7"
  }
 },
 "nbformat": 4,
 "nbformat_minor": 4
}
