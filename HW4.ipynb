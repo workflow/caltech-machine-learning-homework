{
 "cells": [
  {
   "cell_type": "markdown",
   "metadata": {},
   "source": [
    "# Caltech Machine Learning Homework # 4"
   ]
  },
  {
   "cell_type": "code",
   "execution_count": 2,
   "metadata": {},
   "outputs": [],
   "source": [
    "import numpy as np\n",
    "from sklearn.linear_model import Perceptron\n",
    "import random\n",
    "import math\n",
    "import matplotlib.pyplot as plt\n",
    "from typing import List\n",
    "from itertools import product\n",
    "import scipy.special\n",
    "from scipy import optimize\n",
    "import scipy.optimize as spo"
   ]
  },
  {
   "cell_type": "markdown",
   "metadata": {},
   "source": [
    "Instructions: https://work.caltech.edu/homework/hw4.pdf\n",
    "\n",
    "Answers: http://work.caltech.edu/homework/hw4_sol.pdf"
   ]
  },
  {
   "cell_type": "markdown",
   "metadata": {},
   "source": [
    "## Generalization Error"
   ]
  },
  {
   "cell_type": "markdown",
   "metadata": {},
   "source": [
    "![](imgs/genererr1.png)"
   ]
  },
  {
   "cell_type": "markdown",
   "metadata": {},
   "source": [
    "Plugging the given numbers into the VC Inequality on WolframAlpha gives the following numerical approximation:"
   ]
  },
  {
   "cell_type": "markdown",
   "metadata": {},
   "source": [
    "![](imgs/generrsol1.png)"
   ]
  },
  {
   "cell_type": "markdown",
   "metadata": {},
   "source": [
    "So it looks like (d) is closest."
   ]
  },
  {
   "cell_type": "markdown",
   "metadata": {},
   "source": [
    "![](imgs/genererr2.png)"
   ]
  },
  {
   "cell_type": "code",
   "execution_count": 4,
   "metadata": {},
   "outputs": [
    {
     "data": {
      "image/png": "[encoded data removed]",
      "text/plain": [
       "<Figure size 720x576 with 1 Axes>"
      ]
     },
     "metadata": {
      "needs_background": "light"
     },
     "output_type": "display_data"
    }
   ],
   "source": [
    "d_vc = 50\n",
    "delta = 0.05\n",
    "\n",
    "N = np.arange(1, 10000, 0.5, dtype=np.float128)\n",
    "\n",
    "def a(N):\n",
    "    m_H = (2*N)**d_vc # Approximate bound for growth function\n",
    "    return math.sqrt( (8 / N) * np.log( (4*m_H) / delta ) )\n",
    "  \n",
    "def b(N):\n",
    "    m_H = N**d_vc # Approximate bound for growth function\n",
    "    return math.sqrt( (2 * np.log(float(2*N*m_H)) / N ) ) + math.sqrt( (2/N) * np.log(1/delta + 1/N) )\n",
    "   \n",
    "# How do we deal with the implicit epsilon?\n",
    "# Let's looks at a few extreme values of epsilon?\n",
    "e_min = 0\n",
    "e_small = 0.01\n",
    "e = 0.5\n",
    "e_large = 0.99\n",
    "e_max = 1\n",
    "              \n",
    "def c1(N):\n",
    "    m_H = (2*N)**d_vc # Approximate bound for growth function\n",
    "    return math.sqrt( (1 / N) * ( 2 * e_min + np.log( (6*m_H) / delta ) ) )              \n",
    "def c2(N):\n",
    "    m_H = (2*N)**d_vc # Approximate bound for growth function\n",
    "    return math.sqrt( (1 / N) * ( 2 * e_small + np.log( (6*m_H) / delta ) ) )\n",
    "def c3(N):\n",
    "    m_H = (2*N)**d_vc # Approximate bound for growth function\n",
    "    return math.sqrt( (1 / N) * ( 2 * e + np.log( (6*m_H) / delta ) ) )\n",
    "def c4(N):\n",
    "    m_H = (2*N)**d_vc # Approximate bound for growth function\n",
    "    return math.sqrt( (1 / N) * ( 2 * e_large + np.log( (6*m_H) / delta ) ) )\n",
    "def c5(N):\n",
    "    m_H = (2*N)**d_vc # Approximate bound for growth function\n",
    "    return math.sqrt( (1 / N) * ( 2 * e_max + np.log( (6*m_H) / delta ) ) )\n",
    "    \n",
    "def d1(N):\n",
    "    m_H = np.power(np.power(N, 2), d_vc) # Approximate bound for growth function\n",
    "    return np.sqrt( (1/(2*N)) * (4*e_min*(1+e_min)) + np.log( (4*m_H) / delta ) )\n",
    "def d2(N):\n",
    "    m_H = np.power(np.power(N, 2), d_vc) # Approximate bound for growth function\n",
    "    return np.sqrt( (1/(2*N)) * (4*e_small*(1+e_small)) + np.log( (4*m_H) / delta ) )\n",
    "def d3(N):\n",
    "    m_H = np.power(np.power(N, 2), d_vc) # Approximate bound for growth function\n",
    "    return np.sqrt( (1/(2*N)) * (4*e*(1+e)) + np.log( (4*m_H) / delta ) )\n",
    "def d4(N):\n",
    "    m_H = np.power(np.power(N, 2), d_vc) # Approximate bound for growth function\n",
    "    return np.sqrt( (1/(2*N)) * (4*e_large*(1+e_large)) + np.log( (4*m_H) / delta ) )\n",
    "def d5(N):\n",
    "    m_H = np.power(np.power(N, 2), d_vc) # Approximate bound for growth function\n",
    "    return np.sqrt( (1/(2*N)) * (4*e_max*(1+e_max)) + np.log( (4*m_H) / delta ) )\n",
    "\n",
    "\n",
    "plt.figure(figsize=(10, 8))    \n",
    "plt.plot(N, np.vectorize(a)(N), label='a(N)')\n",
    "plt.plot(N, np.vectorize(b)(N), label='b(N)')\n",
    "plt.plot(N, np.vectorize(c1)(N), label='c1(N)', color='y')\n",
    "plt.plot(N, np.vectorize(c2)(N), label='c2(N)', color='y')\n",
    "plt.plot(N, np.vectorize(c3)(N), label='c3(N)', color='y')\n",
    "plt.plot(N, np.vectorize(c4)(N), label='c4(N)', color='y')\n",
    "plt.plot(N, np.vectorize(c5)(N), label='c5(N)', color='y')\n",
    "plt.plot(N, np.vectorize(d1)(N), label='d1(N)', color='m')\n",
    "plt.plot(N, np.vectorize(d2)(N), label='d2(N)', color='m')\n",
    "plt.plot(N, np.vectorize(d3)(N), label='d3(N)', color='m')\n",
    "plt.plot(N, np.vectorize(d4)(N), label='d4(N)', color='m')\n",
    "plt.plot(N, np.vectorize(d5)(N), label='d5(N)', color='m')\n",
    "plt.legend()\n",
    "plt.show()\n"
   ]
  },
  {
   "cell_type": "markdown",
   "metadata": {},
   "source": [
    "We can clearly exclude (d) from this, will should allow us to get a closer look at the remaining options"
   ]
  },
  {
   "cell_type": "code",
   "execution_count": 5,
   "metadata": {},
   "outputs": [
    {
     "data": {
      "image/png": "[encoded data removed]",
      "text/plain": [
       "<Figure size 720x576 with 1 Axes>"
      ]
     },
     "metadata": {
      "needs_background": "light"
     },
     "output_type": "display_data"
    }
   ],
   "source": [
    "plt.figure(figsize=(10, 8))    \n",
    "plt.plot(N, np.vectorize(a)(N), label='a(N)')\n",
    "plt.plot(N, np.vectorize(b)(N), label='b(N)')\n",
    "plt.plot(N, np.vectorize(c1)(N), label='c1(N)', color='y')\n",
    "plt.plot(N, np.vectorize(c2)(N), label='c2(N)', color='y')\n",
    "plt.plot(N, np.vectorize(c3)(N), label='c3(N)', color='y')\n",
    "plt.plot(N, np.vectorize(c4)(N), label='c4(N)', color='y')\n",
    "plt.plot(N, np.vectorize(c5)(N), label='c5(N)', color='y')\n",
    "plt.legend()\n",
    "plt.show()"
   ]
  },
  {
   "cell_type": "markdown",
   "metadata": {},
   "source": [
    "Let's zoom in around the N=10,000 mark that we're interested in"
   ]
  },
  {
   "cell_type": "code",
   "execution_count": 6,
   "metadata": {},
   "outputs": [
    {
     "data": {
      "image/png": "[encoded data removed]",
      "text/plain": [
       "<Figure size 720x576 with 1 Axes>"
      ]
     },
     "metadata": {
      "needs_background": "light"
     },
     "output_type": "display_data"
    }
   ],
   "source": [
    "N = np.arange(9900, 10100, 0.5)\n",
    "\n",
    "plt.figure(figsize=(10, 8))    \n",
    "plt.plot(N, np.vectorize(a)(N), label='a(N)')\n",
    "plt.plot(N, np.vectorize(b)(N), label='b(N)')\n",
    "plt.plot(N, np.vectorize(c1)(N), label='c1(N)', color='y')\n",
    "plt.plot(N, np.vectorize(c2)(N), label='c2(N)', color='y')\n",
    "plt.plot(N, np.vectorize(c3)(N), label='c3(N)', color='y')\n",
    "plt.plot(N, np.vectorize(c4)(N), label='c4(N)', color='y')\n",
    "plt.plot(N, np.vectorize(c5)(N), label='c5(N)', color='y')\n",
    "plt.legend()\n",
    "plt.show()\n"
   ]
  },
  {
   "cell_type": "markdown",
   "metadata": {},
   "source": [
    "Aaaaand the winner is (c)"
   ]
  },
  {
   "cell_type": "markdown",
   "metadata": {},
   "source": [
    "Except I'm wrong again =)"
   ]
  },
  {
   "cell_type": "markdown",
   "metadata": {},
   "source": [
    "Ah, I just had some wrong parentheses for the Devroye bound, let's do that again :)"
   ]
  },
  {
   "cell_type": "code",
   "execution_count": 7,
   "metadata": {},
   "outputs": [
    {
     "data": {
      "image/png": "[encoded data removed]",
      "text/plain": [
       "<Figure size 720x576 with 1 Axes>"
      ]
     },
     "metadata": {
      "needs_background": "light"
     },
     "output_type": "display_data"
    }
   ],
   "source": [
    "N = np.arange(1, 10000, 0.5, dtype=np.float128)\n",
    "\n",
    "def d1(N):\n",
    "    m_H = np.power(np.power(N, 2), d_vc) # Approximate bound for growth function\n",
    "    return np.sqrt( (1/(2*N)) * ( 4*e_min*(1+e_min) + np.log( (4*m_H) / delta ) ) )\n",
    "def d2(N):\n",
    "    m_H = np.power(np.power(N, 2), d_vc) # Approximate bound for growth function\n",
    "    return np.sqrt( (1/(2*N)) * ( 4*e_min*(1+e_small) + np.log( (4*m_H) / delta ) ) )\n",
    "def d3(N):\n",
    "    m_H = np.power(np.power(N, 2), d_vc) # Approximate bound for growth function\n",
    "    return np.sqrt( (1/(2*N)) * ( 4*e*(1+e) + np.log( (4*m_H) / delta ) ) )\n",
    "def d4(N):\n",
    "    m_H = np.power(np.power(N, 2), d_vc) # Approximate bound for growth function\n",
    "    return np.sqrt( (1/(2*N)) * ( 4*e_large*(1+e_large) + np.log( (4*m_H) / delta ) ) )\n",
    "def d5(N):\n",
    "    m_H = np.power(np.power(N, 2), d_vc) # Approximate bound for growth function\n",
    "    return np.sqrt( (1/(2*N)) * ( 4*e_large*(1+e_large) + np.log( (4*m_H) / delta ) ) )\n",
    "\n",
    "plt.figure(figsize=(10, 8))    \n",
    "plt.plot(N, np.vectorize(a)(N), label='a(N)')\n",
    "plt.plot(N, np.vectorize(b)(N), label='b(N)')\n",
    "plt.plot(N, np.vectorize(c1)(N), label='c1(N)', color='y')\n",
    "plt.plot(N, np.vectorize(c2)(N), label='c2(N)', color='y')\n",
    "plt.plot(N, np.vectorize(c3)(N), label='c3(N)', color='y')\n",
    "plt.plot(N, np.vectorize(c4)(N), label='c4(N)', color='y')\n",
    "plt.plot(N, np.vectorize(c5)(N), label='c5(N)', color='y')\n",
    "plt.plot(N, np.vectorize(d1)(N), label='d1(N)', color='m')\n",
    "plt.plot(N, np.vectorize(d2)(N), label='d2(N)', color='m')\n",
    "plt.plot(N, np.vectorize(d3)(N), label='d3(N)', color='m')\n",
    "plt.plot(N, np.vectorize(d4)(N), label='d4(N)', color='m')\n",
    "plt.plot(N, np.vectorize(d5)(N), label='d5(N)', color='m')\n",
    "plt.legend()\n",
    "plt.show()"
   ]
  },
  {
   "cell_type": "markdown",
   "metadata": {},
   "source": [
    "Now we can exclude (a) and zoom in"
   ]
  },
  {
   "cell_type": "code",
   "execution_count": 8,
   "metadata": {},
   "outputs": [
    {
     "data": {
      "image/png": "[encoded data removed]",
      "text/plain": [
       "<Figure size 720x576 with 1 Axes>"
      ]
     },
     "metadata": {
      "needs_background": "light"
     },
     "output_type": "display_data"
    }
   ],
   "source": [
    "N = np.arange(9900, 10100, 0.5, dtype=np.float128)\n",
    "\n",
    "plt.figure(figsize=(10, 8))    \n",
    "plt.plot(N, np.vectorize(b)(N), label='b(N)')\n",
    "plt.plot(N, np.vectorize(c1)(N), label='c1(N)', color='y')\n",
    "plt.plot(N, np.vectorize(c2)(N), label='c2(N)', color='y')\n",
    "plt.plot(N, np.vectorize(c3)(N), label='c3(N)', color='y')\n",
    "plt.plot(N, np.vectorize(c4)(N), label='c4(N)', color='y')\n",
    "plt.plot(N, np.vectorize(c5)(N), label='c5(N)', color='y')\n",
    "plt.plot(N, np.vectorize(d1)(N), label='d1(N)', color='m')\n",
    "plt.plot(N, np.vectorize(d2)(N), label='d2(N)', color='m')\n",
    "plt.plot(N, np.vectorize(d3)(N), label='d3(N)', color='m')\n",
    "plt.plot(N, np.vectorize(d4)(N), label='d4(N)', color='m')\n",
    "plt.plot(N, np.vectorize(d5)(N), label='d5(N)', color='m')\n",
    "plt.legend()\n",
    "plt.show()"
   ]
  },
  {
   "cell_type": "markdown",
   "metadata": {},
   "source": [
    "Aaaand the correct winner is (d) =)"
   ]
  },
  {
   "cell_type": "markdown",
   "metadata": {},
   "source": [
    "I also learned from this notebook: https://nbviewer.jupyter.org/github/homefish/edX_Learning_From_Data_2017/blob/master/homework_4/homework_4_problem_2_plot_bounds.ipynb\n",
    "\n",
    "...that instead of taking 5 \"representative\" values for epsilon in the implicit bounds (c) and (d), we could use a numerical solver, such as `scipy.optimize.brent`:"
   ]
  },
  {
   "cell_type": "code",
   "execution_count": 20,
   "metadata": {},
   "outputs": [
    {
     "data": {
      "image/png": "[encoded data removed]",
      "text/plain": [
       "<Figure size 720x576 with 1 Axes>"
      ]
     },
     "metadata": {
      "needs_background": "light"
     },
     "output_type": "display_data"
    }
   ],
   "source": [
    "def c(N):\n",
    "    m_H = (2*N)**d_vc # Approximate bound for growth function\n",
    "    f = lambda e: math.sqrt( (1 / N) * ( 2 * e + np.log( (6*m_H) / delta ) ) ) - e\n",
    "    return optimize.brentq(f, 0, 1)\n",
    "\n",
    "def d(N):\n",
    "    m_H = np.power(np.power(N, 2), d_vc) # Approximate bound for growth function\n",
    "    f = lambda e: np.sqrt( (1/(2*N)) * ( 4*e*(1+e) + np.log( (4*m_H) / delta ) ) ) - e\n",
    "    return optimize.brentq(f, 0, 1)\n",
    "\n",
    "N = np.arange(9900, 10100, 0.5, dtype=np.float128)\n",
    "\n",
    "plt.figure(figsize=(10, 8))    \n",
    "plt.plot(N, np.vectorize(b)(N), label='b(N)')\n",
    "plt.plot(N, np.vectorize(c)(N), label='c(N)', color='y')\n",
    "plt.plot(N, np.vectorize(d)(N), label='d(N)', color='m')\n",
    "plt.legend()\n",
    "plt.show()"
   ]
  },
  {
   "cell_type": "markdown",
   "metadata": {},
   "source": [
    "Niiiiiiiiiiice"
   ]
  },
  {
   "cell_type": "markdown",
   "metadata": {},
   "source": [
    "![](imgs/genererr3.png)\n",
    "\n"
   ]
  },
  {
   "cell_type": "code",
   "execution_count": 31,
   "metadata": {},
   "outputs": [
    {
     "data": {
      "image/png": "[encoded data removed]",
      "text/plain": [
       "<Figure size 720x576 with 1 Axes>"
      ]
     },
     "metadata": {
      "needs_background": "light"
     },
     "output_type": "display_data"
    }
   ],
   "source": [
    "def c(N):\n",
    "    m_H = (2*N)**d_vc # Approximate bound for growth function\n",
    "    f = lambda e: math.sqrt( (1 / N) * ( 2 * e + np.log( (6*m_H) / delta ) ) ) - e\n",
    "    return optimize.newton(f, 0.5) # Using newton here because the sign does not change in the interval given, which brentq requires\n",
    "\n",
    "def d(N):\n",
    "    m_H = np.power(np.power(N, 2), d_vc) # Approximate bound for growth function\n",
    "    f = lambda e: np.sqrt( (1/(2*N)) * ( 4*e*(1+e) + np.log( (4*m_H) / delta ) ) ) - e\n",
    "    return optimize.newton(f, 0.5) # Using newton here because the sign does not change in the interval given, which brentq requires\n",
    "\n",
    "N = np.arange(4, 7, 0.5, dtype=np.float128)\n",
    "\n",
    "\n",
    "plt.figure(figsize=(10, 8))  \n",
    "plt.plot(N, np.vectorize(a)(N), label='a(N)', marker='o')\n",
    "plt.plot(N, np.vectorize(b)(N), label='b(N)', marker='o')\n",
    "plt.plot(N, np.vectorize(c)(N), label='c(N)', marker='o')\n",
    "plt.plot(N, np.vectorize(d)(N), label='d(N)', marker='o')\n",
    "plt.legend()\n",
    "plt.show()"
   ]
  },
  {
   "cell_type": "markdown",
   "metadata": {},
   "source": [
    "Looks like the winner here is (c)"
   ]
  },
  {
   "cell_type": "markdown",
   "metadata": {},
   "source": [
    "## Bias and Variance"
   ]
  },
  {
   "cell_type": "markdown",
   "metadata": {},
   "source": [
    "![](imgs/bias1.png)"
   ]
  },
  {
   "cell_type": "markdown",
   "metadata": {},
   "source": [
    "Not quite sure how to approach this theoretically, even though it seems like that should be simple, so let's actually build that algorithm!"
   ]
  },
  {
   "cell_type": "markdown",
   "metadata": {},
   "source": [
    "Let's first look at a few examples of fitting `h(x) = ax` through two points picked at random, using least squares regression that passes through the origin:"
   ]
  },
  {
   "cell_type": "code",
   "execution_count": 3,
   "metadata": {},
   "outputs": [],
   "source": [
    "def set_axis_cartesian():\n",
    "    ax = plt.figure(figsize=(8, 8)).add_subplot(1, 1, 1)\n",
    "    ax.spines['left'].set_position('center')\n",
    "    ax.spines['bottom'].set_position('center')\n",
    "    ax.spines['right'].set_color('none')\n",
    "    ax.spines['top'].set_color('none')\n",
    "    ax.xaxis.set_ticks_position('bottom')\n",
    "    ax.yaxis.set_ticks_position('left')\n",
    "    ax.set_xlim([-1, 1])\n",
    "    ax.set_ylim([-1, 1])"
   ]
  },
  {
   "cell_type": "code",
   "execution_count": 4,
   "metadata": {},
   "outputs": [
    {
     "data": {
      "image/png": "[encoded data removed]",
      "text/plain": [
       "<Figure size 576x576 with 1 Axes>"
      ]
     },
     "metadata": {
      "needs_background": "light"
     },
     "output_type": "display_data"
    }
   ],
   "source": [
    "# Pick 2 random points\n",
    "X = np.random.uniform(-1, 1, size=(2,2))\n",
    "# Fit a linear regression that goes through the origin\n",
    "xCoords = X[:,0]\n",
    "yCoords = X[:,1]\n",
    "a, SSR, _, _ = np.linalg.lstsq(xCoords[:,np.newaxis], yCoords, rcond=None)\n",
    "\n",
    "set_axis_cartesian()\n",
    "\n",
    "plt.plot(xCoords, yCoords, 'o')\n",
    "plt.show()"
   ]
  },
  {
   "cell_type": "code",
   "execution_count": 5,
   "metadata": {},
   "outputs": [
    {
     "data": {
      "image/png": "[encoded data removed]",
      "text/plain": [
       "<Figure size 576x576 with 1 Axes>"
      ]
     },
     "metadata": {
      "needs_background": "light"
     },
     "output_type": "display_data"
    },
    {
     "name": "stdout",
     "output_type": "stream",
     "text": [
      "SSR is 0.26557244112055456\n"
     ]
    }
   ],
   "source": [
    "set_axis_cartesian()\n",
    "\n",
    "plt.plot(xCoords, yCoords, 'o')\n",
    "plt.plot(xCoords, a * xCoords, '-')\n",
    "plt.show()\n",
    "print(f\"SSR is {SSR[0]}\")"
   ]
  },
  {
   "cell_type": "code",
   "execution_count": 6,
   "metadata": {},
   "outputs": [
    {
     "data": {
      "image/png": "[encoded data removed]",
      "text/plain": [
       "<Figure size 576x576 with 1 Axes>"
      ]
     },
     "metadata": {
      "needs_background": "light"
     },
     "output_type": "display_data"
    }
   ],
   "source": [
    "# Pick 2 random points\n",
    "X = np.random.uniform(-1, 1, size=(2,2))\n",
    "# Fit a linear regression that goes through the origin\n",
    "xCoords = X[:,0]\n",
    "yCoords = X[:,1]\n",
    "a, SSR, _, _ = np.linalg.lstsq(xCoords[:,np.newaxis], yCoords, rcond=None)\n",
    "\n",
    "set_axis_cartesian()\n",
    "\n",
    "plt.plot(xCoords, yCoords, 'o')\n",
    "plt.show()"
   ]
  },
  {
   "cell_type": "code",
   "execution_count": 7,
   "metadata": {},
   "outputs": [
    {
     "data": {
      "image/png": "[encoded data removed]",
      "text/plain": [
       "<Figure size 576x576 with 1 Axes>"
      ]
     },
     "metadata": {
      "needs_background": "light"
     },
     "output_type": "display_data"
    },
    {
     "name": "stdout",
     "output_type": "stream",
     "text": [
      "SSR is 1.093855628814754\n"
     ]
    }
   ],
   "source": [
    "set_axis_cartesian()\n",
    "\n",
    "plt.plot(xCoords, yCoords, 'o')\n",
    "plt.plot(xCoords, a * xCoords, '-')\n",
    "plt.show()\n",
    "print(f\"SSR is {SSR[0]}\")"
   ]
  },
  {
   "cell_type": "markdown",
   "metadata": {},
   "source": [
    "How does SSR relate to MSE?"
   ]
  },
  {
   "cell_type": "markdown",
   "metadata": {},
   "source": [
    "![](imgs/MSE.png)"
   ]
  },
  {
   "cell_type": "code",
   "execution_count": 9,
   "metadata": {},
   "outputs": [
    {
     "name": "stdout",
     "output_type": "stream",
     "text": [
      "SSR is 1.093855628814754\n",
      "MSE is 0.546927814407377\n",
      "Twice the MSE is [1.09385563]\n"
     ]
    }
   ],
   "source": [
    "MSE = (1/2) * ( (yCoords[0]-a*xCoords[0])**2 + (yCoords[1]-a*xCoords[1])**2  )\n",
    "print(f\"SSR is {SSR[0]}\")\n",
    "print(f\"MSE is {MSE[0]}\")\n",
    "print(f\"Twice the MSE is {2*MSE}\")"
   ]
  },
  {
   "cell_type": "markdown",
   "metadata": {},
   "source": [
    "So `MSE` is `SSR/N` or `SSR/2` in our case."
   ]
  },
  {
   "cell_type": "markdown",
   "metadata": {},
   "source": [
    "Okay, let's apply this to points coming from the actual training set (`f(x)=sin(πx)`), and repeat to get a numerical expected value"
   ]
  },
  {
   "cell_type": "code",
   "execution_count": 22,
   "metadata": {},
   "outputs": [
    {
     "name": "stdout",
     "output_type": "stream",
     "text": [
      "Expected value for a_bar after 1000000 runs is 1.426340350271317\n"
     ]
    }
   ],
   "source": [
    "EXPERIMENTS = 1000000\n",
    "\n",
    "aBars = []\n",
    "\n",
    "for _ in range(EXPERIMENTS):\n",
    "    # Pick 2 random points from the target function\n",
    "    xCoords = np.random.uniform(-1, 1, size=2)\n",
    "    yCoords = np.sin(np.pi*xCoords)\n",
    "    a, _, _, _ = np.linalg.lstsq(xCoords[:,np.newaxis], yCoords, rcond=None)\n",
    "    aBars.append(a[0])\n",
    "    \n",
    "aBar = sum(aBars)/len(aBars)\n",
    "print(f\"Expected value for a_bar after {EXPERIMENTS} runs is {aBar}\")"
   ]
  },
  {
   "cell_type": "markdown",
   "metadata": {},
   "source": [
    "Looks like that corresponds to none of the provided answers, so [e]?"
   ]
  },
  {
   "cell_type": "markdown",
   "metadata": {},
   "source": [
    "Phew =)"
   ]
  },
  {
   "cell_type": "markdown",
   "metadata": {},
   "source": [
    "![](imgs/bias2.png)"
   ]
  },
  {
   "cell_type": "markdown",
   "metadata": {},
   "source": [
    "![](imgs/bias5.png)"
   ]
  },
  {
   "cell_type": "markdown",
   "metadata": {},
   "source": [
    "The bias will be the total area between our predicted function `gBar(x)=aBar*x` and the actual sine curve `f(x) = sin(πx)`"
   ]
  },
  {
   "cell_type": "code",
   "execution_count": 12,
   "metadata": {},
   "outputs": [
    {
     "data": {
      "image/png": "[encoded data removed]",
      "text/plain": [
       "<Figure size 576x576 with 1 Axes>"
      ]
     },
     "metadata": {
      "needs_background": "light"
     },
     "output_type": "display_data"
    }
   ],
   "source": [
    "X = np.linspace(-1, 1, 200)\n",
    "\n",
    "f = lambda x: np.sin(np.pi*x)\n",
    "g_bar = lambda x: aBar*x\n",
    "\n",
    "plt.figure(figsize=(8,8))\n",
    "plt.plot(X, f(X), label=\"f(x)\")\n",
    "plt.plot(X, g_bar(X), label=\"g_bar(x)\")\n",
    "plt.xlim((-1.2, 1.2))\n",
    "plt.ylim((-1.2, 1.2))\n",
    "plt.fill_between(X, f(X), g_bar(X), color=\"yellow\")\n",
    "plt.legend()\n",
    "plt.show()\n"
   ]
  },
  {
   "cell_type": "markdown",
   "metadata": {},
   "source": [
    "So this should be the sum of 4 different integrals. Let's find the two non-zero intersection points (roots)."
   ]
  },
  {
   "cell_type": "code",
   "execution_count": 13,
   "metadata": {},
   "outputs": [
    {
     "name": "stdout",
     "output_type": "stream",
     "text": [
      "Root 1 is -0.6368070562897865\n",
      "Root 3 is 0.6368070562897865\n"
     ]
    }
   ],
   "source": [
    "root1 = optimize.brentq(lambda x: f(x) - g_bar(x), -1, -0.5)\n",
    "root3 = optimize.brentq(lambda x: f(x) - g_bar(x), 0.5, 1)\n",
    "print(f\"Root 1 is {root1}\")\n",
    "print(f\"Root 3 is {root3}\")"
   ]
  },
  {
   "cell_type": "markdown",
   "metadata": {},
   "source": [
    "Now we can integrate, baby!"
   ]
  },
  {
   "cell_type": "code",
   "execution_count": 14,
   "metadata": {},
   "outputs": [
    {
     "name": "stdout",
     "output_type": "stream",
     "text": [
      "0.8002699617659952\n"
     ]
    }
   ],
   "source": [
    "f_minus_gbar = lambda x: f(x) - g_bar(x)\n",
    "gbar_minus_f = lambda x: g_bar(x) - f(x)\n",
    "\n",
    "area1 = scipy.integrate.quad(f_minus_gbar, -1, root1)[0]\n",
    "area2 = scipy.integrate.quad(gbar_minus_f, root1, 0)[0]\n",
    "area3 = scipy.integrate.quad(f_minus_gbar, 0, root3)[0]\n",
    "area4 = scipy.integrate.quad(gbar_minus_f, root3, 1)[0]\n",
    "\n",
    "bias = area1 + area2 + area3 + area4\n",
    "\n",
    "print(bias)"
   ]
  },
  {
   "cell_type": "markdown",
   "metadata": {},
   "source": [
    "**Answer**: This is closest to [d]"
   ]
  },
  {
   "cell_type": "markdown",
   "metadata": {},
   "source": [
    "Aaand we're wrong again =) why?"
   ]
  },
  {
   "cell_type": "markdown",
   "metadata": {},
   "source": [
    "Okay so, according to https://nbviewer.jupyter.org/github/homefish/edX_Learning_From_Data_2017/blob/master/homework_4/homework_4_problem_4_5_6_Bias_and_Variance.ipynb, I'm using the wrong (too simple) definition of bias.\n",
    "\n",
    "Turns out, from slide 9 in Lecture 8,"
   ]
  },
  {
   "cell_type": "markdown",
   "metadata": {},
   "source": [
    "![](imgs/bias6.png)"
   ]
  },
  {
   "cell_type": "markdown",
   "metadata": {},
   "source": [
    "The mean of a function is defined as"
   ]
  },
  {
   "cell_type": "markdown",
   "metadata": {},
   "source": [
    "![](imgs/bias7.png)"
   ]
  },
  {
   "cell_type": "markdown",
   "metadata": {},
   "source": [
    "So in our case, with"
   ]
  },
  {
   "cell_type": "markdown",
   "metadata": {},
   "source": [
    "```\n",
    "a = -1\n",
    "b = 1\n",
    "f(x) = (g_bar - f) ** 2\n",
    "```"
   ]
  },
  {
   "cell_type": "markdown",
   "metadata": {},
   "source": [
    "We don't have to take separate integrals and instead directly get"
   ]
  },
  {
   "cell_type": "markdown",
   "metadata": {},
   "source": [
    "$$\\frac{1}{2} \\ \\int _{-1}^{1}(\\overline{g}( x) \\ -\\ f( x))^{2}$$"
   ]
  },
  {
   "cell_type": "code",
   "execution_count": 19,
   "metadata": {},
   "outputs": [
    {
     "data": {
      "text/plain": [
       "0.2704824780037454"
      ]
     },
     "execution_count": 19,
     "metadata": {},
     "output_type": "execute_result"
    }
   ],
   "source": [
    "correctBias = 0.5 * scipy.integrate.quad(lambda x: (g_bar(x) - f(x)) ** 2, -1, 1)[0]\n",
    "correctBias"
   ]
  },
  {
   "cell_type": "markdown",
   "metadata": {},
   "source": [
    "Which correctly indicates answer [b]"
   ]
  },
  {
   "cell_type": "markdown",
   "metadata": {},
   "source": [
    "![](imgs/bias3.png)"
   ]
  },
  {
   "cell_type": "markdown",
   "metadata": {},
   "source": [
    "Let's first see if I can correctly calculate the bias and variance for the simple example given in Lecture 8.\n",
    "\n",
    "We had the same `f(x) = sin(pi * x)`, `N=2` and we had"
   ]
  },
  {
   "cell_type": "markdown",
   "metadata": {},
   "source": [
    "![](imgs/bias8.png)"
   ]
  },
  {
   "cell_type": "markdown",
   "metadata": {},
   "source": [
    "![](imgs/bias9.png)"
   ]
  },
  {
   "cell_type": "markdown",
   "metadata": {},
   "source": [
    "Bias should be"
   ]
  },
  {
   "cell_type": "code",
   "execution_count": 21,
   "metadata": {},
   "outputs": [
    {
     "data": {
      "text/plain": [
       "0.5"
      ]
     },
     "execution_count": 21,
     "metadata": {},
     "output_type": "execute_result"
    }
   ],
   "source": [
    "g_bar = lambda x: 0\n",
    "\n",
    "bias = 0.5 * scipy.integrate.quad(lambda x: (g_bar(x) - f(x)) ** 2, -1, 1)[0]\n",
    "bias"
   ]
  },
  {
   "cell_type": "markdown",
   "metadata": {},
   "source": [
    "On to the variance!"
   ]
  },
  {
   "cell_type": "markdown",
   "metadata": {},
   "source": [
    "![](imgs/variance1.png)"
   ]
  },
  {
   "cell_type": "markdown",
   "metadata": {},
   "source": [
    "I'm not sure how to approximate g(d)(x) algebraically, so let's have some numeric fun again:"
   ]
  },
  {
   "cell_type": "code",
   "execution_count": 26,
   "metadata": {},
   "outputs": [
    {
     "name": "stdout",
     "output_type": "stream",
     "text": [
      "Expected value for variance after 1000000 runs is 0.24882891218369055\n"
     ]
    }
   ],
   "source": [
    "EXPERIMENTS_D = 10000\n",
    "\n",
    "varianceEstimates = []\n",
    "\n",
    "for _ in range(EXPERIMENTS_D):\n",
    "    # Pick 2 random points from the target function\n",
    "    xCoords = np.random.uniform(-1, 1, size=2)\n",
    "    yCoords = np.sin(np.pi*xCoords)\n",
    "    \n",
    "    # The \"best\" approximation for b here should be the arithmetic mean of the y-coords\n",
    "    b = (yCoords[0] + yCoords[1]) / 2\n",
    "    g = lambda x: b\n",
    "    \n",
    "    # For each g(x) found (constant in this case), we need to estimate the average (g(x) - g_bar(x))**2\n",
    "    varianceEstimate = (g(_) - g_bar(b))**2\n",
    "    varianceEstimates.append(varianceEstimate)\n",
    "    \n",
    "varianceEstimate = sum(varianceEstimates)/len(varianceEstimates)\n",
    "print(f\"Expected value for variance after {EXPERIMENTS} runs is {varianceEstimate}\")"
   ]
  },
  {
   "cell_type": "markdown",
   "metadata": {},
   "source": [
    "That looks about right :) let's apply this to the actual problem 6 then!\n",
    "\n",
    "`g(x)` is no longer constant, so we need to estimate different values of `x` for each dataset as well!"
   ]
  },
  {
   "cell_type": "code",
   "execution_count": 37,
   "metadata": {},
   "outputs": [
    {
     "name": "stdout",
     "output_type": "stream",
     "text": [
      "0\n",
      "Expected value for variance after 1000 runs for D and 100 runs for x is 0.8987590484805591\n"
     ]
    }
   ],
   "source": [
    "EXPERIMENTS_D = 1000\n",
    "EXPERIMENTS_X = 100\n",
    "print(g_bar(1))\n",
    "\n",
    "varianceEstimates = []\n",
    "\n",
    "for _ in range(EXPERIMENTS_D):\n",
    "    # Pick 2 random points from the target function\n",
    "    xCoords = np.random.uniform(-1, 1, size=2)\n",
    "    yCoords = np.sin(np.pi*xCoords)\n",
    "    \n",
    "    a, _, _, _ = np.linalg.lstsq(xCoords[:,np.newaxis], yCoords, rcond=None)\n",
    "    g = lambda x: a[0] * x\n",
    "    \n",
    "    # For each g(x) found, we need to estimate the average (g(x) - g_bar(x))**2\n",
    "    avgsOverX = []\n",
    "    for _ in range(EXPERIMENTS_X):\n",
    "        # Pick a random x in [-1,1]\n",
    "        x = np.random.uniform(-1, 1)\n",
    "        avgOverX = (g(x) - g_bar(x)) ** 2\n",
    "        avgsOverX.append(avgOverX)\n",
    "        \n",
    "    varianceEstimate = sum(avgsOverX)/len(avgsOverX)\n",
    "    varianceEstimates.append(varianceEstimate)\n",
    "    \n",
    "varianceEstimate = sum(varianceEstimates)/len(varianceEstimates)\n",
    "print(f\"Expected value for variance after {EXPERIMENTS_D} runs for D and {EXPERIMENTS_X} runs for x is {varianceEstimate}\")"
   ]
  },
  {
   "cell_type": "markdown",
   "metadata": {},
   "source": [
    "That would be closest to [e], unless I forgot to divide by N or something"
   ]
  },
  {
   "cell_type": "markdown",
   "metadata": {},
   "source": [
    "Wrong again. Chwwwyyyyy?"
   ]
  },
  {
   "cell_type": "markdown",
   "metadata": {},
   "source": [
    "Oh, notebook mutability problem. -.- I redefined `g_bar` as 0 somewhere after problem 4. Let's fix that"
   ]
  },
  {
   "cell_type": "code",
   "execution_count": 39,
   "metadata": {},
   "outputs": [
    {
     "name": "stdout",
     "output_type": "stream",
     "text": [
      "Expected value for variance after 1000 runs for D and 100 runs for x is 0.916624122090183\n"
     ]
    }
   ],
   "source": [
    "EXPERIMENTS_D = 1000\n",
    "EXPERIMENTS_X = 100\n",
    "\n",
    "g_bar: lambda x: aBar * x\n",
    "\n",
    "varianceEstimates = []\n",
    "\n",
    "for _ in range(EXPERIMENTS_D):\n",
    "    # Pick 2 random points from the target function\n",
    "    xCoords = np.random.uniform(-1, 1, size=2)\n",
    "    yCoords = np.sin(np.pi*xCoords)\n",
    "    \n",
    "    a, _, _, _ = np.linalg.lstsq(xCoords[:,np.newaxis], yCoords, rcond=None)\n",
    "    g = lambda x: a[0] * x\n",
    "    \n",
    "    # For each g(x) found, we need to estimate the average (g(x) - g_bar(x))**2\n",
    "    avgsOverX = []\n",
    "    for _ in range(EXPERIMENTS_X):\n",
    "        # Pick a random x in [-1,1]\n",
    "        x = np.random.uniform(-1, 1)\n",
    "        avgOverX = (g(x) - g_bar(x)) ** 2\n",
    "        avgsOverX.append(avgOverX)\n",
    "        \n",
    "    varianceEstimate = sum(avgsOverX)/len(avgsOverX)\n",
    "    varianceEstimates.append(varianceEstimate)\n",
    "    \n",
    "varianceEstimate = sum(varianceEstimates)/len(varianceEstimates)\n",
    "print(f\"Expected value for variance after {EXPERIMENTS_D} runs for D and {EXPERIMENTS_X} runs for x is {varianceEstimate}\")"
   ]
  },
  {
   "cell_type": "markdown",
   "metadata": {},
   "source": [
    "Hmm, still wrong.\n",
    "Here's a correct looking solution from https://nbviewer.jupyter.org/github/homefish/edX_Learning_From_Data_2017/blob/master/homework_4/homework_4_problem_4_5_6_Bias_and_Variance.ipynb"
   ]
  },
  {
   "cell_type": "code",
   "execution_count": 71,
   "metadata": {},
   "outputs": [
    {
     "name": "stdout",
     "output_type": "stream",
     "text": [
      "\n",
      "Solution to problem 6, variance =  0.23648530581190974\n",
      "Answer 6[a] is therefore correct.\n"
     ]
    }
   ],
   "source": [
    "def problem6():\n",
    "    a_avg = aBar\n",
    "    expectation_over_X = 0\n",
    "    \n",
    "    RUNS_D = 100\n",
    "    RUNS_X = 1\n",
    "    # variance: Compare each g to g_bar\n",
    "    \n",
    "    for i in range(RUNS_X):\n",
    "        N = 2\n",
    "        x_test = np.random.uniform(-1,1)\n",
    "        expectation_over_D = 0\n",
    "        \n",
    "        for _ in range(RUNS_D):\n",
    "            # two random points as data set D\n",
    "            x_rnd = np.random.uniform(-1, 1, N)\n",
    "            y_rnd = np.sin(np.pi * x_rnd)\n",
    "\n",
    "            # linear regression for model y = ax\n",
    "            # get a particular g^(D)\n",
    "            X_a = np.array([x_rnd]).T\n",
    "            w_a = np.dot(np.dot(np.linalg.inv(np.dot(X_a.T, X_a)), X_a.T), y_rnd)\n",
    "            a  = w_a[0]\n",
    "            \n",
    "            # calculate difference\n",
    "            y_g = a * x_test\n",
    "            y_g_bar = a_avg * x_test\n",
    "            expectation_over_D += (y_g - y_g_bar)**2 / RUNS_D\n",
    "        \n",
    "        expectation_over_X += expectation_over_D / RUNS_X\n",
    "    \n",
    "    variance = expectation_over_X\n",
    "    return variance\n",
    "\n",
    "\n",
    "print(\"\\nSolution to problem 6, variance = \", problem6())\n",
    "print(\"Answer 6[a] is therefore correct.\")"
   ]
  },
  {
   "cell_type": "markdown",
   "metadata": {},
   "source": [
    "Hmm, maybe I took the expectation over D over the expectation over x, and the two are non-distributive?\n",
    "Let's try again reversing the two loops"
   ]
  },
  {
   "cell_type": "code",
   "execution_count": 72,
   "metadata": {},
   "outputs": [
    {
     "name": "stdout",
     "output_type": "stream",
     "text": [
      "Expected value for variance after 1 runs for D and 1 runs for x is 0.002352752963143889\n"
     ]
    }
   ],
   "source": [
    "EXPERIMENTS_X = 1000\n",
    "EXPERIMENTS_D = 100\n",
    "\n",
    "g_bar: lambda x: aBar * x\n",
    "\n",
    "varianceEstimates = []\n",
    "\n",
    "for _ in range(EXPERIMENTS_X):\n",
    "    # Pick a random x in [-1,1]\n",
    "    x = np.random.uniform(-1, 1)\n",
    "    avgsOverD = []    \n",
    "    \n",
    "    # For each x, we need to come up with a g(x) (based on D) and estimate the average (g(x) - g_bar(x))**2\n",
    "    for _ in range(EXPERIMENTS_D):    \n",
    "        # Pick 2 random points from the target function\n",
    "        xCoords = np.random.uniform(-1, 1, size=2)\n",
    "        yCoords = np.sin(np.pi*xCoords)\n",
    "\n",
    "        a, _, _, _ = np.linalg.lstsq(xCoords[:,np.newaxis], yCoords, rcond=None)\n",
    "        \n",
    "        g = lambda x: a[0] * x \n",
    "        avgOverD = (g(x) - g_bar(x)) ** 2\n",
    "        avgsOverD.append(avgOverD)\n",
    "        \n",
    "    varianceEstimate = sum(avgsOverD)/len(avgsOverD)\n",
    "    varianceEstimates.append(varianceEstimate)\n",
    "    \n",
    "varianceEstimate = sum(varianceEstimates)/len(varianceEstimates)\n",
    "print(f\"Expected value for variance after {EXPERIMENTS_D} runs for D and {EXPERIMENTS_X} runs for x is {varianceEstimate}\")"
   ]
  },
  {
   "cell_type": "markdown",
   "metadata": {},
   "source": [
    "Still no dice, so that doesn't seem to make a difference."
   ]
  },
  {
   "cell_type": "markdown",
   "metadata": {},
   "source": [
    "Let's compare the two solutions on a single deterministic point, maybe my least squares approximation is off?"
   ]
  },
  {
   "cell_type": "code",
   "execution_count": 82,
   "metadata": {},
   "outputs": [
    {
     "name": "stdout",
     "output_type": "stream",
     "text": [
      "1.0542450401778827\n",
      "1.0542450401778827\n"
     ]
    }
   ],
   "source": [
    "x = np.random.uniform(-1, 1)\n",
    "xCoords = np.random.uniform(-1, 1, size=2)\n",
    "yCoords = np.sin(np.pi*xCoords)\n",
    "\n",
    "def homefishSolution():\n",
    "    # linear regression for model y = ax\n",
    "    # get a particular g^(D)\n",
    "    X_a = np.array([xCoords]).T\n",
    "    w_a = np.dot(np.dot(np.linalg.inv(np.dot(X_a.T, X_a)), X_a.T), yCoords)\n",
    "    a  = w_a[0]\n",
    "    return a\n",
    "        \n",
    "def mySolution():\n",
    "    a, _, _, _ = np.linalg.lstsq(xCoords[:,np.newaxis], yCoords, rcond=None)\n",
    "    return a[0]\n",
    "        \n",
    "print(homefishSolution())\n",
    "print(mySolution())\n",
    "\n"
   ]
  },
  {
   "cell_type": "markdown",
   "metadata": {},
   "source": [
    "Nope, also no diff here. What else did I mess up?"
   ]
  },
  {
   "cell_type": "markdown",
   "metadata": {},
   "source": [
    "Ohhhhh ouch, python. It's a typo in the lambda I used in line 3 ;)"
   ]
  },
  {
   "cell_type": "markdown",
   "metadata": {},
   "source": [
    "```\n",
    "g_bar: lambda x: aBar * x\n",
    "```\n",
    "should be\n",
    "```\n",
    "g_bar = lambda x: aBar * x\n",
    "```"
   ]
  },
  {
   "cell_type": "code",
   "execution_count": 94,
   "metadata": {},
   "outputs": [
    {
     "name": "stdout",
     "output_type": "stream",
     "text": [
      "Expected value for variance after 100 runs for D and 1000 runs for x is 0.24699154819885494\n"
     ]
    }
   ],
   "source": [
    "EXPERIMENTS_X = 1000\n",
    "EXPERIMENTS_D = 100\n",
    "\n",
    "g_bar = lambda x: aBar * x\n",
    "\n",
    "varianceEstimates = []\n",
    "\n",
    "for _ in range(EXPERIMENTS_X):\n",
    "    # Pick a random x in [-1,1]\n",
    "    x = np.random.uniform(-1, 1)\n",
    "    avgsOverD = []    \n",
    "    \n",
    "    # For each x, we need to come up with a g(x) (based on D) and estimate the average (g(x) - g_bar(x))**2\n",
    "    for _ in range(EXPERIMENTS_D):    \n",
    "        # Pick 2 random points from the target function\n",
    "        xCoords = np.random.uniform(-1, 1, size=2)\n",
    "        yCoords = np.sin(np.pi*xCoords)\n",
    "\n",
    "        a, _, _, _ = np.linalg.lstsq(xCoords[:,np.newaxis], yCoords, rcond=None)\n",
    "        \n",
    "        avgOverD = ((a[0] * x) - g_bar(x)) ** 2\n",
    "        avgsOverD.append(avgOverD)\n",
    "        \n",
    "    varianceEstimate = sum(avgsOverD)/len(avgsOverD)\n",
    "    varianceEstimates.append(varianceEstimate)\n",
    "    \n",
    "varianceEstimate = sum(varianceEstimates)/len(varianceEstimates)\n",
    "print(f\"Expected value for variance after {EXPERIMENTS_D} runs for D and {EXPERIMENTS_X} runs for x is {varianceEstimate}\")"
   ]
  },
  {
   "cell_type": "markdown",
   "metadata": {},
   "source": [
    "![](imgs/bias4.png)"
   ]
  },
  {
   "cell_type": "markdown",
   "metadata": {},
   "source": [
    "We already know the answers for [a], [b] and [c]:\n",
    "\n",
    "* [a] is 0.5 + 0.25 = 0.75 (from Lecture 8 Slide 15)\n",
    "* [b] is ~~ 0.27 + 0.25 = **0.52** (from the answers above to Problems 5 and 6)\n",
    "* [c] is 0.21 + 1.69 = 1.90\n",
    "\n",
    "Let's estimate the other two using Monte Carlo Experiments as well!\n",
    "\n",
    "My guess would be the two quadratic models are too complex in terms of variance to beat [b], but let's find out!"
   ]
  },
  {
   "cell_type": "markdown",
   "metadata": {},
   "source": [
    "`[d] h(x) = a * x**2`\n",
    "\n",
    "Let's get g_bar for [d]"
   ]
  },
  {
   "cell_type": "markdown",
   "metadata": {},
   "source": [
    "We're looking for the parabola (a*x^2) that fits two randomly chosen points from f(x) the best (as measured by MSE)"
   ]
  },
  {
   "cell_type": "code",
   "execution_count": 115,
   "metadata": {},
   "outputs": [
    {
     "name": "stdout",
     "output_type": "stream",
     "text": [
      "Expected value for a_bar after 10000 runs is 0.0015387136808417932\n"
     ]
    }
   ],
   "source": [
    "EXPERIMENTS_D = 10000\n",
    "\n",
    "EXPERIMENTS_A = 1000\n",
    "\n",
    "aBars = []\n",
    "\n",
    "for _ in range(EXPERIMENTS_D):\n",
    "    # Pick 2 random points from the target function\n",
    "    xCoords = np.random.uniform(-1, 1, size=2)\n",
    "    yCoords = np.sin(np.pi*xCoords)\n",
    "    \n",
    "    # Find the best \"Learning Algorithm\" numerically\n",
    "    aPred = 0\n",
    "    bestMSE = EXPERIMENTS_A\n",
    "    for _ in range(EXPERIMENTS_A):\n",
    "        # Pick a random a between our estimated iterative bounds\n",
    "        a = np.random.uniform(-0.1, 0.1)\n",
    "        h = lambda x: a * (x**2)\n",
    "        err1 = h(xCoords[0]) - yCoords[0]\n",
    "        err2 = h(xCoords[1]) - yCoords[1]\n",
    "        MSE = ((err1 ** 2) + (err2 ** 2)) / 2\n",
    "        if MSE < bestMSE:\n",
    "            bestMSE = MSE\n",
    "            aPred = a\n",
    "        \n",
    "    aBars.append(aPred)\n",
    "    \n",
    "aBar = sum(aBars)/len(aBars)\n",
    "print(f\"Expected value for a_bar after {EXPERIMENTS_D} runs is {aBar}\")"
   ]
  },
  {
   "cell_type": "markdown",
   "metadata": {},
   "source": [
    "Bias:"
   ]
  },
  {
   "cell_type": "markdown",
   "metadata": {},
   "source": [
    "$$\\frac{1}{2} \\ \\int _{-1}^{1}(\\overline{g}( x) \\ -\\ f( x))^{2}$$"
   ]
  },
  {
   "cell_type": "code",
   "execution_count": 118,
   "metadata": {},
   "outputs": [
    {
     "data": {
      "text/plain": [
       "0.5000004735279584"
      ]
     },
     "execution_count": 118,
     "metadata": {},
     "output_type": "execute_result"
    }
   ],
   "source": [
    "g_bar = lambda x: aBar * (x**2)\n",
    "f = lambda x: np.sin(np.pi * x)\n",
    "\n",
    "bias = 0.5 * scipy.integrate.quad(lambda x: (g_bar(x) - f(x)) ** 2, -1, 1)[0]\n",
    "bias"
   ]
  },
  {
   "cell_type": "markdown",
   "metadata": {},
   "source": [
    "The bias is already larger than solution [b]'s and the variance on a more complex model can only be larger, so we can exclude [d]"
   ]
  },
  {
   "cell_type": "markdown",
   "metadata": {},
   "source": [
    "`[e] h(x) = a * x**2 + b`\n",
    "\n",
    "Let's get g_bar for [e]"
   ]
  },
  {
   "cell_type": "markdown",
   "metadata": {},
   "source": [
    "We're looking for the parabola (a*x^2+b) that fits two randomly chosen points from f(x) the best (as measured by MSE)"
   ]
  },
  {
   "cell_type": "code",
   "execution_count": 123,
   "metadata": {},
   "outputs": [
    {
     "name": "stdout",
     "output_type": "stream",
     "text": [
      "Expected value for a_bar after 10000 runs is 0.004164909381372416\n",
      "Expected value for b_bar after 10000 runs is 0.008317588989080981\n"
     ]
    }
   ],
   "source": [
    "EXPERIMENTS_D = 10000\n",
    "\n",
    "EXPERIMENTS_A = 1000\n",
    "\n",
    "aBars = []\n",
    "bBars = []\n",
    "\n",
    "for _ in range(EXPERIMENTS_D):\n",
    "    # Pick 2 random points from the target function\n",
    "    xCoords = np.random.uniform(-1, 1, size=2)\n",
    "    yCoords = np.sin(np.pi*xCoords)\n",
    "    \n",
    "    # Find the best \"Learning Algorithm\" numerically\n",
    "    aPred = 0\n",
    "    bPred = 0\n",
    "    bestMSE = EXPERIMENTS_A\n",
    "    for _ in range(EXPERIMENTS_A):\n",
    "        # Pick a random a and b between our iteratively estimated bounds\n",
    "        a = np.random.uniform(-1, 1)\n",
    "        b = np.random.uniform(-1, 1)\n",
    "        h = lambda x: a * (x**2) + b\n",
    "        err1 = h(xCoords[0]) - yCoords[0]\n",
    "        err2 = h(xCoords[1]) - yCoords[1]\n",
    "        MSE = ((err1 ** 2) + (err2 ** 2)) / 2\n",
    "        if MSE < bestMSE:\n",
    "            bestMSE = MSE\n",
    "            aPred = a\n",
    "            bPred = b\n",
    "        \n",
    "    aBars.append(aPred)\n",
    "    bBars.append(bPred)\n",
    "    \n",
    "aBar = sum(aBars)/len(aBars)\n",
    "bBar = sum(bBars)/len(bBars)\n",
    "print(f\"Expected value for a_bar after {EXPERIMENTS_D} runs is {aBar}\")\n",
    "print(f\"Expected value for b_bar after {EXPERIMENTS_D} runs is {bBar}\")"
   ]
  },
  {
   "cell_type": "markdown",
   "metadata": {},
   "source": [
    "Bias:"
   ]
  },
  {
   "cell_type": "markdown",
   "metadata": {},
   "source": [
    "$$\\frac{1}{2} \\ \\int _{-1}^{1}(\\overline{g}( x) \\ -\\ f( x))^{2}$$"
   ]
  },
  {
   "cell_type": "code",
   "execution_count": 124,
   "metadata": {},
   "outputs": [
    {
     "data": {
      "text/plain": [
       "0.5000957462502298"
      ]
     },
     "execution_count": 124,
     "metadata": {},
     "output_type": "execute_result"
    }
   ],
   "source": [
    "g_bar = lambda x: aBar * (x**2) + bBar\n",
    "f = lambda x: np.sin(np.pi * x)\n",
    "\n",
    "bias = 0.5 * scipy.integrate.quad(lambda x: (g_bar(x) - f(x)) ** 2, -1, 1)[0]\n",
    "bias"
   ]
  },
  {
   "cell_type": "markdown",
   "metadata": {},
   "source": [
    "The bias is already larger than solution [b]'s and the variance on a more complex model can only be larger, so we can exclude [e] as well."
   ]
  },
  {
   "cell_type": "markdown",
   "metadata": {},
   "source": [
    "This leaves [b] as the final answer."
   ]
  },
  {
   "cell_type": "markdown",
   "metadata": {},
   "source": [
    "Let's use spo.minimize to get the same!"
   ]
  },
  {
   "cell_type": "code",
   "execution_count": 142,
   "metadata": {},
   "outputs": [
    {
     "name": "stdout",
     "output_type": "stream",
     "text": [
      "Expected value for a_bar after 10000 runs is 1.7139371242250567\n",
      "Expected value for b_bar after 10000 runs is -0.6147856210217085\n"
     ]
    }
   ],
   "source": [
    "EXPERIMENTS_D = 10000\n",
    "\n",
    "aBars = []\n",
    "bBars = []\n",
    "\n",
    "for _ in range(EXPERIMENTS_D):\n",
    "    # Pick 2 random points from the target function\n",
    "    xCoords = np.random.uniform(-1, 1, size=2)\n",
    "    yCoords = np.sin(np.pi*xCoords)\n",
    "    \n",
    "    h = lambda x, a, b: a * (x**2) + b\n",
    "    err1 = lambda a, b: h(xCoords[0], a, b) - yCoords[0]\n",
    "    err2 = lambda a, b: h(xCoords[1], a, b) - yCoords[1]\n",
    "    err = lambda ab: ((err1(ab[0], ab[1]) ** 2) + (err2(ab[0], ab[1]) ** 2)) / 2\n",
    "    \n",
    "    minErrPred = spo.minimize(err, [1, 1])\n",
    "    aPred = minErrPred.x[0]\n",
    "    bPred = minErrPred.x[1]\n",
    "            \n",
    "    aBars.append(aPred)\n",
    "    bBars.append(bPred)\n",
    "    \n",
    "aBar = sum(aBars)/len(aBars)\n",
    "bBar = sum(bBars)/len(bBars)\n",
    "print(f\"Expected value for a_bar after {EXPERIMENTS_D} runs is {aBar}\")\n",
    "print(f\"Expected value for b_bar after {EXPERIMENTS_D} runs is {bBar}\")"
   ]
  },
  {
   "cell_type": "markdown",
   "metadata": {},
   "source": [
    "That looks close enough and is probably more accurate :)"
   ]
  },
  {
   "cell_type": "code",
   "execution_count": 143,
   "metadata": {},
   "outputs": [
    {
     "data": {
      "text/plain": [
       "0.7630081867685111"
      ]
     },
     "execution_count": 143,
     "metadata": {},
     "output_type": "execute_result"
    }
   ],
   "source": [
    "g_bar = lambda x: aBar * (x**2) + bBar\n",
    "f = lambda x: np.sin(np.pi * x)\n",
    "\n",
    "bias = 0.5 * scipy.integrate.quad(lambda x: (g_bar(x) - f(x)) ** 2, -1, 1)[0]\n",
    "bias"
   ]
  },
  {
   "cell_type": "markdown",
   "metadata": {},
   "source": [
    "## VC Dimension"
   ]
  },
  {
   "cell_type": "markdown",
   "metadata": {},
   "source": [
    "![](imgs/vc1.png)"
   ]
  },
  {
   "cell_type": "code",
   "execution_count": 13,
   "metadata": {},
   "outputs": [
    {
     "data": {
      "text/plain": [
       "[<matplotlib.lines.Line2D at 0x7f7c8f0f01d0>]"
      ]
     },
     "execution_count": 13,
     "metadata": {},
     "output_type": "execute_result"
    },
    {
     "data": {
      "image/png": "[encoded data removed]",
      "text/plain": [
       "<Figure size 432x288 with 1 Axes>"
      ]
     },
     "metadata": {
      "needs_background": "light"
     },
     "output_type": "display_data"
    }
   ],
   "source": [
    "q = 1\n",
    "\n",
    "def m_H(N):\n",
    "    if N <= 1:\n",
    "        return 2\n",
    "    else:\n",
    "        return 2 * m_H(N-1) - scipy.special.comb(N-1, q)\n",
    "    \n",
    "plt.plot(q-2, m_H(q-2), 'go')    \n",
    "plt.plot(q-1, m_H(q-1), 'go')\n",
    "plt.plot(q, m_H(q), 'go')    \n",
    "plt.plot(q+1, m_H(q+1), 'go')"
   ]
  },
  {
   "cell_type": "markdown",
   "metadata": {},
   "source": [
    "`q+1` seems to be a breakpoint (because m_H(q+1) <= 2^2), so I conclude the VC dimension is q. [c]"
   ]
  },
  {
   "cell_type": "markdown",
   "metadata": {},
   "source": [
    "![](imgs/vc2.png)"
   ]
  },
  {
   "cell_type": "markdown",
   "metadata": {},
   "source": [
    "We're dealing with the intersection of hypothesis sets, so the **smallest** VC dimension **of any** hypothesis set `H_k` should bound the VC dimension of the intersection."
   ]
  },
  {
   "cell_type": "markdown",
   "metadata": {},
   "source": [
    "[a] is the sum of VC dimensions, so it must be wrong."
   ]
  },
  {
   "cell_type": "markdown",
   "metadata": {},
   "source": [
    "[b] looks like a good candidate, but is there an even tighter valid bound?"
   ]
  },
  {
   "cell_type": "markdown",
   "metadata": {},
   "source": [
    "[c] is the max of all VC dimensions of `H_k`, so it must be wrong."
   ]
  },
  {
   "cell_type": "markdown",
   "metadata": {},
   "source": [
    "[d] is a wrong upper bound, similar to [c]"
   ]
  },
  {
   "cell_type": "markdown",
   "metadata": {},
   "source": [
    "[e] is a wrong upper bound, similar to [a]"
   ]
  },
  {
   "cell_type": "markdown",
   "metadata": {},
   "source": [
    "I'll conclude the tightest valid bound here is **[b]**."
   ]
  },
  {
   "cell_type": "markdown",
   "metadata": {},
   "source": [
    "![](imgs/vc3.png)"
   ]
  },
  {
   "cell_type": "markdown",
   "metadata": {},
   "source": [
    "Since we're taking the union of the hypothesis sets, the lower bound should be the max amongst all sets' VC dimensions.\n",
    "\n",
    "This excludes [a], [b] and [c], and leaves [d] and [e] for consideration."
   ]
  },
  {
   "cell_type": "markdown",
   "metadata": {},
   "source": [
    "What can we say about the upper bound?"
   ]
  },
  {
   "cell_type": "markdown",
   "metadata": {},
   "source": [
    "Not quite sure, but I don't think the bound should be higher than the sum of all VC dimensions, in fact I would intuitively say that bound is already overstated."
   ]
  },
  {
   "cell_type": "markdown",
   "metadata": {},
   "source": [
    "So my purely intuitive answer would be **[d]**."
   ]
  },
  {
   "cell_type": "markdown",
   "metadata": {},
   "source": [
    "But I'm wrong =) let's try to find out why."
   ]
  },
  {
   "cell_type": "markdown",
   "metadata": {},
   "source": [
    "There's a fun discussion on that here: http://book.caltech.edu/bookforum/showthread.php?t=4241&page=3"
   ]
  },
  {
   "cell_type": "code",
   "execution_count": null,
   "metadata": {},
   "outputs": [],
   "source": []
  }
 ],
 "metadata": {
  "kernelspec": {
   "display_name": "Python3 - python",
   "language": "python",
   "name": "ipython_python"
  },
  "language_info": {
   "codemirror_mode": {
    "name": "ipython",
    "version": 3
   },
   "file_extension": ".py",
   "mimetype": "text/x-python",
   "name": "python",
   "nbconvert_exporter": "python",
   "pygments_lexer": "ipython3",
   "version": "3.7.7"
  }
 },
 "nbformat": 4,
 "nbformat_minor": 4
}
