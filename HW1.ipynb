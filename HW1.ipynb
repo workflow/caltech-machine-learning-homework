{
 "cells": [
  {
   "cell_type": "markdown",
   "metadata": {},
   "source": [
    "# Caltech Machine Learning Homework # 1"
   ]
  },
  {
   "cell_type": "markdown",
   "metadata": {},
   "source": [
    "Instructions: https://work.caltech.edu/homework/hw1.pdf\n",
    "\n",
    "Answers: http://work.caltech.edu/homework/hw1_sol.pdf"
   ]
  },
  {
   "cell_type": "markdown",
   "metadata": {},
   "source": [
    "## The Learning Problem"
   ]
  },
  {
   "cell_type": "markdown",
   "metadata": {},
   "source": [
    "### 1. What types of Machine Learning, if any, best describe the following three scenarios: "
   ]
  },
  {
   "cell_type": "markdown",
   "metadata": {},
   "source": [
    "(i) A coin classification system is created for a vending machine. The developers obtain exact coin specifications from the U.S. Mint and derive\n",
    "a statistical model of the size, weight, and denomination, which the vending machine then uses to classify coins.\n",
    "\n",
    "(ii) Instead of calling the U.S. Mint to obtain coin information, an algorithm is\n",
    "presented with a large set of labeled coins. The algorithm uses this data to\n",
    "infer decision boundaries which the vending machine then uses to classify\n",
    "its coins.\n",
    "\n",
    "(iii) A computer develops a strategy for playing Tic-Tac-Toe by playing repeatedly and adjusting its strategy by penalizing moves that eventually lead\n",
    "to losing.\n",
    "\n",
    "---\n",
    "\n",
    "[a] (i) Supervised Learning, (ii) Unsupervised Learning, (iii) Reinforcement\n",
    "Learning\n",
    "\n",
    "[b] (i) Supervised Learning, (ii) Not learning, (iii) Unsupervised Learning\n",
    "\n",
    "[c] (i) Not learning, (ii) Reinforcement Learning, (iii) Supervised Learning\n",
    "\n",
    "[d] (i) Not learning, (ii) Supervised Learning, (iii) Reinforcement Learning\n",
    "\n",
    "[e] (i) Supervised Learning, (ii) Reinforcement Learning, (iii) Unsupervised\n",
    "Learning"
   ]
  },
  {
   "cell_type": "markdown",
   "metadata": {},
   "source": [
    "My answer: "
   ]
  },
  {
   "cell_type": "markdown",
   "metadata": {
    "jupyter": {
     "source_hidden": true
    }
   },
   "source": [
    " <font color='green'>d</font>"
   ]
  },
  {
   "cell_type": "markdown",
   "metadata": {},
   "source": [
    "### 2. Which of the following problems are best suited for Machine Learning?\n",
    "\n",
    "(i) Classifying numbers into primes and non-primes.\n",
    "\n",
    "(ii) Detecting potential fraud in credit card charges.\n",
    "\n",
    "(iii) Determining the time it would take a falling object to hit the ground.\n",
    "\n",
    "(iv) Determining the optimal cycle for traffic lights in a busy intersection.\n",
    "\n",
    "---\n",
    "\n",
    "[a] (ii) and (iv)\n",
    "\n",
    "[b] (i) and (ii)\n",
    "\n",
    "[c] (i), (ii), and (iii)\n",
    "\n",
    "[d] (iii)\n",
    "\n",
    "[e] (i) and (iii)"
   ]
  },
  {
   "cell_type": "markdown",
   "metadata": {},
   "source": [
    "My answer:"
   ]
  },
  {
   "cell_type": "markdown",
   "metadata": {
    "jupyter": {
     "source_hidden": true
    }
   },
   "source": [
    " <font color='green'>a</font>"
   ]
  },
  {
   "cell_type": "code",
   "execution_count": null,
   "metadata": {},
   "outputs": [],
   "source": []
  }
 ],
 "metadata": {
  "kernelspec": {
   "display_name": "Python 3",
   "language": "python",
   "name": "python3"
  },
  "language_info": {
   "codemirror_mode": {
    "name": "ipython",
    "version": 3
   },
   "file_extension": ".py",
   "mimetype": "text/x-python",
   "name": "python",
   "nbconvert_exporter": "python",
   "pygments_lexer": "ipython3",
   "version": "3.7.7"
  }
 },
 "nbformat": 4,
 "nbformat_minor": 4
}
