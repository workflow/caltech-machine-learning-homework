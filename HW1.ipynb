{
 "cells": [
  {
   "cell_type": "markdown",
   "metadata": {},
   "source": [
    "# Caltech Machine Learning Homework # 1"
   ]
  },
  {
   "cell_type": "code",
   "execution_count": 1,
   "metadata": {},
   "outputs": [],
   "source": [
    "import numpy as np\n",
    "import random\n",
    "import matplotlib.pyplot as plt"
   ]
  },
  {
   "cell_type": "markdown",
   "metadata": {},
   "source": [
    "Instructions: https://work.caltech.edu/homework/hw1.pdf\n",
    "\n",
    "Answers: http://work.caltech.edu/homework/hw1_sol.pdf"
   ]
  },
  {
   "cell_type": "markdown",
   "metadata": {},
   "source": [
    "## The Learning Problem"
   ]
  },
  {
   "cell_type": "markdown",
   "metadata": {},
   "source": [
    "### 1. What types of Machine Learning, if any, best describe the following three scenarios: "
   ]
  },
  {
   "cell_type": "markdown",
   "metadata": {},
   "source": [
    "(i) A coin classification system is created for a vending machine. The developers obtain exact coin specifications from the U.S. Mint and derive\n",
    "a statistical model of the size, weight, and denomination, which the vending machine then uses to classify coins.\n",
    "\n",
    "(ii) Instead of calling the U.S. Mint to obtain coin information, an algorithm is\n",
    "presented with a large set of labeled coins. The algorithm uses this data to\n",
    "infer decision boundaries which the vending machine then uses to classify\n",
    "its coins.\n",
    "\n",
    "(iii) A computer develops a strategy for playing Tic-Tac-Toe by playing repeatedly and adjusting its strategy by penalizing moves that eventually lead\n",
    "to losing.\n",
    "\n",
    "---\n",
    "\n",
    "[a] (i) Supervised Learning, (ii) Unsupervised Learning, (iii) Reinforcement\n",
    "Learning\n",
    "\n",
    "[b] (i) Supervised Learning, (ii) Not learning, (iii) Unsupervised Learning\n",
    "\n",
    "[c] (i) Not learning, (ii) Reinforcement Learning, (iii) Supervised Learning\n",
    "\n",
    "[d] (i) Not learning, (ii) Supervised Learning, (iii) Reinforcement Learning\n",
    "\n",
    "[e] (i) Supervised Learning, (ii) Reinforcement Learning, (iii) Unsupervised\n",
    "Learning"
   ]
  },
  {
   "cell_type": "markdown",
   "metadata": {},
   "source": [
    "**My answer:**"
   ]
  },
  {
   "cell_type": "markdown",
   "metadata": {},
   "source": [
    " <font color='green'>d</font>"
   ]
  },
  {
   "cell_type": "markdown",
   "metadata": {},
   "source": [
    "### 2. Which of the following problems are best suited for Machine Learning?\n",
    "\n",
    "(i) Classifying numbers into primes and non-primes.\n",
    "\n",
    "(ii) Detecting potential fraud in credit card charges.\n",
    "\n",
    "(iii) Determining the time it would take a falling object to hit the ground.\n",
    "\n",
    "(iv) Determining the optimal cycle for traffic lights in a busy intersection.\n",
    "\n",
    "---\n",
    "\n",
    "[a] (ii) and (iv)\n",
    "\n",
    "[b] (i) and (ii)\n",
    "\n",
    "[c] (i), (ii), and (iii)\n",
    "\n",
    "[d] (iii)\n",
    "\n",
    "[e] (i) and (iii)"
   ]
  },
  {
   "cell_type": "markdown",
   "metadata": {},
   "source": [
    "**My answer:**"
   ]
  },
  {
   "cell_type": "markdown",
   "metadata": {},
   "source": [
    " <font color='green'>a</font>"
   ]
  },
  {
   "cell_type": "code",
   "execution_count": null,
   "metadata": {},
   "outputs": [],
   "source": []
  },
  {
   "cell_type": "markdown",
   "metadata": {},
   "source": [
    "## Bins and Marbles"
   ]
  },
  {
   "cell_type": "markdown",
   "metadata": {},
   "source": [
    "### 3. We have 2 opaque bags, each containing 2 balls. \n",
    "One bag has 2 black balls and the other has a black ball and a white ball. \n",
    "You pick a bag at random and then pick one of the balls in that bag at random.\n",
    "When you look at the ball, it is black. You now pick the second ball from that same bag. What is the\n",
    "probability that this ball is also black?\n",
    "\n",
    "\n",
    "[a] 1/4\n",
    "\n",
    "[b] 1/3\n",
    "\n",
    "[c] 1/2\n",
    "\n",
    "[d] 2/3\n",
    "\n",
    "[e] 3/4"
   ]
  },
  {
   "cell_type": "markdown",
   "metadata": {},
   "source": [
    "**My answer:**"
   ]
  },
  {
   "cell_type": "markdown",
   "metadata": {},
   "source": [
    "P(\"Black ball at start\") = 0.75\n",
    "\n",
    "P(\"White ball at start\") = 0.25\n",
    "\n",
    "P(\"Black ball after having picked one black\") = 2/3\n",
    " \n",
    " <font color='green'>d</font>"
   ]
  },
  {
   "cell_type": "markdown",
   "metadata": {},
   "source": [
    "---"
   ]
  },
  {
   "cell_type": "markdown",
   "metadata": {},
   "source": [
    "Consider a sample of 10 marbles drawn from a bin containing red and green marbles.\n",
    "\n",
    "The probability that any marble we draw is red is µ = 0.55 (independently, with\n",
    "replacement). \n",
    "\n",
    "We address the probability of getting no red marbles (ν = 0) in the\n",
    "following cases:"
   ]
  },
  {
   "cell_type": "markdown",
   "metadata": {},
   "source": [
    "### 4. We draw only one such sample.\n",
    "Compute the probability that ν = 0. The closest answer is (‘closest answer’ means: `|your answer−given option|` is closest to 0):\n",
    "    \n",
    "[a] 7.331 × 10−6\n",
    "\n",
    "[b] 3.405 × 10−4\n",
    "\n",
    "[c] 0.289\n",
    "\n",
    "[d] 0.450\n",
    "\n",
    "[e] 0.550"
   ]
  },
  {
   "cell_type": "markdown",
   "metadata": {},
   "source": [
    "**My answer:**"
   ]
  },
  {
   "cell_type": "code",
   "execution_count": 1,
   "metadata": {},
   "outputs": [
    {
     "data": {
      "text/plain": [
       "0.00034050628916015635"
      ]
     },
     "execution_count": 1,
     "metadata": {},
     "output_type": "execute_result"
    }
   ],
   "source": [
    "p_greenMarble = 0.45\n",
    "p_tenGreenMarbles = p_greenMarble ** 10\n",
    "\n",
    "p_tenGreenMarbles"
   ]
  },
  {
   "cell_type": "markdown",
   "metadata": {},
   "source": [
    " <font color='green'>b</font>"
   ]
  },
  {
   "cell_type": "markdown",
   "metadata": {},
   "source": [
    "### 5. We draw 1,000 independent samples. \n",
    "Compute the probability that (at least) one of the samples has ν = 0. The closest answer is:\n",
    "    \n",
    "[a] 7.331 × 10−6\n",
    "\n",
    "[b] 3.405 × 10−4\n",
    "\n",
    "[c] 0.289\n",
    "\n",
    "[d] 0.450\n",
    "\n",
    "[e] 0.550\n"
   ]
  },
  {
   "cell_type": "markdown",
   "metadata": {},
   "source": [
    "**My answer:**"
   ]
  },
  {
   "cell_type": "markdown",
   "metadata": {},
   "source": [
    "P(\"At least one sample has ν = 0\") = 1 - P(\"No sample has ν = 0\")"
   ]
  },
  {
   "cell_type": "code",
   "execution_count": 2,
   "metadata": {},
   "outputs": [
    {
     "data": {
      "text/plain": [
       "0.28863119784980995"
      ]
     },
     "execution_count": 2,
     "metadata": {},
     "output_type": "execute_result"
    }
   ],
   "source": [
    "N = 1000\n",
    "p_oneSampleHasNu0 = p_tenGreenMarbles\n",
    "p_noSampleHasNu0 = (1-p_oneSampleHasNu0) ** N\n",
    "p_atLeastOneSampleHasNu0 = 1 - p_noSampleHasNu0\n",
    "\n",
    "p_atLeastOneSampleHasNu0"
   ]
  },
  {
   "cell_type": "markdown",
   "metadata": {},
   "source": [
    " <font color='green'>c</font>"
   ]
  },
  {
   "cell_type": "markdown",
   "metadata": {},
   "source": [
    "## Feasibility of Learning"
   ]
  },
  {
   "cell_type": "markdown",
   "metadata": {},
   "source": [
    "![Feasibility of Learning](imgs/feasibility_of_learning.png)"
   ]
  },
  {
   "cell_type": "markdown",
   "metadata": {},
   "source": [
    "### 6. Which hypothesis g agrees the most with the possible target functions in terms of the above score?\n",
    "\n",
    "[a] g returns 1 for all three points.\n",
    "\n",
    "[b] g returns 0 for all three points.\n",
    "\n",
    "[c] g is the XOR function applied to x, i.e., if the number of 1s in x is odd, g\n",
    "returns 1; if it is even, g returns 0.\n",
    "\n",
    "[d] g returns the opposite of the XOR function: if the number of 1s is odd, it\n",
    "returns 0, otherwise returns 1.\n",
    "\n",
    "[e] They are all equivalent (equal scores for g in [a] through [d])."
   ]
  },
  {
   "cell_type": "markdown",
   "metadata": {},
   "source": [
    "**My answer:**"
   ]
  },
  {
   "cell_type": "markdown",
   "metadata": {},
   "source": [
    "```\n",
    "x6 = {1, 0, 1}\n",
    "x7 = {1, 1, 0}\n",
    "x8 = {1, 1, 1}\n",
    "\n",
    "h1(x6, x7, x8) = {0, 0, 0}\n",
    "h2(x6, x7, x8) = {0, 0, 1}\n",
    "h3(x6, x7, x8) = {0, 1, 0}\n",
    "h4(x6, x7, x8) = {0, 1, 1}\n",
    "h5(x6, x7, x8) = {1, 0, 0}\n",
    "h6(x6, x7, x8) = {1, 0, 1}\n",
    "h7(x6, x7, x8) = {1, 1, 0}\n",
    "h8(x6, x7, x8) = {1, 1, 1}\n",
    "```"
   ]
  },
  {
   "cell_type": "markdown",
   "metadata": {
    "jupyter": {
     "outputs_hidden": true
    }
   },
   "source": [
    "[a] \n",
    "g(x6, x7, x8) = {1, 1, 1}"
   ]
  },
  {
   "cell_type": "code",
   "execution_count": 3,
   "metadata": {
    "collapsed": true,
    "jupyter": {
     "outputs_hidden": true
    }
   },
   "outputs": [
    {
     "data": {
      "text/plain": [
       "12"
      ]
     },
     "execution_count": 3,
     "metadata": {},
     "output_type": "execute_result"
    }
   ],
   "source": [
    "threePoints = 1\n",
    "twoPoints = 3\n",
    "onePoint = 3\n",
    "\n",
    "score = threePoints*3+twoPoints*2+onePoint\n",
    "score"
   ]
  },
  {
   "cell_type": "markdown",
   "metadata": {
    "jupyter": {
     "outputs_hidden": true
    }
   },
   "source": [
    "[b] \n",
    "g(x6, x7, x8) = {0, 0, 0}"
   ]
  },
  {
   "cell_type": "code",
   "execution_count": 4,
   "metadata": {
    "collapsed": true,
    "jupyter": {
     "outputs_hidden": true
    }
   },
   "outputs": [
    {
     "data": {
      "text/plain": [
       "12"
      ]
     },
     "execution_count": 4,
     "metadata": {},
     "output_type": "execute_result"
    }
   ],
   "source": [
    "threePoints = 1\n",
    "twoPoints = 3\n",
    "onePoint = 3\n",
    "\n",
    "score = threePoints*3+twoPoints*2+onePoint\n",
    "score"
   ]
  },
  {
   "cell_type": "markdown",
   "metadata": {
    "jupyter": {
     "outputs_hidden": true
    }
   },
   "source": [
    "[c] \n",
    "g(x6, x7, x8) = XOR(x6, x7, x8) = {0, 0, 1}"
   ]
  },
  {
   "cell_type": "code",
   "execution_count": 5,
   "metadata": {
    "jupyter": {
     "source_hidden": true
    }
   },
   "outputs": [
    {
     "data": {
      "text/plain": [
       "12"
      ]
     },
     "execution_count": 5,
     "metadata": {},
     "output_type": "execute_result"
    }
   ],
   "source": [
    "threePoints = 1\n",
    "twoPoints = 3\n",
    "onePoint = 3\n",
    "\n",
    "score = threePoints*3+twoPoints*2+onePoint\n",
    "score"
   ]
  },
  {
   "cell_type": "markdown",
   "metadata": {
    "jupyter": {
     "source_hidden": true
    }
   },
   "source": [
    " ...\n",
    " Looks like they're all equivalent!\n",
    " <font color='green'>e</font>"
   ]
  },
  {
   "cell_type": "markdown",
   "metadata": {},
   "source": [
    "## The Perceptron Learning Algorithm"
   ]
  },
  {
   "cell_type": "markdown",
   "metadata": {},
   "source": [
    "![PLA](imgs/pla.png)"
   ]
  },
  {
   "cell_type": "code",
   "execution_count": 3,
   "metadata": {},
   "outputs": [],
   "source": [
    "def set_axis_cartesian():\n",
    "    ax = plt.figure().add_subplot(1, 1, 1)\n",
    "    ax.spines['left'].set_position('center')\n",
    "    ax.spines['bottom'].set_position('center')\n",
    "    ax.spines['right'].set_color('none')\n",
    "    ax.spines['top'].set_color('none')\n",
    "    ax.xaxis.set_ticks_position('bottom')\n",
    "    ax.yaxis.set_ticks_position('left')\n",
    "    ax.set_xlim([-1, 1])\n",
    "    ax.set_ylim([-1, 1])"
   ]
  },
  {
   "cell_type": "code",
   "execution_count": 4,
   "metadata": {},
   "outputs": [
    {
     "name": "stdout",
     "output_type": "stream",
     "text": [
      "Random Point 1: [0.89080816 0.81023944]\n",
      "Random Point 2: [0.52310647 0.22334591]\n",
      "1.596113188980488\n",
      "-0.6115912185129535\n"
     ]
    },
    {
     "data": {
      "image/png": "[encoded data removed]",
      "text/plain": [
       "<Figure size 432x288 with 1 Axes>"
      ]
     },
     "metadata": {
      "needs_background": "light"
     },
     "output_type": "display_data"
    }
   ],
   "source": [
    "p1 = np.random.uniform(-1, 1, size=2)\n",
    "p2 = np.random.uniform(-1, 1, size=2)\n",
    "\n",
    "print('Random Point 1:', p1)\n",
    "print('Random Point 2:', p2)\n",
    "\n",
    "set_axis_cartesian()\n",
    "\n",
    "plt.plot(p1[0], p1[1], 'go')\n",
    "plt.plot(p2[0], p2[1], 'mo')\n",
    "\n",
    "m = (p1[1] - p2[1]) / (p1[0] - p2[0])\n",
    "print(m)\n",
    "\n",
    "c = p1[1] - m*p1[0]\n",
    "print(c)\n",
    "\n",
    "x_axis = np.linspace(-1,1, 100)\n",
    "y_axis = m*(x_axis)+c\n",
    "plt.plot(x_axis, y_axis, 'r', label='f(x)')\n",
    "\n",
    "plt.title(f'Random Target Function f(x) = {m:.3f}x + {c:.3f}')\n",
    "plt.legend(loc='upper left')\n",
    "\n",
    "plt.show()"
   ]
  },
  {
   "cell_type": "markdown",
   "metadata": {},
   "source": [
    "### 7. Take N = 10. \n",
    "How many iterations does it take on average for the PLA to converge for N = 10 training points?\n",
    "\n",
    "Pick the value closest to your results\n",
    "(again, ‘closest’ means: |your answer − given option| is closest to 0).\n",
    "\n",
    "[a] 1\n",
    "\n",
    "[b] 15\n",
    "\n",
    "[c] 300\n",
    "\n",
    "[d] 5000\n",
    "\n",
    "[e] 10000"
   ]
  },
  {
   "cell_type": "code",
   "execution_count": 5,
   "metadata": {},
   "outputs": [
    {
     "data": {
      "text/plain": [
       "array([[-0.83677557, -0.01585948],\n",
       "       [-0.36117624,  0.89167283],\n",
       "       [ 0.81609203, -0.1813286 ],\n",
       "       [-0.54128061, -0.82937018],\n",
       "       [ 0.06291545,  0.26474042],\n",
       "       [-0.63508438, -0.7732417 ],\n",
       "       [-0.83017917,  0.71548238],\n",
       "       [ 0.46634765,  0.48647812],\n",
       "       [-0.54589593, -0.25017974],\n",
       "       [ 0.00791493,  0.79185954]])"
      ]
     },
     "execution_count": 5,
     "metadata": {},
     "output_type": "execute_result"
    }
   ],
   "source": [
    "N = 10\n",
    "x = np.random.uniform(-1, 1, size=(10,2))\n",
    "x"
   ]
  },
  {
   "cell_type": "markdown",
   "metadata": {},
   "source": [
    "With `a` and `b` the polynomial coefficients, the side of the line that a point \"lands\" on is given by\n",
    "\n",
    "```\n",
    "sign(ax+by-d)\n",
    "```\n",
    "\n",
    "![Illustration](https://i.stack.imgur.com/5H6z3.png)\n",
    "\n",
    "...where we take being on the line exactly as 0, which will always be misclassified."
   ]
  },
  {
   "cell_type": "code",
   "execution_count": 6,
   "metadata": {},
   "outputs": [
    {
     "data": {
      "image/png": "[encoded data removed]",
      "text/plain": [
       "<Figure size 432x288 with 1 Axes>"
      ]
     },
     "metadata": {
      "needs_background": "light"
     },
     "output_type": "display_data"
    }
   ],
   "source": [
    "# ...and plot the points and the line\n",
    "\n",
    "\n",
    "for i,randomPoint in enumerate(x):\n",
    "    plt.plot( randomPoint[0], randomPoint[1], 'mo', label=f'x[{i}]', c=np.random.rand(3,) )\n",
    "    \n",
    "\n",
    "plt.plot(x_axis, y_axis, 'r', label='f(x)')\n",
    "\n",
    "plt.title(f'Random Target Function f(x) = {m:.3f}x + {c:.3f}')\n",
    "plt.legend(loc='upper left')\n",
    "\n",
    "plt.show()"
   ]
  },
  {
   "cell_type": "markdown",
   "metadata": {},
   "source": [
    "```\n",
    "y = mx + c\n",
    "mx - y = -c\n",
    "\n",
    "so to put it in the form ax + by = d\n",
    "```\n",
    "\n",
    "\n"
   ]
  },
  {
   "cell_type": "code",
   "execution_count": 1,
   "metadata": {},
   "outputs": [
    {
     "ename": "NameError",
     "evalue": "name 'm' is not defined",
     "output_type": "error",
     "traceback": [
      "\u001b[0;31m---------------------------------------------------------------------------\u001b[0m",
      "\u001b[0;31mNameError\u001b[0m                                 Traceback (most recent call last)",
      "\u001b[0;32m<ipython-input-1-f4b35d20b7d4>\u001b[0m in \u001b[0;36m<module>\u001b[0;34m\u001b[0m\n\u001b[0;32m----> 1\u001b[0;31m \u001b[0ma\u001b[0m \u001b[0;34m=\u001b[0m \u001b[0mm\u001b[0m\u001b[0;34m\u001b[0m\u001b[0;34m\u001b[0m\u001b[0m\n\u001b[0m\u001b[1;32m      2\u001b[0m \u001b[0mb\u001b[0m \u001b[0;34m=\u001b[0m \u001b[0;34m-\u001b[0m\u001b[0;36m1\u001b[0m\u001b[0;34m\u001b[0m\u001b[0;34m\u001b[0m\u001b[0m\n\u001b[1;32m      3\u001b[0m \u001b[0md\u001b[0m \u001b[0;34m=\u001b[0m \u001b[0;34m-\u001b[0m\u001b[0mc\u001b[0m\u001b[0;34m\u001b[0m\u001b[0;34m\u001b[0m\u001b[0m\n\u001b[1;32m      4\u001b[0m \u001b[0;32mdef\u001b[0m \u001b[0my\u001b[0m\u001b[0;34m(\u001b[0m\u001b[0mx\u001b[0m\u001b[0;34m:\u001b[0m\u001b[0mnp\u001b[0m\u001b[0;34m.\u001b[0m\u001b[0mndarray\u001b[0m\u001b[0;34m)\u001b[0m\u001b[0;34m:\u001b[0m\u001b[0;34m\u001b[0m\u001b[0;34m\u001b[0m\u001b[0m\n\u001b[1;32m      5\u001b[0m     \u001b[0;32massert\u001b[0m \u001b[0mx\u001b[0m\u001b[0;34m.\u001b[0m\u001b[0mshape\u001b[0m \u001b[0;34m==\u001b[0m \u001b[0;34m(\u001b[0m\u001b[0;36m3\u001b[0m\u001b[0;34m,\u001b[0m\u001b[0;34m)\u001b[0m\u001b[0;34m\u001b[0m\u001b[0;34m\u001b[0m\u001b[0m\n",
      "\u001b[0;31mNameError\u001b[0m: name 'm' is not defined"
     ]
    }
   ],
   "source": [
    "a = m\n",
    "b = -1\n",
    "d = -c\n",
    "def y(x:np.ndarray):\n",
    "    assert x.shape == (3,)\n",
    "    return np.sign(a*x[1]+b*x[2]-d).astype(int)"
   ]
  },
  {
   "cell_type": "markdown",
   "metadata": {},
   "source": [
    "Introducing bias"
   ]
  },
  {
   "cell_type": "code",
   "execution_count": null,
   "metadata": {},
   "outputs": [],
   "source": []
  },
  {
   "cell_type": "code",
   "execution_count": 7,
   "metadata": {},
   "outputs": [
    {
     "data": {
      "text/plain": [
       "array([[ 1.        , -0.83677557, -0.01585948],\n",
       "       [ 1.        , -0.36117624,  0.89167283],\n",
       "       [ 1.        ,  0.81609203, -0.1813286 ],\n",
       "       [ 1.        , -0.54128061, -0.82937018],\n",
       "       [ 1.        ,  0.06291545,  0.26474042],\n",
       "       [ 1.        , -0.63508438, -0.7732417 ],\n",
       "       [ 1.        , -0.83017917,  0.71548238],\n",
       "       [ 1.        ,  0.46634765,  0.48647812],\n",
       "       [ 1.        , -0.54589593, -0.25017974],\n",
       "       [ 1.        ,  0.00791493,  0.79185954]])"
      ]
     },
     "execution_count": 7,
     "metadata": {},
     "output_type": "execute_result"
    }
   ],
   "source": [
    "xWithBias = np.insert(x, 0, 1, axis=1)\n",
    "xWithBias"
   ]
  },
  {
   "cell_type": "code",
   "execution_count": 8,
   "metadata": {},
   "outputs": [
    {
     "name": "stdout",
     "output_type": "stream",
     "text": [
      "Correct Classifications:\n",
      "-1\n",
      "-1\n",
      "1\n",
      "-1\n",
      "-1\n",
      "-1\n",
      "-1\n",
      "-1\n",
      "-1\n",
      "-1\n"
     ]
    }
   ],
   "source": [
    "\n",
    "\n",
    "print('Correct Classifications:')\n",
    "for point in xWithBias:\n",
    "    print(y(point))"
   ]
  },
  {
   "cell_type": "code",
   "execution_count": 31,
   "metadata": {},
   "outputs": [
    {
     "data": {
      "text/plain": [
       "array([0., 0., 0.])"
      ]
     },
     "execution_count": 31,
     "metadata": {},
     "output_type": "execute_result"
    }
   ],
   "source": [
    "# Initialize weights at zero\n",
    "w = np.zeros(3)\n",
    "w"
   ]
  },
  {
   "cell_type": "code",
   "execution_count": 32,
   "metadata": {},
   "outputs": [
    {
     "name": "stdout",
     "output_type": "stream",
     "text": [
      "0\n",
      "0\n"
     ]
    }
   ],
   "source": [
    "sum0 = int(np.sign(w[0]*xWithBias[0][0]+w[1]*xWithBias[0][1]+w[2]*xWithBias[0][2]))\n",
    "print(sum0)\n",
    "\n",
    "mat0 = int(np.sign( np.dot( np.transpose(w), xWithBias[0] ) ))\n",
    "print(mat0)\n",
    "\n",
    "## Perceptron model\n",
    "def h(point:np.ndarray,weights):\n",
    "    assert point.shape == (3,)\n",
    "\n",
    "    \n",
    "    return np.sign( np.dot( np.transpose(weights), point ) ).astype(int)"
   ]
  },
  {
   "cell_type": "code",
   "execution_count": 34,
   "metadata": {},
   "outputs": [
    {
     "name": "stdout",
     "output_type": "stream",
     "text": [
      "0\n",
      "0\n",
      "0\n",
      "0\n",
      "0\n",
      "0\n",
      "0\n",
      "0\n",
      "0\n",
      "0\n"
     ]
    }
   ],
   "source": [
    "# Initial application of perceptron model\n",
    "for point in xWithBias:\n",
    "    print(h(point, w))"
   ]
  },
  {
   "cell_type": "markdown",
   "metadata": {},
   "source": [
    "![PLA](https://miro.medium.com/max/516/1*PbJBdf-WxR0Dd0xHvEoh4A.png)"
   ]
  },
  {
   "cell_type": "markdown",
   "metadata": {},
   "source": [
    "![PLA From Course](imgs/pla2.png)"
   ]
  },
  {
   "cell_type": "code",
   "execution_count": 39,
   "metadata": {},
   "outputs": [
    {
     "name": "stdout",
     "output_type": "stream",
     "text": [
      "We converged after 0 runs!\n"
     ]
    }
   ],
   "source": [
    "# One run of PLA\n",
    "def converges():    \n",
    "    for point in xWithBias:\n",
    "            assert point.shape == (3,)\n",
    "            \n",
    "            if h(point, w) != y(point):\n",
    "                return False\n",
    "    print(f'We converged after {counter} runs!')\n",
    "    return True\n",
    "\n",
    "counter = 0\n",
    "while not converges():\n",
    "    counter += 1\n",
    "    print(f'PLA Iteration {counter}')\n",
    "    \n",
    "    correctNs = []\n",
    "    wrongNs = []\n",
    "    \n",
    "    # Split points into correctly and incorrectly classified\n",
    "    for n,point in enumerate(xWithBias):\n",
    "        if h(point, w) == y(point):\n",
    "            correctNs.append(n)\n",
    "        else:\n",
    "            wrongNs.append(n)\n",
    "            \n",
    "    # Pick an incorrectly classified point at random\n",
    "    updateN = random.choice(wrongNs)\n",
    "    print(f'Updating for point {updateN}')\n",
    "    \n",
    "    # Update its weight vector\n",
    "    print('Updating weight vector...')\n",
    "    print(f'Original weights: {w}')\n",
    "    for n,weight in enumerate(w):\n",
    "        w[n] = w[n] + y(xWithBias[updateN]) * xWithBias[updateN][n] \n",
    "    print(f'Updated weights: {w}')\n",
    "\n",
    "            \n",
    "    \n",
    "    \n",
    "    \n",
    "    \n",
    "    "
   ]
  },
  {
   "cell_type": "markdown",
   "metadata": {},
   "source": [
    "1000 runs of PLA next!"
   ]
  },
  {
   "cell_type": "code",
   "execution_count": 52,
   "metadata": {
    "collapsed": true,
    "jupyter": {
     "outputs_hidden": true
    }
   },
   "outputs": [
    {
     "name": "stdout",
     "output_type": "stream",
     "text": [
      "Average runs until conversion for N=10 after 1000 runs: 10.484\n"
     ]
    }
   ],
   "source": [
    "N = 10\n",
    "M = 1000\n",
    "\n",
    "convergenceTimes = []\n",
    "\n",
    "for _ in range(M):\n",
    "    nToConverge : int\n",
    "        \n",
    "    p1 = np.random.uniform(-1, 1, size=2)\n",
    "    p2 = np.random.uniform(-1, 1, size=2)\n",
    "    m = (p1[1] - p2[1]) / (p1[0] - p2[0])\n",
    "    c = p1[1] - m*p1[0]\n",
    "    x = np.random.uniform(-1, 1, size=(N,2))\n",
    "    xWithBias = np.insert(x, 0, 1, axis=1)\n",
    "    \n",
    "    def y(x:np.ndarray):\n",
    "        assert x.shape == (3,)\n",
    "        return np.sign(a*x[1]+b*x[2]-d).astype(int)\n",
    "    \n",
    "    w = np.zeros(3)\n",
    "    \n",
    "    def g(point: np.ndarray, weights: np.ndarray) -> int:\n",
    "        assert point.shape == (3,)    \n",
    "        assert weights.shape == (3,)\n",
    "        return np.sign( np.dot( np.transpose(weights), point ) ).astype(int)\n",
    "    \n",
    "    def converges():    \n",
    "        for point in xWithBias:\n",
    "            assert point.shape == (3,)\n",
    "            if g(point, w) != y(point):\n",
    "                return False\n",
    "#         print(f'We converged after {counter} runs!')\n",
    "        convergenceTimes.append(counter)\n",
    "        return True\n",
    "    \n",
    "    counter = 0\n",
    "    while not converges():\n",
    "        counter += 1\n",
    "#         print(f'PLA Iteration {counter}')\n",
    "\n",
    "        correctNs = []\n",
    "        wrongNs = []\n",
    "\n",
    "        # Split points into correctly and incorrectly classified\n",
    "        for n,point in enumerate(xWithBias):\n",
    "            if g(point,w) == y(point):\n",
    "                correctNs.append(n)\n",
    "            else:\n",
    "                wrongNs.append(n)\n",
    "\n",
    "        # Pick an incorrectly classified point at random\n",
    "        updateN = random.choice(wrongNs)\n",
    "#         print(f'Updating for point {updateN}')\n",
    "\n",
    "        # Update its weight vector\n",
    "#         print('Updating weight vector...')\n",
    "#         print(f'Original vector: {w[updateN]}')\n",
    "        for n,weight in enumerate(w):\n",
    "            w[n] = w[n] + y(xWithBias[updateN]) * xWithBias[updateN][n] \n",
    "#         print(f'Updated vector: {w[updateN]}')\n",
    "\n",
    "print(f'Average runs until conversion for N={N} after {M} runs: {sum(convergenceTimes)/M}')"
   ]
  },
  {
   "cell_type": "markdown",
   "metadata": {
    "jupyter": {
     "source_hidden": true
    }
   },
   "source": [
    "My answer:  <font color='green'>b</font>"
   ]
  },
  {
   "cell_type": "markdown",
   "metadata": {},
   "source": [
    "### 8. Which of the following is closest to P[f(x) /= g(x)] for N = 10?\n",
    "\n",
    "[a] 0.001\n",
    "\n",
    "[b] 0.01\n",
    "\n",
    "[c] 0.1\n",
    "\n",
    "[d] 0.5\n",
    "\n",
    "[e] 0.8"
   ]
  },
  {
   "cell_type": "markdown",
   "metadata": {},
   "source": [
    "No idea how to calculate the probablity exactly, so let's estimate it by checking how many points are misclassified out of a random saple of 1000 points!"
   ]
  },
  {
   "cell_type": "code",
   "execution_count": 59,
   "metadata": {
    "collapsed": true,
    "jupyter": {
     "outputs_hidden": true,
     "source_hidden": true
    }
   },
   "outputs": [
    {
     "data": {
      "text/plain": [
       "0.14"
      ]
     },
     "execution_count": 59,
     "metadata": {},
     "output_type": "execute_result"
    }
   ],
   "source": [
    "M = 1000\n",
    "\n",
    "nMissclassfiedPoints : int = 0\n",
    "    \n",
    "for _ in range(M):\n",
    "    p = np.random.uniform(-1, 1, size=2)\n",
    "    pWithBias = np.insert(p, 0, 1)    \n",
    "    if (g(pWithBias, w) != y(pWithBias)): nMissclassfiedPoints += 1\n",
    "        \n",
    "nMissclassfiedPoints/M"
   ]
  },
  {
   "cell_type": "markdown",
   "metadata": {},
   "source": [
    "### 9. Now, try N = 100.\n",
    "\n",
    "How many iterations does it take on average for the PLA to converge for N = 100 training points? Pick the value closest to your results.\n",
    "\n",
    "[a] 50\n",
    "\n",
    "[b] 100\n",
    "\n",
    "[c] 500\n",
    "\n",
    "[d] 1000\n",
    "\n",
    "[e] 5000"
   ]
  },
  {
   "cell_type": "code",
   "execution_count": 61,
   "metadata": {
    "collapsed": true,
    "jupyter": {
     "outputs_hidden": true,
     "source_hidden": true
    }
   },
   "outputs": [
    {
     "name": "stdout",
     "output_type": "stream",
     "text": [
      "Average runs until conversion for N=100 after 1000 runs: 92.592\n"
     ]
    }
   ],
   "source": [
    "N = 100\n",
    "M = 1000\n",
    "\n",
    "convergenceTimes = []\n",
    "\n",
    "for _ in range(M):\n",
    "    nToConverge : int\n",
    "        \n",
    "    p1 = np.random.uniform(-1, 1, size=2)\n",
    "    p2 = np.random.uniform(-1, 1, size=2)\n",
    "    m = (p1[1] - p2[1]) / (p1[0] - p2[0])\n",
    "    c = p1[1] - m*p1[0]\n",
    "    x = np.random.uniform(-1, 1, size=(N,2))\n",
    "    xWithBias = np.insert(x, 0, 1, axis=1)\n",
    "    \n",
    "    def y(x:np.ndarray):\n",
    "        assert x.shape == (3,)\n",
    "        return np.sign(a*x[1]+b*x[2]-d).astype(int)\n",
    "    \n",
    "    w = np.zeros(3)\n",
    "    \n",
    "    def g(point: np.ndarray, weights: np.ndarray) -> int:\n",
    "        assert point.shape == (3,)    \n",
    "        assert weights.shape == (3,)\n",
    "        return np.sign( np.dot( np.transpose(weights), point ) ).astype(int)\n",
    "    \n",
    "    def converges():    \n",
    "        for point in xWithBias:\n",
    "            assert point.shape == (3,)\n",
    "            if g(point, w) != y(point):\n",
    "                return False\n",
    "#         print(f'We converged after {counter} runs!')\n",
    "        convergenceTimes.append(counter)\n",
    "        return True\n",
    "    \n",
    "    counter = 0\n",
    "    while not converges():\n",
    "        counter += 1\n",
    "#         print(f'PLA Iteration {counter}')\n",
    "\n",
    "        correctNs = []\n",
    "        wrongNs = []\n",
    "\n",
    "        # Split points into correctly and incorrectly classified\n",
    "        for n,point in enumerate(xWithBias):\n",
    "            if g(point,w) == y(point):\n",
    "                correctNs.append(n)\n",
    "            else:\n",
    "                wrongNs.append(n)\n",
    "\n",
    "        # Pick an incorrectly classified point at random\n",
    "        updateN = random.choice(wrongNs)\n",
    "#         print(f'Updating for point {updateN}')\n",
    "\n",
    "        # Update its weight vector\n",
    "#         print('Updating weight vector...')\n",
    "#         print(f'Original vector: {w[updateN]}')\n",
    "        for n,weight in enumerate(w):\n",
    "            w[n] = w[n] + y(xWithBias[updateN]) * xWithBias[updateN][n] \n",
    "#         print(f'Updated vector: {w[updateN]}')\n",
    "\n",
    "print(f'Average runs until conversion for N={N} after {M} runs: {sum(convergenceTimes)/M}')"
   ]
  },
  {
   "cell_type": "markdown",
   "metadata": {},
   "source": [
    "### 10. Which of the following is closest to P[f(x) != g(x)] for N = 100?\n",
    "\n",
    "\n",
    "[a] 0.001\n",
    "\n",
    "[b] 0.01\n",
    "\n",
    "[c] 0.1\n",
    "\n",
    "[d] 0.5\n",
    "\n",
    "[e] 0.8"
   ]
  },
  {
   "cell_type": "code",
   "execution_count": 63,
   "metadata": {
    "collapsed": true,
    "jupyter": {
     "outputs_hidden": true,
     "source_hidden": true
    }
   },
   "outputs": [
    {
     "data": {
      "text/plain": [
       "0.019"
      ]
     },
     "execution_count": 63,
     "metadata": {},
     "output_type": "execute_result"
    }
   ],
   "source": [
    "M = 1000\n",
    "\n",
    "nMissclassfiedPoints : int = 0\n",
    "    \n",
    "for _ in range(M):\n",
    "    p = np.random.uniform(-1, 1, size=2)\n",
    "    pWithBias = np.insert(p, 0, 1)    \n",
    "    if (g(pWithBias, w) != y(pWithBias)): nMissclassfiedPoints += 1\n",
    "        \n",
    "nMissclassfiedPoints/M"
   ]
  },
  {
   "cell_type": "code",
   "execution_count": null,
   "metadata": {},
   "outputs": [],
   "source": []
  }
 ],
 "metadata": {
  "kernelspec": {
   "display_name": "Python3 - python",
   "language": "python",
   "name": "ipython_python"
  },
  "language_info": {
   "codemirror_mode": {
    "name": "ipython",
    "version": 3
   },
   "file_extension": ".py",
   "mimetype": "text/x-python",
   "name": "python",
   "nbconvert_exporter": "python",
   "pygments_lexer": "ipython3",
   "version": "3.7.7"
  }
 },
 "nbformat": 4,
 "nbformat_minor": 4
}
