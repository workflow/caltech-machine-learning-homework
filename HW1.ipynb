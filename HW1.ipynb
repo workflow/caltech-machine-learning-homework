{
 "cells": [
  {
   "cell_type": "markdown",
   "metadata": {},
   "source": [
    "# Caltech Machine Learning Homework # 1"
   ]
  },
  {
   "cell_type": "code",
   "execution_count": 2,
   "metadata": {},
   "outputs": [],
   "source": [
    "import numpy as np\n",
    "import random\n",
    "import matplotlib.pyplot as plt"
   ]
  },
  {
   "cell_type": "markdown",
   "metadata": {},
   "source": [
    "Instructions: https://work.caltech.edu/homework/hw1.pdf\n",
    "\n",
    "Answers: http://work.caltech.edu/homework/hw1_sol.pdf"
   ]
  },
  {
   "cell_type": "markdown",
   "metadata": {},
   "source": [
    "## The Learning Problem"
   ]
  },
  {
   "cell_type": "markdown",
   "metadata": {},
   "source": [
    "### 1. What types of Machine Learning, if any, best describe the following three scenarios: "
   ]
  },
  {
   "cell_type": "markdown",
   "metadata": {},
   "source": [
    "(i) A coin classification system is created for a vending machine. The developers obtain exact coin specifications from the U.S. Mint and derive\n",
    "a statistical model of the size, weight, and denomination, which the vending machine then uses to classify coins.\n",
    "\n",
    "(ii) Instead of calling the U.S. Mint to obtain coin information, an algorithm is\n",
    "presented with a large set of labeled coins. The algorithm uses this data to\n",
    "infer decision boundaries which the vending machine then uses to classify\n",
    "its coins.\n",
    "\n",
    "(iii) A computer develops a strategy for playing Tic-Tac-Toe by playing repeatedly and adjusting its strategy by penalizing moves that eventually lead\n",
    "to losing.\n",
    "\n",
    "---\n",
    "\n",
    "[a] (i) Supervised Learning, (ii) Unsupervised Learning, (iii) Reinforcement\n",
    "Learning\n",
    "\n",
    "[b] (i) Supervised Learning, (ii) Not learning, (iii) Unsupervised Learning\n",
    "\n",
    "[c] (i) Not learning, (ii) Reinforcement Learning, (iii) Supervised Learning\n",
    "\n",
    "[d] (i) Not learning, (ii) Supervised Learning, (iii) Reinforcement Learning\n",
    "\n",
    "[e] (i) Supervised Learning, (ii) Reinforcement Learning, (iii) Unsupervised\n",
    "Learning"
   ]
  },
  {
   "cell_type": "markdown",
   "metadata": {},
   "source": [
    "**My answer:**"
   ]
  },
  {
   "cell_type": "markdown",
   "metadata": {
    "jupyter": {
     "source_hidden": true
    }
   },
   "source": [
    " <font color='green'>d</font>"
   ]
  },
  {
   "cell_type": "markdown",
   "metadata": {},
   "source": [
    "### 2. Which of the following problems are best suited for Machine Learning?\n",
    "\n",
    "(i) Classifying numbers into primes and non-primes.\n",
    "\n",
    "(ii) Detecting potential fraud in credit card charges.\n",
    "\n",
    "(iii) Determining the time it would take a falling object to hit the ground.\n",
    "\n",
    "(iv) Determining the optimal cycle for traffic lights in a busy intersection.\n",
    "\n",
    "---\n",
    "\n",
    "[a] (ii) and (iv)\n",
    "\n",
    "[b] (i) and (ii)\n",
    "\n",
    "[c] (i), (ii), and (iii)\n",
    "\n",
    "[d] (iii)\n",
    "\n",
    "[e] (i) and (iii)"
   ]
  },
  {
   "cell_type": "markdown",
   "metadata": {},
   "source": [
    "**My answer:**"
   ]
  },
  {
   "cell_type": "markdown",
   "metadata": {
    "jupyter": {
     "source_hidden": true
    }
   },
   "source": [
    " <font color='green'>a</font>"
   ]
  },
  {
   "cell_type": "code",
   "execution_count": null,
   "metadata": {},
   "outputs": [],
   "source": []
  },
  {
   "cell_type": "markdown",
   "metadata": {},
   "source": [
    "## Bins and Marbles"
   ]
  },
  {
   "cell_type": "markdown",
   "metadata": {},
   "source": [
    "### 3. We have 2 opaque bags, each containing 2 balls. \n",
    "One bag has 2 black balls and the other has a black ball and a white ball. \n",
    "You pick a bag at random and then pick one of the balls in that bag at random.\n",
    "When you look at the ball, it is black. You now pick the second ball from that same bag. What is the\n",
    "probability that this ball is also black?\n",
    "\n",
    "\n",
    "[a] 1/4\n",
    "\n",
    "[b] 1/3\n",
    "\n",
    "[c] 1/2\n",
    "\n",
    "[d] 2/3\n",
    "\n",
    "[e] 3/4"
   ]
  },
  {
   "cell_type": "markdown",
   "metadata": {},
   "source": [
    "**My answer:**"
   ]
  },
  {
   "cell_type": "markdown",
   "metadata": {
    "jupyter": {
     "source_hidden": true
    }
   },
   "source": [
    "P(\"Black ball at start\") = 0.75\n",
    "\n",
    "P(\"White ball at start\") = 0.25\n",
    "\n",
    "P(\"Black ball after having picked one black\") = 2/3\n",
    " \n",
    " <font color='green'>d</font>"
   ]
  },
  {
   "cell_type": "markdown",
   "metadata": {},
   "source": [
    "---"
   ]
  },
  {
   "cell_type": "markdown",
   "metadata": {},
   "source": [
    "Consider a sample of 10 marbles drawn from a bin containing red and green marbles.\n",
    "\n",
    "The probability that any marble we draw is red is µ = 0.55 (independently, with\n",
    "replacement). \n",
    "\n",
    "We address the probability of getting no red marbles (ν = 0) in the\n",
    "following cases:"
   ]
  },
  {
   "cell_type": "markdown",
   "metadata": {},
   "source": [
    "### 4. We draw only one such sample.\n",
    "Compute the probability that ν = 0. The closest answer is (‘closest answer’ means: `|your answer−given option|` is closest to 0):\n",
    "    \n",
    "[a] 7.331 × 10−6\n",
    "\n",
    "[b] 3.405 × 10−4\n",
    "\n",
    "[c] 0.289\n",
    "\n",
    "[d] 0.450\n",
    "\n",
    "[e] 0.550"
   ]
  },
  {
   "cell_type": "markdown",
   "metadata": {},
   "source": [
    "**My answer:**"
   ]
  },
  {
   "cell_type": "code",
   "execution_count": 4,
   "metadata": {
    "collapsed": true,
    "jupyter": {
     "outputs_hidden": true
    }
   },
   "outputs": [
    {
     "data": {
      "text/plain": [
       "0.00034050628916015635"
      ]
     },
     "execution_count": 4,
     "metadata": {},
     "output_type": "execute_result"
    }
   ],
   "source": [
    "p_greenMarble = 0.45\n",
    "p_tenGreenMarbles = p_greenMarble ** 10\n",
    "\n",
    "p_tenGreenMarbles"
   ]
  },
  {
   "cell_type": "markdown",
   "metadata": {
    "jupyter": {
     "source_hidden": true
    }
   },
   "source": [
    " <font color='green'>b</font>"
   ]
  },
  {
   "cell_type": "markdown",
   "metadata": {},
   "source": [
    "### 5. We draw 1,000 independent samples. \n",
    "Compute the probability that (at least) one of the samples has ν = 0. The closest answer is:\n",
    "    \n",
    "[a] 7.331 × 10−6\n",
    "\n",
    "[b] 3.405 × 10−4\n",
    "\n",
    "[c] 0.289\n",
    "\n",
    "[d] 0.450\n",
    "\n",
    "[e] 0.550\n"
   ]
  },
  {
   "cell_type": "markdown",
   "metadata": {},
   "source": [
    "**My answer:**"
   ]
  },
  {
   "cell_type": "markdown",
   "metadata": {
    "jupyter": {
     "source_hidden": true
    }
   },
   "source": [
    "P(\"At least one sample has ν = 0\") = 1 - P(\"No sample has ν = 0\")"
   ]
  },
  {
   "cell_type": "code",
   "execution_count": 7,
   "metadata": {
    "collapsed": true,
    "jupyter": {
     "outputs_hidden": true,
     "source_hidden": true
    }
   },
   "outputs": [
    {
     "data": {
      "text/plain": [
       "0.28863119784980995"
      ]
     },
     "execution_count": 7,
     "metadata": {},
     "output_type": "execute_result"
    }
   ],
   "source": [
    "N = 1000\n",
    "p_oneSampleHasNu0 = p_tenGreenMarbles\n",
    "p_noSampleHasNu0 = (1-p_oneSampleHasNu0) ** N\n",
    "p_atLeastOneSampleHasNu0 = 1 - p_noSampleHasNu0\n",
    "\n",
    "p_atLeastOneSampleHasNu0"
   ]
  },
  {
   "cell_type": "markdown",
   "metadata": {
    "jupyter": {
     "source_hidden": true
    }
   },
   "source": [
    " <font color='green'>c</font>"
   ]
  },
  {
   "cell_type": "markdown",
   "metadata": {},
   "source": [
    "## Feasibility of Learning"
   ]
  },
  {
   "cell_type": "markdown",
   "metadata": {},
   "source": [
    "![Feasibility of Learning](imgs/feasibility_of_learning.png)"
   ]
  },
  {
   "cell_type": "markdown",
   "metadata": {},
   "source": [
    "### 6. Which hypothesis g agrees the most with the possible target functions in terms of the above score?\n",
    "\n",
    "[a] g returns 1 for all three points.\n",
    "\n",
    "[b] g returns 0 for all three points.\n",
    "\n",
    "[c] g is the XOR function applied to x, i.e., if the number of 1s in x is odd, g\n",
    "returns 1; if it is even, g returns 0.\n",
    "\n",
    "[d] g returns the opposite of the XOR function: if the number of 1s is odd, it\n",
    "returns 0, otherwise returns 1.\n",
    "\n",
    "[e] They are all equivalent (equal scores for g in [a] through [d])."
   ]
  },
  {
   "cell_type": "markdown",
   "metadata": {},
   "source": [
    "**My answer:**"
   ]
  },
  {
   "cell_type": "markdown",
   "metadata": {
    "jupyter": {
     "source_hidden": true
    }
   },
   "source": [
    "```\n",
    "x6 = {1, 0, 1}\n",
    "x7 = {1, 1, 0}\n",
    "x8 = {1, 1, 1}\n",
    "\n",
    "h1(x6, x7, x8) = {0, 0, 0}\n",
    "h2(x6, x7, x8) = {0, 0, 1}\n",
    "h3(x6, x7, x8) = {0, 1, 0}\n",
    "h4(x6, x7, x8) = {0, 1, 1}\n",
    "h5(x6, x7, x8) = {1, 0, 0}\n",
    "h6(x6, x7, x8) = {1, 0, 1}\n",
    "h7(x6, x7, x8) = {1, 1, 0}\n",
    "h8(x6, x7, x8) = {1, 1, 1}\n",
    "```"
   ]
  },
  {
   "cell_type": "markdown",
   "metadata": {
    "jupyter": {
     "outputs_hidden": true,
     "source_hidden": true
    }
   },
   "source": [
    "[a] \n",
    "g(x6, x7, x8) = {1, 1, 1}"
   ]
  },
  {
   "cell_type": "code",
   "execution_count": 3,
   "metadata": {
    "collapsed": true,
    "jupyter": {
     "outputs_hidden": true,
     "source_hidden": true
    }
   },
   "outputs": [
    {
     "data": {
      "text/plain": [
       "12"
      ]
     },
     "execution_count": 3,
     "metadata": {},
     "output_type": "execute_result"
    }
   ],
   "source": [
    "threePoints = 1\n",
    "twoPoints = 3\n",
    "onePoint = 3\n",
    "\n",
    "score = threePoints*3+twoPoints*2+onePoint\n",
    "score"
   ]
  },
  {
   "cell_type": "markdown",
   "metadata": {
    "jupyter": {
     "outputs_hidden": true,
     "source_hidden": true
    }
   },
   "source": [
    "[b] \n",
    "g(x6, x7, x8) = {0, 0, 0}"
   ]
  },
  {
   "cell_type": "code",
   "execution_count": 4,
   "metadata": {
    "collapsed": true,
    "jupyter": {
     "outputs_hidden": true,
     "source_hidden": true
    }
   },
   "outputs": [
    {
     "data": {
      "text/plain": [
       "12"
      ]
     },
     "execution_count": 4,
     "metadata": {},
     "output_type": "execute_result"
    }
   ],
   "source": [
    "threePoints = 1\n",
    "twoPoints = 3\n",
    "onePoint = 3\n",
    "\n",
    "score = threePoints*3+twoPoints*2+onePoint\n",
    "score"
   ]
  },
  {
   "cell_type": "markdown",
   "metadata": {
    "jupyter": {
     "outputs_hidden": true
    }
   },
   "source": [
    "[c] \n",
    "g(x6, x7, x8) = XOR(x6, x7, x8) = {0, 0, 1}"
   ]
  },
  {
   "cell_type": "code",
   "execution_count": 5,
   "metadata": {
    "collapsed": true,
    "jupyter": {
     "outputs_hidden": true,
     "source_hidden": true
    }
   },
   "outputs": [
    {
     "data": {
      "text/plain": [
       "12"
      ]
     },
     "execution_count": 5,
     "metadata": {},
     "output_type": "execute_result"
    }
   ],
   "source": [
    "threePoints = 1\n",
    "twoPoints = 3\n",
    "onePoint = 3\n",
    "\n",
    "score = threePoints*3+twoPoints*2+onePoint\n",
    "score"
   ]
  },
  {
   "cell_type": "markdown",
   "metadata": {
    "jupyter": {
     "source_hidden": true
    }
   },
   "source": [
    " ...\n",
    " Looks like they're all equivalent!\n",
    " <font color='green'>e</font>"
   ]
  },
  {
   "cell_type": "markdown",
   "metadata": {},
   "source": [
    "## The Perceptron Learning Algorithm"
   ]
  },
  {
   "cell_type": "markdown",
   "metadata": {},
   "source": [
    "![PLA](imgs/pla.png)"
   ]
  },
  {
   "cell_type": "code",
   "execution_count": 3,
   "metadata": {},
   "outputs": [
    {
     "name": "stdout",
     "output_type": "stream",
     "text": [
      "Random Point 1: [ 0.45159516 -0.38176686]\n",
      "Random Point 2: [0.48564309 0.67881081]\n"
     ]
    },
    {
     "data": {
      "image/png": "[encoded data removed]",
      "text/plain": [
       "<Figure size 432x288 with 1 Axes>"
      ]
     },
     "metadata": {
      "needs_background": "light"
     },
     "output_type": "display_data"
    }
   ],
   "source": [
    "p1 = np.random.uniform(-1, 1, size=2)\n",
    "p2 = np.random.uniform(-1, 1, size=2)\n",
    "\n",
    "print('Random Point 1:', p1)\n",
    "print('Random Point 2:', p2)\n",
    "\n",
    "coefficients = np.polyfit(p1, p2, 1)\n",
    "m,c = coefficients\n",
    "\n",
    "# Let's compute the values of the line...\n",
    "polynomial = np.poly1d(coefficients)\n",
    "x_axis = np.linspace(-1,1, 100)\n",
    "y_axis = polynomial(x_axis)\n",
    "\n",
    "# ...and plot the points and the line\n",
    "ax = plt.figure().add_subplot(1, 1, 1)\n",
    "ax.spines['left'].set_position('center')\n",
    "ax.spines['bottom'].set_position('center')\n",
    "ax.spines['right'].set_color('none')\n",
    "ax.spines['top'].set_color('none')\n",
    "ax.xaxis.set_ticks_position('bottom')\n",
    "ax.yaxis.set_ticks_position('left')\n",
    "ax.set_xlim([-1, 1])\n",
    "ax.set_ylim([-1, 1])\n",
    "\n",
    "plt.plot( p1[0], p2[0], 'go' )\n",
    "plt.plot( p1[1], p2[1], 'go' )\n",
    "plt.plot(x_axis, y_axis, 'r', label='f(x)')\n",
    "\n",
    "plt.title(f'Random Target Function f(x) = {m:.3f}x + {c:.3f}')\n",
    "plt.legend(loc='upper left')\n",
    "\n",
    "plt.show()"
   ]
  },
  {
   "cell_type": "markdown",
   "metadata": {},
   "source": [
    "### 7. Take N = 10. \n",
    "How many iterations does it take on average for the PLA to converge for N = 10 training points?\n",
    "\n",
    "Pick the value closest to your results\n",
    "(again, ‘closest’ means: |your answer − given option| is closest to 0).\n",
    "\n",
    "[a] 1\n",
    "\n",
    "[b] 15\n",
    "\n",
    "[c] 300\n",
    "\n",
    "[d] 5000\n",
    "\n",
    "[e] 10000"
   ]
  },
  {
   "cell_type": "code",
   "execution_count": 66,
   "metadata": {},
   "outputs": [
    {
     "data": {
      "text/plain": [
       "array([[ 0.40728772, -0.11154919],\n",
       "       [-0.99396687, -0.5839794 ],\n",
       "       [-0.7061419 ,  0.05383565],\n",
       "       [ 0.23615755, -0.48773337],\n",
       "       [ 0.98783431,  0.15764671],\n",
       "       [-0.20520328,  0.50692322],\n",
       "       [ 0.66396592,  0.71700739],\n",
       "       [ 0.89736268, -0.30779945],\n",
       "       [ 0.60747723,  0.2091331 ],\n",
       "       [-0.24073375,  0.7194516 ]])"
      ]
     },
     "execution_count": 66,
     "metadata": {},
     "output_type": "execute_result"
    }
   ],
   "source": [
    "N = 10\n",
    "x = np.random.uniform(-1, 1, size=(10,2))\n",
    "x"
   ]
  },
  {
   "cell_type": "markdown",
   "metadata": {},
   "source": [
    "With `a` and `b` the polynomial coefficients, the side of the line that a point \"lands\" on is given by\n",
    "\n",
    "```\n",
    "sign(ax+by-d)\n",
    "```\n",
    "\n",
    "![Illustration](https://i.stack.imgur.com/5H6z3.png)\n",
    "\n",
    "...where we take being on the line exactly as 0, which will always be misclassified."
   ]
  },
  {
   "cell_type": "code",
   "execution_count": 67,
   "metadata": {},
   "outputs": [
    {
     "data": {
      "image/png": "[encoded data removed]",
      "text/plain": [
       "<Figure size 432x288 with 1 Axes>"
      ]
     },
     "metadata": {
      "needs_background": "light"
     },
     "output_type": "display_data"
    }
   ],
   "source": [
    "# ...and plot the points and the line\n",
    "ax = plt.figure().add_subplot(1, 1, 1)\n",
    "ax.spines['left'].set_position('center')\n",
    "ax.spines['bottom'].set_position('center')\n",
    "ax.spines['right'].set_color('none')\n",
    "ax.spines['top'].set_color('none')\n",
    "ax.xaxis.set_ticks_position('bottom')\n",
    "ax.yaxis.set_ticks_position('left')\n",
    "ax.set_xlim([-1, 1])\n",
    "ax.set_ylim([-1, 1])\n",
    "\n",
    "for i,randomPoint in enumerate(x):\n",
    "    plt.plot( randomPoint[0], randomPoint[1], 'mo', label=f'x[{i}]', c=np.random.rand(3,) )\n",
    "    \n",
    "\n",
    "plt.plot(x_axis, y_axis, 'r', label='f(x)')\n",
    "\n",
    "plt.title(f'Random Target Function f(x) = {m:.3f}x + {c:.3f}')\n",
    "plt.legend(loc='upper left')\n",
    "\n",
    "plt.show()"
   ]
  },
  {
   "cell_type": "markdown",
   "metadata": {},
   "source": [
    "```\n",
    "y = mx + c\n",
    "mx - y = -c\n",
    "\n",
    "so to put it in the form ax + by = d\n",
    "```\n",
    "\n",
    "\n"
   ]
  },
  {
   "cell_type": "markdown",
   "metadata": {},
   "source": [
    "Introducing bias"
   ]
  },
  {
   "cell_type": "code",
   "execution_count": 70,
   "metadata": {},
   "outputs": [
    {
     "data": {
      "text/plain": [
       "array([[ 1.        ,  0.40728772, -0.11154919],\n",
       "       [ 1.        , -0.99396687, -0.5839794 ],\n",
       "       [ 1.        , -0.7061419 ,  0.05383565],\n",
       "       [ 1.        ,  0.23615755, -0.48773337],\n",
       "       [ 1.        ,  0.98783431,  0.15764671],\n",
       "       [ 1.        , -0.20520328,  0.50692322],\n",
       "       [ 1.        ,  0.66396592,  0.71700739],\n",
       "       [ 1.        ,  0.89736268, -0.30779945],\n",
       "       [ 1.        ,  0.60747723,  0.2091331 ],\n",
       "       [ 1.        , -0.24073375,  0.7194516 ]])"
      ]
     },
     "execution_count": 70,
     "metadata": {},
     "output_type": "execute_result"
    }
   ],
   "source": [
    "xWithBias = np.insert(x, 0, 1, axis=1)\n",
    "xWithBias"
   ]
  },
  {
   "cell_type": "code",
   "execution_count": 85,
   "metadata": {},
   "outputs": [
    {
     "name": "stdout",
     "output_type": "stream",
     "text": [
      "Correct Classifications:\n",
      "1\n",
      "1\n",
      "1\n",
      "1\n",
      "1\n",
      "1\n",
      "-1\n",
      "1\n",
      "1\n",
      "-1\n"
     ]
    }
   ],
   "source": [
    "a = m\n",
    "b = -1\n",
    "d = -c\n",
    "def y(x):\n",
    "    assert isinstance(x, np.ndarray)\n",
    "    assert x.shape == (2,)\n",
    "    return np.sign(a*x[0]+b*x[1]-d).astype(int)\n",
    "\n",
    "print('Correct Classifications:')\n",
    "for point in x:\n",
    "    print(y(point))"
   ]
  },
  {
   "cell_type": "code",
   "execution_count": 72,
   "metadata": {},
   "outputs": [
    {
     "data": {
      "text/plain": [
       "array([[0., 0., 0.],\n",
       "       [0., 0., 0.],\n",
       "       [0., 0., 0.],\n",
       "       [0., 0., 0.],\n",
       "       [0., 0., 0.],\n",
       "       [0., 0., 0.],\n",
       "       [0., 0., 0.],\n",
       "       [0., 0., 0.],\n",
       "       [0., 0., 0.],\n",
       "       [0., 0., 0.]])"
      ]
     },
     "execution_count": 72,
     "metadata": {},
     "output_type": "execute_result"
    }
   ],
   "source": [
    "# Initialize weights at zero\n",
    "w = np.zeros_like(xWithBias)\n",
    "w"
   ]
  },
  {
   "cell_type": "code",
   "execution_count": 73,
   "metadata": {},
   "outputs": [
    {
     "name": "stdout",
     "output_type": "stream",
     "text": [
      "0\n",
      "0\n"
     ]
    }
   ],
   "source": [
    "sum0 = int(np.sign(w[0][0]*xWithBias[0][0]+w[0][1]*xWithBias[0][1]+w[0][2]*xWithBias[0][2]))\n",
    "print(sum0)\n",
    "\n",
    "mat0 = int(np.sign( np.dot( np.transpose(w[0]), xWithBias[0] ) ))\n",
    "print(mat0)\n",
    "\n",
    "## Perceptron model\n",
    "def h(point,weights):\n",
    "    return int(np.sign( np.dot( np.transpose(weights), point ) )) "
   ]
  },
  {
   "cell_type": "code",
   "execution_count": 74,
   "metadata": {},
   "outputs": [
    {
     "name": "stdout",
     "output_type": "stream",
     "text": [
      "0\n",
      "0\n",
      "0\n",
      "0\n",
      "0\n",
      "0\n",
      "0\n",
      "0\n",
      "0\n",
      "0\n"
     ]
    }
   ],
   "source": [
    "# Initial application of perceptron model\n",
    "for n,point in enumerate(xWithBias):\n",
    "    print(h(point, w[n]))"
   ]
  },
  {
   "cell_type": "markdown",
   "metadata": {},
   "source": [
    "![PLA](https://miro.medium.com/max/516/1*PbJBdf-WxR0Dd0xHvEoh4A.png)"
   ]
  },
  {
   "cell_type": "code",
   "execution_count": 94,
   "metadata": {},
   "outputs": [
    {
     "ename": "SyntaxError",
     "evalue": "invalid syntax (<ipython-input-94-88896c926042>, line 12)",
     "output_type": "error",
     "traceback": [
      "\u001b[0;36m  File \u001b[0;32m\"<ipython-input-94-88896c926042>\"\u001b[0;36m, line \u001b[0;32m12\u001b[0m\n\u001b[0;31m    while(!converges()):\u001b[0m\n\u001b[0m          ^\u001b[0m\n\u001b[0;31mSyntaxError\u001b[0m\u001b[0;31m:\u001b[0m invalid syntax\n"
     ]
    }
   ],
   "source": [
    "# PLA\n",
    "def converges():    \n",
    "    for n,point in enumerate(x):\n",
    "            assert isinstance(point, np.ndarray)\n",
    "            assert point.shape == (2,)\n",
    "            \n",
    "            if h(xWithBias[n], w[n]) != y(point):\n",
    "                return False\n",
    "    return True\n",
    "\n",
    "counter = 0\n",
    "while(!converges()):\n",
    "    counter =+ 1\n",
    "    print(f'PLA Iteration {counter}')"
   ]
  },
  {
   "cell_type": "code",
   "execution_count": null,
   "metadata": {},
   "outputs": [],
   "source": []
  }
 ],
 "metadata": {
  "kernelspec": {
   "display_name": "Python3 - python",
   "language": "python",
   "name": "ipython_python"
  },
  "language_info": {
   "codemirror_mode": {
    "name": "ipython",
    "version": 3
   },
   "file_extension": ".py",
   "mimetype": "text/x-python",
   "name": "python",
   "nbconvert_exporter": "python",
   "pygments_lexer": "ipython3",
   "version": "3.7.7"
  }
 },
 "nbformat": 4,
 "nbformat_minor": 4
}
