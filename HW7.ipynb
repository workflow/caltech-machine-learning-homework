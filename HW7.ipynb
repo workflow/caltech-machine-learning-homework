{
 "cells": [
  {
   "cell_type": "markdown",
   "metadata": {},
   "source": [
    "# Caltech Machine Learning Homework # 7"
   ]
  },
  {
   "cell_type": "code",
   "execution_count": 1,
   "metadata": {},
   "outputs": [],
   "source": [
    "import numpy as np\n",
    "from sklearn.linear_model import Perceptron\n",
    "import random\n",
    "import math\n",
    "import matplotlib.pyplot as plt\n",
    "from typing import List\n",
    "from itertools import product\n",
    "import scipy.special\n",
    "from scipy import optimize\n",
    "import scipy.optimize as spo\n",
    "from sympy import Symbol, Derivative\n",
    "import functools\n",
    "\n",
    "def dbg():\n",
    "    import pdb; pdb.set_trace()"
   ]
  },
  {
   "cell_type": "markdown",
   "metadata": {},
   "source": [
    "Instructions: https://work.caltech.edu/homework/hw7.pdf\n",
    "\n",
    "Answers: http://work.caltech.edu/homework/hw7_sol.pdf"
   ]
  },
  {
   "cell_type": "markdown",
   "metadata": {},
   "source": [
    "## Validation"
   ]
  },
  {
   "cell_type": "markdown",
   "metadata": {},
   "source": [
    "![](imgs/val1.png)"
   ]
  },
  {
   "cell_type": "code",
   "execution_count": 19,
   "metadata": {},
   "outputs": [
    {
     "name": "stdout",
     "output_type": "stream",
     "text": [
      "E_VAL for k=3 is 0.3\n",
      "E_VAL for k=4 is 0.5\n",
      "E_VAL for k=5 is 0.2\n",
      "E_VAL for k=6 is 0.0\n",
      "E_VAL for k=7 is 0.1\n"
     ]
    }
   ],
   "source": [
    "data = np.loadtxt('data/hw7/in.dta.txt')\n",
    "\n",
    "N_train = 25\n",
    "X_train = data[:N_train,:-1]\n",
    "Y_train = data[:N_train,2]\n",
    "\n",
    "N_val = 10\n",
    "X_val = data[-N_val:,:-1]\n",
    "Y_val = data[-N_val:,2]\n",
    "\n",
    "def phi(X, k):\n",
    "    assert(X.shape == (2,))\n",
    "    x1, x2 = X\n",
    "    return np.array([1, x1, x2, x1 * x1, x2 * x2, x1 * x2, np.abs(x1-x2), np.abs(x1+x2)])[:k+1]\n",
    "\n",
    "for k in range(3, 8):\n",
    "    # Non-Linear Transformation\n",
    "    Z_train = np.apply_along_axis(phi, 1, X_train, k)\n",
    "    Z_val = np.apply_along_axis(phi, 1, X_val, k)\n",
    "\n",
    "    # Linear Regression\n",
    "    X_dagger = np.dot(np.linalg.inv(np.dot(Z_train.T, Z_train)), Z_train.T)\n",
    "    W = np.dot(X_dagger, Y_train)\n",
    "\n",
    "    # Validation Error\n",
    "    preds_val = np.sign(np.dot(Z_val, W))\n",
    "    E_OUT = sum(preds_val != Y_val) / N_val\n",
    "\n",
    "    print(f\"E_VAL for k={k} is {E_OUT}\")\n",
    "\n",
    "\n",
    "\n"
   ]
  },
  {
   "cell_type": "markdown",
   "metadata": {},
   "source": [
    "So the smallest classification error on the validation set occurs for `k=6`, **[d]**."
   ]
  },
  {
   "cell_type": "code",
   "execution_count": null,
   "metadata": {},
   "outputs": [],
   "source": []
  }
 ],
 "metadata": {
  "kernelspec": {
   "display_name": "Python3 - python",
   "language": "python",
   "name": "ipython_python"
  },
  "language_info": {
   "codemirror_mode": {
    "name": "ipython",
    "version": 3
   },
   "file_extension": ".py",
   "mimetype": "text/x-python",
   "name": "python",
   "nbconvert_exporter": "python",
   "pygments_lexer": "ipython3",
   "version": "3.7.7"
  }
 },
 "nbformat": 4,
 "nbformat_minor": 4
}
