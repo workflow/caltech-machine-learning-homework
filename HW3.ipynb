{
 "cells": [
  {
   "cell_type": "markdown",
   "metadata": {},
   "source": [
    "# Caltech Machine Learning Homework # 2"
   ]
  },
  {
   "cell_type": "code",
   "execution_count": 29,
   "metadata": {},
   "outputs": [],
   "source": [
    "import numpy as np\n",
    "from sklearn.linear_model import Perceptron\n",
    "import random\n",
    "import math\n",
    "import matplotlib.pyplot as plt\n",
    "from typing import List\n",
    "from itertools import product"
   ]
  },
  {
   "cell_type": "markdown",
   "metadata": {},
   "source": [
    "Instructions: https://work.caltech.edu/homework/hw3.pdf\n",
    "\n",
    "Answers: http://work.caltech.edu/homework/hw3_sol.pdf"
   ]
  },
  {
   "cell_type": "markdown",
   "metadata": {},
   "source": [
    "## Generalization Error"
   ]
  },
  {
   "cell_type": "markdown",
   "metadata": {},
   "source": [
    "![](imgs/generr1.png)"
   ]
  },
  {
   "cell_type": "markdown",
   "metadata": {},
   "source": [
    "The bound should be"
   ]
  },
  {
   "cell_type": "markdown",
   "metadata": {},
   "source": [
    "M = 1\n",
    "epsilon = 0.05\n",
    "\n",
    "2 * M * exp(-2 * (epsilon**2) * N) = 0.03"
   ]
  },
  {
   "cell_type": "markdown",
   "metadata": {},
   "source": [
    "![](imgs/math1.jpg)"
   ]
  },
  {
   "cell_type": "markdown",
   "metadata": {},
   "source": [
    "So the minimum number of N needed should be (b)"
   ]
  },
  {
   "cell_type": "markdown",
   "metadata": {},
   "source": [
    "### 2. Repeat for the case M = 10"
   ]
  },
  {
   "cell_type": "markdown",
   "metadata": {},
   "source": [
    "![](imgs/math2.jpg)"
   ]
  },
  {
   "cell_type": "markdown",
   "metadata": {},
   "source": [
    "So"
   ]
  },
  {
   "cell_type": "code",
   "execution_count": 3,
   "metadata": {},
   "outputs": [
    {
     "data": {
      "text/plain": [
       "1300.4580341747944"
      ]
     },
     "execution_count": 3,
     "metadata": {},
     "output_type": "execute_result"
    }
   ],
   "source": [
    "M = 10\n",
    "N_bound = (np.log(0.03) - np.log(2) - np.log(M)) / (-2 * (0.05**2))\n",
    "N_bound"
   ]
  },
  {
   "cell_type": "markdown",
   "metadata": {},
   "source": [
    "So the answer here is (c)"
   ]
  },
  {
   "cell_type": "markdown",
   "metadata": {},
   "source": [
    "### 3. Repeat for the case M = 100"
   ]
  },
  {
   "cell_type": "code",
   "execution_count": 6,
   "metadata": {},
   "outputs": [
    {
     "data": {
      "text/plain": [
       "1760.9750527736037"
      ]
     },
     "execution_count": 6,
     "metadata": {},
     "output_type": "execute_result"
    }
   ],
   "source": [
    "M = 100\n",
    "N_bound = (np.log(0.03) - np.log(2) - np.log(M)) / (-2 * (0.05**2))\n",
    "N_bound"
   ]
  },
  {
   "cell_type": "markdown",
   "metadata": {},
   "source": [
    "So the answer here is (d)"
   ]
  },
  {
   "cell_type": "markdown",
   "metadata": {},
   "source": [
    "## Break Point"
   ]
  },
  {
   "cell_type": "markdown",
   "metadata": {},
   "source": [
    "### 4.\n",
    "As shown in class, the (smallest) break point for the Perceptron Model in the\n",
    "two-dimensional case (R\n",
    "2\n",
    ") is 4 points. What is the smallest break point for\n",
    "the Perceptron Model in R\n",
    "3\n",
    "? (i.e., instead of the hypothesis set consisting of\n",
    "separating lines, it consists of separating planes.)"
   ]
  },
  {
   "cell_type": "markdown",
   "metadata": {},
   "source": [
    "I would think 4 as well?"
   ]
  },
  {
   "cell_type": "markdown",
   "metadata": {},
   "source": [
    "But it's wrong."
   ]
  },
  {
   "cell_type": "markdown",
   "metadata": {},
   "source": [
    "Why?"
   ]
  },
  {
   "cell_type": "markdown",
   "metadata": {},
   "source": [
    "Let's build a 3D-Perceptron to find out. A smallest breakpoint `k` by definition means that there is a combination of `k-1` points that can be shattered by the 3D-Perceptron, but there is no combination of `k` points that can be shattered.\n",
    "\n",
    "So let's first, for `N=4`, \n",
    "\n",
    "1. Generate `EXPERIMENTS` number of random samples of `N` points (x,y,z) (since that's the breakpoint for 2D perceptrons)\n",
    "2. For each point, find all `2^N` dichotomies (possible solutions)\n",
    "3. Attempt to fit all dichotomies, and see if 3D PLA converges for all of them. \n",
    "3a.) If it does, then we've \"shattered\" this data set of size `N`, and hence `N` cannot be a breakpoint.\n",
    "3b.) If it doesn't, repeat to see if was just a \"bad\" random choice of set, and any of the others satisfy 3a). If not, we conclude that `N` is a breakpoint.\n",
    "\n",
    "                                                \n"
   ]
  },
  {
   "cell_type": "code",
   "execution_count": 18,
   "metadata": {},
   "outputs": [
    {
     "name": "stdout",
     "output_type": "stream",
     "text": [
      "(1797, 64)\n",
      "(1797,)\n"
     ]
    }
   ],
   "source": [
    "from sklearn.datasets import load_digits\n",
    "\n",
    "X, y = load_digits(return_X_y=True)\n",
    "print(X.shape)\n",
    "print(y.shape)"
   ]
  },
  {
   "cell_type": "code",
   "execution_count": 56,
   "metadata": {},
   "outputs": [
    {
     "name": "stdout",
     "output_type": "stream",
     "text": [
      "We've shattered the data set [[ 0.30430459  0.68612827  0.13160432]\n",
      " [ 0.43895557  0.84705855  0.75776665]\n",
      " [ 0.64361878  0.71194008  0.65190386]\n",
      " [ 0.63154882 -0.10196242 -0.0353995 ]], hence 4 cannot be a breakpoint\n"
     ]
    }
   ],
   "source": [
    "N = 4\n",
    "EXPERIMENTS = 1000\n",
    "\n",
    "# Generate the set of all 2^N possible dichotomies (the cartesian product of [0,1] with itself, with N repetitions) \n",
    "DICHOTOMIES = np.array(list(product([0, 1], repeat = N)))\n",
    "\n",
    "for _ in range(EXPERIMENTS):\n",
    "    # Generate N random (x, y, z) points\n",
    "    X = np.random.uniform(-1, 1, size=(N, 3))\n",
    "    shattered = True\n",
    "    for y in DICHOTOMIES:\n",
    "        clf = Perceptron(tol=None) # We don't want the perceptron to converge at all if it can't find a solution\n",
    "        \n",
    "        # Working around this Perceptron model not allowing for only 1 class in the \"training data\"\n",
    "        # That means we won't know if it shatters the points fully (2/16 solutions can't be generated)\n",
    "        # But this should still do\n",
    "        if len(np.unique(y)) == 1:\n",
    "            clf.partial_fit(X, y, classes=np.array([0,1]))\n",
    "        else:\n",
    "            clf.fit(X, y) \n",
    "            \n",
    "        if clf.score(X, y) != 1:\n",
    "            print(f\"Looks like we were unable to solve this data set for the dichotomy {y} on data set {X}\")\n",
    "            print(f\"Score is {clf.score(X,y)}\")\n",
    "            shattered = False\n",
    "            \n",
    "    if shattered:\n",
    "        print(f\"We've shattered the data set {X}, hence {N} cannot be a breakpoint\")\n",
    "        break"
   ]
  },
  {
   "cell_type": "markdown",
   "metadata": {},
   "source": [
    "We conclude that 4 cannot be a breakpoint. Let's try 5."
   ]
  },
  {
   "cell_type": "code",
   "execution_count": 59,
   "metadata": {},
   "outputs": [],
   "source": [
    "N = 5\n",
    "EXPERIMENTS = 1000\n",
    "\n",
    "# Generate the set of all 2^N possible dichotomies (the cartesian product of [0,1] with itself, with N repetitions) \n",
    "DICHOTOMIES = np.array(list(product([0, 1], repeat = N)))\n",
    "\n",
    "for _ in range(EXPERIMENTS):\n",
    "    # Generate N random (x, y, z) points\n",
    "    X = np.random.uniform(-1, 1, size=(N, 3))\n",
    "    shattered = True\n",
    "    for y in DICHOTOMIES:\n",
    "        clf = Perceptron(tol=None,shuffle=False) # We don't want the perceptron to converge at all if it can't find a solution\n",
    "        \n",
    "        # Working around this Perceptron model not allowing for only 1 class in the \"training data\"\n",
    "        # That means we won't know if it shatters the points fully (2/16 solutions can't be generated)\n",
    "        # But this should still do\n",
    "        if len(np.unique(y)) == 1:\n",
    "            clf.partial_fit(X, y, classes=np.array([0,1]))\n",
    "        else:\n",
    "            clf.fit(X, y) \n",
    "            \n",
    "        if clf.score(X, y) != 1:\n",
    "#             print(f\"Looks like we were unable to solve this data set for the dichotomy {y} on data set {X}\")\n",
    "#             print(f\"Score is {clf.score(X,y)}\")\n",
    "            shattered = False\n",
    "            \n",
    "    if shattered:\n",
    "        print(f\"We've shattered the data set {X}, hence {N} cannot be a breakpoint\")\n",
    "        break"
   ]
  },
  {
   "cell_type": "markdown",
   "metadata": {},
   "source": [
    "We've tried 1000 different samples of size 5, and none could be shattered by the 3D Perceptron.\n",
    "\n",
    "Hence we conclude that 5 is a breakpoint of the 3D Perceptron."
   ]
  },
  {
   "cell_type": "markdown",
   "metadata": {},
   "source": [
    "![](imgs/growth.png)"
   ]
  },
  {
   "cell_type": "markdown",
   "metadata": {},
   "source": [
    "The only restriction on the growth function is that it is bounded by 2^N\n",
    "\n",
    "v) is the bound itself, so definitely possible\n",
    "\n",
    "\n",
    "i) is smaller than 2^N for all N, so possible"
   ]
  },
  {
   "cell_type": "markdown",
   "metadata": {},
   "source": [
    "Let's graph the others!"
   ]
  },
  {
   "cell_type": "code",
   "execution_count": 17,
   "metadata": {},
   "outputs": [
    {
     "data": {
      "image/png": "[encoded data removed]",
      "text/plain": [
       "<Figure size 432x288 with 1 Axes>"
      ]
     },
     "metadata": {
      "needs_background": "light"
     },
     "output_type": "display_data"
    }
   ],
   "source": [
    "def bound(N):\n",
    "    return 2 ** N\n",
    "\n",
    "def two(N):\n",
    "    return 1 + N + scipy.special.comb(N, 2)\n",
    "\n",
    "x = np.arange(0, 10, 0.1)\n",
    "yBound = bound(x)\n",
    "yTwo = two(x)\n",
    "\n",
    "plt.plot(x, yBound, color='g', label='bound')\n",
    "plt.plot(x, yTwo, label='ii(N)')\n",
    "plt.legend()\n",
    "plt.show()"
   ]
  },
  {
   "cell_type": "code",
   "execution_count": 18,
   "metadata": {},
   "outputs": [
    {
     "data": {
      "image/png": "[encoded data removed]",
      "text/plain": [
       "<Figure size 432x288 with 1 Axes>"
      ]
     },
     "metadata": {
      "needs_background": "light"
     },
     "output_type": "display_data"
    }
   ],
   "source": [
    "x = np.arange(0, 100, 0.1)\n",
    "yBound = bound(x)\n",
    "yTwo = two(x)\n",
    "\n",
    "plt.plot(x, yBound, color='g', label='bound')\n",
    "plt.plot(x, yTwo, label='ii(N)')\n",
    "plt.legend()\n",
    "plt.show()\n"
   ]
  },
  {
   "cell_type": "markdown",
   "metadata": {},
   "source": [
    "That's looking very good for ii), which leaves possible answers (b), (d) and (e)"
   ]
  },
  {
   "cell_type": "markdown",
   "metadata": {},
   "source": [
    "Let's look at (iii)"
   ]
  },
  {
   "cell_type": "code",
   "execution_count": 26,
   "metadata": {},
   "outputs": [
    {
     "data": {
      "image/png": "[encoded data removed]",
      "text/plain": [
       "<Figure size 432x288 with 1 Axes>"
      ]
     },
     "metadata": {
      "needs_background": "light"
     },
     "output_type": "display_data"
    }
   ],
   "source": [
    "def three(N):\n",
    "    acc = 0\n",
    "    max = math.floor(math.sqrt(N))\n",
    "    for i in range(1, max + 1):\n",
    "        acc += scipy.special.comb(N, i)\n",
    "    return acc\n",
    "\n",
    "\n",
    "X = np.arange(0, 10, 0.1)\n",
    "yBound = bound(X)\n",
    "yThree = np.vectorize(three)(X)\n",
    "\n",
    "plt.plot(X, yBound, color='g', label='bound')\n",
    "plt.plot(X, yThree, label='iii(N)')\n",
    "plt.legend()\n",
    "plt.show()    "
   ]
  },
  {
   "cell_type": "code",
   "execution_count": 27,
   "metadata": {},
   "outputs": [
    {
     "data": {
      "image/png": "[encoded data removed]",
      "text/plain": [
       "<Figure size 432x288 with 1 Axes>"
      ]
     },
     "metadata": {
      "needs_background": "light"
     },
     "output_type": "display_data"
    }
   ],
   "source": [
    "X = np.arange(0, 100, 0.1)\n",
    "yBound = bound(X)\n",
    "yThree = np.vectorize(three)(X)\n",
    "\n",
    "plt.plot(X, yBound, color='g', label='bound')\n",
    "plt.plot(X, yThree, label='iii(N)')\n",
    "plt.legend()\n",
    "plt.show()    "
   ]
  },
  {
   "cell_type": "markdown",
   "metadata": {},
   "source": [
    "That's also looking very promising for (iii), so (b) can't be the solution and we need to look at (iv) next:"
   ]
  },
  {
   "cell_type": "markdown",
   "metadata": {},
   "source": [
    "Now 2^(N/2) is clearly bounded by 2^N, so (iv) also works.\n",
    "\n",
    "Hence we conclude the solution is (e)"
   ]
  },
  {
   "cell_type": "markdown",
   "metadata": {},
   "source": [
    "Except.... it's wrong =) why? \n",
    "\n",
    "Is there something wrong with having the floor() bound in a growth function?"
   ]
  },
  {
   "cell_type": "markdown",
   "metadata": {},
   "source": [
    "Ooooooh, it's because N=1 for (iii) and (iv), which means that the max number of dichotomies on a single data point is 1, which also means that the max number of dichotomies for any N > 1 cannot exceed 1. However, the formula returns larger numbers than 1 for N>1, so it's not a valid growth function."
   ]
  },
  {
   "cell_type": "markdown",
   "metadata": {},
   "source": [
    "## Fun with Intervals"
   ]
  },
  {
   "cell_type": "markdown",
   "metadata": {},
   "source": [
    "![](imgs/intervals1.png)"
   ]
  },
  {
   "cell_type": "code",
   "execution_count": null,
   "metadata": {},
   "outputs": [],
   "source": []
  }
 ],
 "metadata": {
  "kernelspec": {
   "display_name": "Python3 - python",
   "language": "python",
   "name": "ipython_python"
  },
  "language_info": {
   "codemirror_mode": {
    "name": "ipython",
    "version": 3
   },
   "file_extension": ".py",
   "mimetype": "text/x-python",
   "name": "python",
   "nbconvert_exporter": "python",
   "pygments_lexer": "ipython3",
   "version": "3.7.7"
  }
 },
 "nbformat": 4,
 "nbformat_minor": 4
}
